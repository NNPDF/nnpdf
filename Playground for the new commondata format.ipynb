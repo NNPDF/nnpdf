{
 "cells": [
  {
   "cell_type": "code",
   "execution_count": 1,
   "id": "cc3f217c",
   "metadata": {},
   "outputs": [],
   "source": [
    "from inspect import ismethod\n",
    "from IPython.display import HTML as html_print\n",
    "import numpy as np\n",
    "\n",
    "from validphys.api import API\n",
    "from validphys.commondataparser import parse_commondata_new"
   ]
  },
  {
   "cell_type": "markdown",
   "id": "9de23dc5",
   "metadata": {},
   "source": [
    "## Old-New comparison\n",
    "\n",
    "The next cells use `parse_commondata` and `pase_commondata_new` to compare the `CommonData` objects returned by parsing common data files in the old and new styles.\n",
    "\n",
    "At the moment the \"new commondatas\" are in a hard-coded folder called `new_data` (it is hardcoded in `commondataparser.py` while the old ones are taken from whatever was installed in `share/NNPDF/data`. Eventually the new commondata will also live there.\n",
    "\n",
    "The comparison checks that the data, uncertainties and kinematics are the same (or as close as they can be). The format of the dataframes is slightly different at the moment, but this is at the moment a desired result."
   ]
  },
  {
   "cell_type": "code",
   "execution_count": 2,
   "id": "9872e34d",
   "metadata": {},
   "outputs": [],
   "source": [
    "# Helper functions\n",
    "\n",
    "def load_old_and_new(old_name, new_name, theoryid=200):\n",
    "    \"\"\"Load the old and new commondata. The theory id is needed by the validphys API when using .dataset\n",
    "    but it is never used. Putting 200 as default since I guess everyone has that theory installed already.\n",
    "    \"\"\"\n",
    "    old_cd = API.dataset(dataset_input={\"dataset\": old_name}, use_cuts=\"nocuts\", theoryid=theoryid).load_commondata()\n",
    "\n",
    "    # If this doesn't find your data, change the path inside `commondataparser.py` to wherever your data is\n",
    "    # the variable is `_folder_data` at the beginning of the file.\n",
    "    new_cd = parse_commondata_new(new_name)\n",
    "    return old_cd, new_cd\n",
    "\n",
    "def print_check(msg, res):\n",
    "    color = \"green\" if res else \"red\"\n",
    "    display(html_print(f\"<text style=color:{color}>equal={res} {msg}</text>\"))\n",
    "\n",
    "def check_this(cds, method, naming=None, unc=False):\n",
    "    \"\"\"Check whether the results of `method` for two different commondata agree\"\"\"\n",
    "    if len(cds) != 2:\n",
    "        raise ValueError(f\"Can only check two commondata, not {len(cds)}\")\n",
    "        \n",
    "    test = None\n",
    "    check_result = True\n",
    "    if naming is None:\n",
    "        naming = method\n",
    "    \n",
    "    values = []\n",
    "    for cd in cds:\n",
    "        res = getattr(cd, method)\n",
    "        if ismethod(res): # since sometimes we have methods, sometimes they are attributes\n",
    "            res = res()\n",
    "        values.append(res)\n",
    "        \n",
    "    check_result = np.allclose(*values)\n",
    "    \n",
    "    print_check(f\"Testing {naming} ({method})\", check_result)\n",
    "    \n",
    "    if not check_result:\n",
    "        nnn = (values[0]+values[1]) + 1e-7\n",
    "        val = np.max( (values[0]-values[1])/nnn*100)\n",
    "        if val == val:\n",
    "            print(f\"       Max % diff: {np.abs(val)}\")\n",
    "\n",
    "def check_systematics(cds):\n",
    "    additive_attr = \"additive_errors\"\n",
    "    multipli_attr = \"multiplicative_errors\"\n",
    "    \n",
    "    add = []\n",
    "    mult = []\n",
    "    covmats = []\n",
    "    syserr = []\n",
    "    \n",
    "    nsys = cds[0].nsys\n",
    "\n",
    "    for cd in cds:\n",
    "        if cd.nsys != nsys:\n",
    "            print_check(f\"The number of systematic uncertainites is different!!\", False)\n",
    "            # it doesn't make sense to continue here\n",
    "            return\n",
    "            \n",
    "        res_add = getattr(cd, additive_attr)\n",
    "        res_mult = getattr(cd, multipli_attr)\n",
    "        res_sys = cd.systematic_errors()\n",
    "        \n",
    "        add.append(res_add)\n",
    "        mult.append(res_mult)\n",
    "        syserr.append(res_sys)\n",
    "        covmats.append(res_add @ res_add.T)\n",
    "    \n",
    "    # Even if the number of systematics is the same, it is not a given that they are\n",
    "    # distributed in the same way between multiplicative and additive, check that\n",
    "    all_nmul = [i.shape[-1] for i in mult]    \n",
    "    if not len(np.unique(all_nmul)) == 1:\n",
    "        print(f\" > The combination of multiplicative and additive is different!\")\n",
    "        check_sys = np.allclose(*syserr)\n",
    "        print_check(f\"Testing the raw table of systematics: systematic_errors()\", check_sys)\n",
    "        return\n",
    "\n",
    "    check_multiplicative = np.allclose(*mult)\n",
    "    print_check(f\"Testing multiplicative errors ({multipli_attr})\", check_multiplicative)\n",
    "        \n",
    "    check_additive = np.allclose(*add)\n",
    "    print_check(f\"Testing additive errors ({additive_attr})\", check_additive)\n",
    "    \n",
    "    # When checking additive uncertainties, check also the covmat obtained from res @ res.T\n",
    "    # since there might -1 signs in the eigenvectors\n",
    "    if not check_additive:\n",
    "        check_again = np.allclose(*covmats)\n",
    "        print(\" > > The resulting covmat instead agrees? \", check_again)\n",
    "        \n",
    "\n",
    "def run_checks(old_cd, new_cd):\n",
    "    \"\"\"Run through a number of checks to ensure they contain the same information\"\"\"\n",
    "    cds = [old_cd, new_cd]\n",
    "        \n",
    "    check_this(cds, \"get_cv\", naming=\"central_values\")\n",
    "    check_this(cds, \"get_kintable\", naming=\"kinematics\")\n",
    "    check_this(cds, \"stat_errors\")\n",
    "    check_systematics(cds)"
   ]
  },
  {
   "cell_type": "code",
   "execution_count": 3,
   "id": "bf73a19b",
   "metadata": {},
   "outputs": [],
   "source": [
    "def test_group(datasets, nofail=False):\n",
    "    all_cds = []\n",
    "    for i, (old_name, new_name) in enumerate(datasets.items()):\n",
    "        print(f\"\\nChecking {i} {new_name} (old name: {old_name})\")\n",
    "        try:\n",
    "            old_cd, new_cd = load_old_and_new(old_name, new_name)\n",
    "            all_cds.append((old_cd, new_cd))\n",
    "            print(\" > Comparing values...\")\n",
    "            run_checks(old_cd, new_cd)\n",
    "        except FileNotFoundError:\n",
    "            print(f\"Files for {new_name} not found\")\n",
    "            continue\n",
    "        except Exception as e:\n",
    "            if nofail:\n",
    "                print(f\"### FAILED for {new_name}\\n\")\n",
    "                continue\n",
    "            raise e\n",
    "    return all_cds"
   ]
  },
  {
   "cell_type": "markdown",
   "id": "f77d6102",
   "metadata": {},
   "source": [
    "## FT Drell-yan\n",
    "\n",
    "These datasets can be found in the `E605` branch [#1679](https://github.com/NNPDF/nnpdf/pull/1679)"
   ]
  },
  {
   "cell_type": "code",
   "execution_count": 4,
   "id": "a1c03485",
   "metadata": {
    "scrolled": false
   },
   "outputs": [
    {
     "name": "stdout",
     "output_type": "stream",
     "text": [
      "\n",
      "Checking 0 E605_DY_38P8GEV_PXSEC (old name: DYE605)\n",
      "Files for E605_DY_38P8GEV_PXSEC not found\n",
      "\n",
      "Checking 1 E866_DY_800GEV_PXSEC (old name: DYE886P)\n",
      "Files for E866_DY_800GEV_PXSEC not found\n",
      "\n",
      "Checking 2 E866_DY_800GEV_RATIO_PDXSECRATIO (old name: DYE886R)\n",
      "Files for E866_DY_800GEV_RATIO_PDXSECRATIO not found\n",
      "\n",
      "Checking 3 E906_DY_120GEV_PDXSECRATIO (old name: DYE906R)\n",
      "Files for E906_DY_120GEV_PDXSECRATIO not found\n"
     ]
    }
   ],
   "source": [
    "datasets = {\n",
    "    \"DYE605\":  \"E605_DY_38P8GEV_PXSEC\",\n",
    "    \"DYE886P\": \"E866_DY_800GEV_PXSEC\",\n",
    "    \"DYE886R\": \"E866_DY_800GEV_RATIO_PDXSECRATIO\",\n",
    "    \"DYE906R\": \"E906_DY_120GEV_PDXSECRATIO\",\n",
    "}\n",
    "\n",
    "res_ft = test_group(datasets, nofail=False)\n",
    "\n",
    "\n",
    "#old_cd, new_cd = load_old_and_new(\"DYE906R\", \"E906_DY_120GEV_PDXSECRATIO\")\n",
    "#run_checks(old_cd, new_cd)"
   ]
  },
  {
   "cell_type": "markdown",
   "id": "140e48f3",
   "metadata": {},
   "source": [
    "## Atlas datasets\n",
    "\n",
    "These datasets can be found in the `gluon_pdf_ncd` branch"
   ]
  },
  {
   "cell_type": "code",
   "execution_count": 23,
   "id": "09a38520",
   "metadata": {
    "scrolled": false
   },
   "outputs": [
    {
     "name": "stdout",
     "output_type": "stream",
     "text": [
      "old: ATLAS_TTB_DIFF_8TEV_LJ_TTMNORM, new: ATLAS_TTBAR_8TEV_LJ_DIF_MTTBAR-NORM\n"
     ]
    },
    {
     "data": {
      "text/html": [
       "<text style=color:red>equal=False Testing central_values (get_cv)</text>"
      ],
      "text/plain": [
       "<IPython.core.display.HTML object>"
      ]
     },
     "metadata": {},
     "output_type": "display_data"
    },
    {
     "name": "stdout",
     "output_type": "stream",
     "text": [
      "       Max % diff: 0.5745252872439593\n"
     ]
    },
    {
     "data": {
      "text/html": [
       "<text style=color:red>equal=False Testing kinematics (get_kintable)</text>"
      ],
      "text/plain": [
       "<IPython.core.display.HTML object>"
      ]
     },
     "metadata": {},
     "output_type": "display_data"
    },
    {
     "name": "stdout",
     "output_type": "stream",
     "text": [
      "       Max % diff: 0.3120838497055149\n"
     ]
    },
    {
     "data": {
      "text/html": [
       "<text style=color:green>equal=True Testing stat_errors (stat_errors)</text>"
      ],
      "text/plain": [
       "<IPython.core.display.HTML object>"
      ]
     },
     "metadata": {},
     "output_type": "display_data"
    },
    {
     "data": {
      "text/html": [
       "<text style=color:red>equal=False The number of systematic uncertainites is different!!</text>"
      ],
      "text/plain": [
       "<IPython.core.display.HTML object>"
      ]
     },
     "metadata": {},
     "output_type": "display_data"
    }
   ],
   "source": [
    "datasets = {\n",
    "    \"ATLASTTBARTOT13TEV\": \"ATLAS_TTBAR_13TEV_TOT_X-SEC\",\n",
    "    \"ATLASTTBARTOT7TEV\": \"ATLAS_TTBAR_7TEV_TOT_X-SEC\",\n",
    "    \"ATLAS_TOPDIFF_DILEPT_8TEV_TTM\": \"ATLAS_TTBAR_8TEV_2L_DIF_MTTBAR\",\n",
    "    \"ATLAS_TOPDIFF_DILEPT_8TEV_TTMNORM\": \"ATLAS_TTBAR_8TEV_2L_DIF_MTTBAR-NORM\",\n",
    "    \"ATLAS_TOPDIFF_DILEPT_8TEV_TTRAP\": \"ATLAS_TTBAR_8TEV_2L_DIF_YTTBAR\",\n",
    "    \"ATLAS_TOPDIFF_DILEPT_8TEV_TTRAPNORM\": \"ATLAS_TTBAR_8TEV_2L_DIF_YTTBAR-NORM\",\n",
    "    \"ATLAS_TTB_DIFF_8TEV_LJ_TTM\": \"ATLAS_TTBAR_8TEV_LJ_DIF_MTTBAR\",\n",
    "    \"ATLAS_TTB_DIFF_8TEV_LJ_TTMNORM\":\"ATLAS_TTBAR_8TEV_LJ_DIF_MTTBAR-NORM\",\n",
    "    \"ATLAS_TTB_DIFF_8TEV_LJ_TPT\": \"ATLAS_TTBAR_8TEV_LJ_DIF_PTT\",\n",
    "    \"ATLAS_TTB_DIFF_8TEV_LJ_TPTNORM\": \"ATLAS_TTBAR_8TEV_LJ_DIF_PTT-NORM\",\n",
    "    \"ATLAS_TTB_DIFF_8TEV_LJ_TRAP\": \"ATLAS_TTBAR_8TEV_LJ_DIF_YT\",\n",
    "    \"ATLAS_TTB_DIFF_8TEV_LJ_TRAPNORM\": \"ATLAS_TTBAR_8TEV_LJ_DIF_YT-NORM\",\n",
    "    \"ATLAS_TTB_DIFF_8TEV_LJ_TTRAP\": \"ATLAS_TTBAR_8TEV_LJ_DIF_YTTBAR\",\n",
    "    \"ATLAS_TTB_DIFF_8TEV_LJ_TTRAPNORM\": \"ATLAS_TTBAR_8TEV_LJ_DIF_YTTBAR-NORM\",\n",
    "    \"ATLASTTBARTOT8TEV\": \"ATLAS_TTBAR_8TEV_TOT_X-SEC\"\n",
    "}\n",
    "\n",
    "#res = test_group(datasets, nofail=True)\n",
    "\n",
    "old_name = list(datasets)[7]\n",
    "new_name = datasets[old_name]\n",
    "print(f\"old: {old_name}, new: {new_name}\")\n",
    "\n",
    "old_cd, new_cd = load_old_and_new(old_name, new_name)\n",
    "run_checks(old_cd, new_cd)"
   ]
  },
  {
   "cell_type": "code",
   "execution_count": 26,
   "id": "4cc547e8",
   "metadata": {},
   "outputs": [
    {
     "data": {
      "text/plain": [
       "array([4.24583077e-03, 4.17868779e-03, 2.56983525e-03, 1.33185288e-03,\n",
       "       5.63952011e-04, 1.42523530e-04, 1.76074933e-05])"
      ]
     },
     "execution_count": 26,
     "metadata": {},
     "output_type": "execute_result"
    }
   ],
   "source": [
    "new_cd.get_cv()"
   ]
  },
  {
   "cell_type": "code",
   "execution_count": 25,
   "id": "74230ead",
   "metadata": {},
   "outputs": [
    {
     "data": {
      "text/plain": [
       "array([4.29490e-03, 4.20499e-03, 2.55705e-03, 1.31962e-03, 5.54111e-04,\n",
       "       1.38558e-04, 1.64430e-05])"
      ]
     },
     "execution_count": 25,
     "metadata": {},
     "output_type": "execute_result"
    }
   ],
   "source": [
    "old_cd.get_cv()"
   ]
  },
  {
   "cell_type": "markdown",
   "id": "18beecf0",
   "metadata": {},
   "source": [
    "## CMS ttbar\n",
    "\n",
    "These datasets can be found in the `more_efficient_metadata_for_new_commondata` branch [#1684](https://github.com/NNPDF/nnpdf/pull/1684)"
   ]
  },
  {
   "cell_type": "code",
   "execution_count": 8,
   "id": "d2852f43",
   "metadata": {
    "scrolled": false
   },
   "outputs": [
    {
     "name": "stdout",
     "output_type": "stream",
     "text": [
      "\n",
      "Checking 0 CMS_TTBAR_8TEV_LJ_DIF_YTTBAR-NORM (old name: CMSTOPDIFF8TEVTTRAPNORM)\n",
      " > Comparing values...\n"
     ]
    },
    {
     "data": {
      "text/html": [
       "<text style=color:green>equal=True Testing central_values (get_cv)</text>"
      ],
      "text/plain": [
       "<IPython.core.display.HTML object>"
      ]
     },
     "metadata": {},
     "output_type": "display_data"
    },
    {
     "data": {
      "text/html": [
       "<text style=color:red>equal=False Testing kinematics (get_kintable)</text>"
      ],
      "text/plain": [
       "<IPython.core.display.HTML object>"
      ]
     },
     "metadata": {},
     "output_type": "display_data"
    },
    {
     "name": "stdout",
     "output_type": "stream",
     "text": [
      "       Max % diff: 0.3120838497055149\n"
     ]
    },
    {
     "data": {
      "text/html": [
       "<text style=color:green>equal=True Testing stat_errors (stat_errors)</text>"
      ],
      "text/plain": [
       "<IPython.core.display.HTML object>"
      ]
     },
     "metadata": {},
     "output_type": "display_data"
    },
    {
     "data": {
      "text/html": [
       "<text style=color:green>equal=True Testing multiplicative errors (multiplicative_errors)</text>"
      ],
      "text/plain": [
       "<IPython.core.display.HTML object>"
      ]
     },
     "metadata": {},
     "output_type": "display_data"
    },
    {
     "data": {
      "text/html": [
       "<text style=color:red>equal=False Testing additive errors (additive_errors)</text>"
      ],
      "text/plain": [
       "<IPython.core.display.HTML object>"
      ]
     },
     "metadata": {},
     "output_type": "display_data"
    },
    {
     "name": "stdout",
     "output_type": "stream",
     "text": [
      " > > The resulting covmat instead agrees?  True\n"
     ]
    }
   ],
   "source": [
    "datasets = {\n",
    "    \"CMSTOPDIFF8TEVTTRAPNORM\":  \"CMS_TTBAR_8TEV_LJ_DIF_YTTBAR-NORM\",\n",
    "}\n",
    "\n",
    "res = test_group(datasets, nofail=False)"
   ]
  }
 ],
 "metadata": {
  "kernelspec": {
   "display_name": "Python 3 (ipykernel)",
   "language": "python",
   "name": "python3"
  },
  "language_info": {
   "codemirror_mode": {
    "name": "ipython",
    "version": 3
   },
   "file_extension": ".py",
   "mimetype": "text/x-python",
   "name": "python",
   "nbconvert_exporter": "python",
   "pygments_lexer": "ipython3",
   "version": "3.10.11"
  }
 },
 "nbformat": 4,
 "nbformat_minor": 5
}
