{
 "cells": [
  {
   "cell_type": "code",
   "execution_count": 1,
   "id": "cc3f217c",
   "metadata": {},
   "outputs": [
    {
     "ename": "SyntaxError",
     "evalue": "invalid syntax (commondataparser.py, line 76)",
     "output_type": "error",
     "traceback": [
      "Traceback \u001b[0;36m(most recent call last)\u001b[0m:\n",
      "\u001b[0m  File \u001b[1;32m~/Academic_Workspace/NNPDF/nnvortex/lib/python3.10/site-packages/IPython/core/interactiveshell.py:3433\u001b[0m in \u001b[1;35mrun_code\u001b[0m\n    exec(code_obj, self.user_global_ns, self.user_ns)\u001b[0m\n",
      "\u001b[0m  Cell \u001b[1;32mIn [1], line 5\u001b[0m\n    from validphys.api import API\u001b[0m\n",
      "\u001b[0m  File \u001b[1;32m~/Academic_Workspace/NNPDF/src/nnpdf/validphys2/src/validphys/api.py:21\u001b[0m\n    from validphys.app import providers\u001b[0m\n",
      "\u001b[0m  File \u001b[1;32m~/Academic_Workspace/NNPDF/src/nnpdf/validphys2/src/validphys/app.py:21\u001b[0m\n    from validphys.config import Config, Environment\u001b[0m\n",
      "\u001b[0m  File \u001b[1;32m~/Academic_Workspace/NNPDF/src/nnpdf/validphys2/src/validphys/config.py:34\u001b[0m\n    from validphys.core import (\u001b[0m\n",
      "\u001b[0m  File \u001b[1;32m~/Academic_Workspace/NNPDF/src/nnpdf/validphys2/src/validphys/core.py:32\u001b[0m\n    from validphys.fkparser import load_fktable, parse_cfactor\u001b[0m\n",
      "\u001b[0m  File \u001b[1;32m~/Academic_Workspace/NNPDF/src/nnpdf/validphys2/src/validphys/fkparser.py:29\u001b[0m\n    from validphys.pineparser import pineappl_reader\u001b[0m\n",
      "\u001b[0;36m  File \u001b[0;32m~/Academic_Workspace/NNPDF/src/nnpdf/validphys2/src/validphys/pineparser.py:11\u001b[0;36m\n\u001b[0;31m    from validphys.commondataparser import TheoryMeta, EXT\u001b[0;36m\n",
      "\u001b[0;36m  File \u001b[0;32m~/Academic_Workspace/NNPDF/src/nnpdf/validphys2/src/validphys/commondataparser.py:76\u001b[0;36m\u001b[0m\n\u001b[0;31m    ValidOperation = Literal[ *['RATIO', 'ASY', 'ADD', 'SMN', 'COM', 'SMT', 'NULL'] ]\u001b[0m\n\u001b[0m                              ^\u001b[0m\n\u001b[0;31mSyntaxError\u001b[0m\u001b[0;31m:\u001b[0m invalid syntax\n"
     ]
    }
   ],
   "source": [
    "from inspect import ismethod\n",
    "from IPython.display import HTML as html_print\n",
    "import numpy as np\n",
    "\n",
    "from validphys.api import API\n",
    "from validphys.commondataparser import parse_commondata_new"
   ]
  },
  {
   "cell_type": "markdown",
   "id": "9de23dc5",
   "metadata": {},
   "source": [
    "## Old-New comparison\n",
    "\n",
    "The next cells use `parse_commondata` and `pase_commondata_new` to compare the `CommonData` objects returned by parsing common data files in the old and new styles.\n",
    "\n",
    "At the moment the \"new commondatas\" are in a hard-coded folder called `new_data` (it is hardcoded in `commondataparser.py` while the old ones are taken from whatever was installed in `share/NNPDF/data`. Eventually the new commondata will also live there.\n",
    "\n",
    "The comparison checks that the data, uncertainties and kinematics are the same (or as close as they can be). The format of the dataframes is slightly different at the moment, but this is at the moment a desired result."
   ]
  },
  {
   "cell_type": "code",
   "execution_count": null,
   "id": "9872e34d",
   "metadata": {},
   "outputs": [],
   "source": [
    "# Helper functions\n",
    "\n",
    "def load_old_and_new(old_name, new_name, theoryid=200):\n",
    "    \"\"\"Load the old and new commondata. The theory id is needed by the validphys API when using .dataset\n",
    "    but it is never used. Putting 200 as default since I guess everyone has that theory installed already.\n",
    "    \"\"\"\n",
    "    old_cd = API.dataset(dataset_input={\"dataset\": old_name}, use_cuts=\"nocuts\", theoryid=theoryid).load_commondata()\n",
    "\n",
    "    # If this doesn't find your data, change the path inside `commondataparser.py` to wherever your data is\n",
    "    # the variable is `_folder_data` at the beginning of the file.\n",
    "    new_cd = parse_commondata_new(new_name)\n",
    "    return old_cd, new_cd\n",
    "\n",
    "def print_check(msg, res):\n",
    "    color = \"green\" if res else \"red\"\n",
    "    display(html_print(f\"<text style=color:{color}>equal={res} {msg}</text>\"))\n",
    "\n",
    "def check_this(cds, method, naming=None):\n",
    "    test = None\n",
    "    check_result = True\n",
    "    if naming is None:\n",
    "        naming = method\n",
    "    \n",
    "    for cd in cds:\n",
    "        res = getattr(cd, method)\n",
    "        if ismethod(res): # since sometimes we have methods, sometimes they are attributes\n",
    "            res = res()\n",
    "        if test is None:\n",
    "            test = res\n",
    "            continue\n",
    "        check_result = np.allclose(res, test)\n",
    "        \n",
    "    print_check(f\"Testing {naming} ({method})\", check_result)\n",
    "\n",
    "\n",
    "def run_checks(old_cd, new_cd):\n",
    "    \"\"\"Run through a number of checks to ensure they contain the same information\"\"\"\n",
    "    cds = [old_cd, new_cd]\n",
    "        \n",
    "    check_this(cds, \"get_cv\", naming=\"central_values\")\n",
    "    check_this(cds, \"get_kintable\", naming=\"kinematics\")\n",
    "    check_this(cds, \"multiplicative_errors\")\n",
    "    check_this(cds, \"additive_errors\")\n",
    "    check_this(cds, \"stat_errors\")"
   ]
  },
  {
   "cell_type": "code",
   "execution_count": null,
   "id": "0b96a673",
   "metadata": {},
   "outputs": [],
   "source": [
    "def test_group(datasets, nofail=False):\n",
    "    all_cds = []\n",
    "    for old_name, new_name in datasets.items():\n",
    "        print(f\"\\nChecking {new_name} (old name: {old_name})\")\n",
    "        try:\n",
    "            old_cd, new_cd = load_old_and_new(old_name, new_name)\n",
    "            all_cds.append((old_cd, new_cd))\n",
    "            print(\" > Comparing values...\")\n",
    "            run_checks(old_cd, new_cd)\n",
    "        except FileNotFoundError:\n",
    "            print(f\"Files for {new_name} not found\")\n",
    "            continue\n",
    "        except Exception as e:\n",
    "            if nofail:\n",
    "                print(f\"### FAILED for {new_name}\\n\")\n",
    "                continue\n",
    "            raise e\n",
    "    return all_cds"
   ]
  },
  {
   "cell_type": "markdown",
   "id": "f77d6102",
   "metadata": {},
   "source": [
    "## FT Drell-yan\n",
    "\n",
    "These datasets can be found in the `E605` branch [#1679](https://github.com/NNPDF/nnpdf/pull/1679)"
   ]
  },
  {
   "cell_type": "code",
   "execution_count": null,
   "id": "a1c03485",
   "metadata": {
    "scrolled": false
   },
   "outputs": [],
   "source": [
    "datasets = {\n",
    "    \"DYE605\":  \"E605_DY_38P8GEV_PXSEC\",\n",
    "    \"DYE886P\": \"E866_DY_800GEV_PXSEC\",\n",
    "    \"DYE886R\": \"E866_DY_800GEV_RATIO_PDXSECRATIO\",\n",
    "    \"DYE906R\": \"E906_DY_120GEV_PDXSECRATIO\",\n",
    "}\n",
    "\n",
    "res_ft = test_group(datasets, nofail=False)\n",
    "\n",
    "\n",
    "#old_cd, new_cd = load_old_and_new(\"DYE906R\", \"E906_DY_120GEV_PDXSECRATIO\")\n",
    "#run_checks(old_cd, new_cd)"
   ]
  },
  {
   "cell_type": "code",
   "execution_count": null,
   "id": "002f5f85",
   "metadata": {},
   "outputs": [],
   "source": [
    "old_cd, new_cd = res_ft[0]\n",
    "\n",
    "old_cd.additive_errors"
   ]
  },
  {
   "cell_type": "code",
   "execution_count": null,
   "id": "1aecea7d",
   "metadata": {},
   "outputs": [],
   "source": [
    "new_cd.additive_errors"
   ]
  },
  {
   "cell_type": "markdown",
   "id": "2edc2156",
   "metadata": {},
   "source": [
    "## CMS ttbar\n",
    "\n",
    "These datasets can be found in the `more_efficient_metadata_for_new_commondata` branch [#1684](https://github.com/NNPDF/nnpdf/pull/1684)"
   ]
  },
  {
   "cell_type": "code",
   "execution_count": null,
   "id": "d2852f43",
   "metadata": {
    "scrolled": false
   },
   "outputs": [],
   "source": [
    "datasets = {\n",
    "    \"CMSTOPDIFF8TEVTTRAPNORM\":  \"CMS_TTBAR_8TEV_LJ_DIF_YTTBAR-NORM\",\n",
    "}\n",
    "\n",
    "res = test_group(datasets, nofail=False)"
   ]
  },
  {
   "cell_type": "code",
   "execution_count": null,
   "id": "0932d4c9",
   "metadata": {},
   "outputs": [],
   "source": []
  }
 ],
 "metadata": {
  "kernelspec": {
   "display_name": "Python 3 (ipykernel)",
   "language": "python",
   "name": "python3"
  },
  "language_info": {
   "codemirror_mode": {
    "name": "ipython",
    "version": 3
   },
   "file_extension": ".py",
   "mimetype": "text/x-python",
   "name": "python",
   "nbconvert_exporter": "python",
   "pygments_lexer": "ipython3",
   "version": "3.10.10"
  }
 },
 "nbformat": 4,
 "nbformat_minor": 5
}
