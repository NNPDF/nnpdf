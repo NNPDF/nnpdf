{
 "cells": [
  {
   "cell_type": "code",
   "execution_count": 8,
   "id": "cc3f217c",
   "metadata": {},
   "outputs": [],
   "source": [
    "from inspect import ismethod\n",
    "from IPython.display import HTML as html_print\n",
    "from matplotlib import pyplot as plt\n",
    "import numpy as np\n",
    "\n",
    "from validphys.api import API\n",
    "from validphys.commondataparser import parse_commondata_new"
   ]
  },
  {
   "cell_type": "code",
   "execution_count": 9,
   "id": "d5b04ab2-d36b-44e0-ad2b-9a2cda2c4b5d",
   "metadata": {},
   "outputs": [],
   "source": [
    "ds = API.plot_fancy(\n",
    "    dataset_input={\"dataset\": \"E605_DY_38P8GEV_PXSEC\"},\n",
    "    use_cuts=\"internal\", \n",
    "    theoryid=400,\n",
    "    pdf=\"NNPDF40_nnlo_as_01180\"\n",
    ")"
   ]
  },
  {
   "cell_type": "code",
   "execution_count": 4,
   "id": "7514dcfc-90cf-497b-8447-fd82e5e2c5e6",
   "metadata": {},
   "outputs": [
    {
     "data": {
      "text/plain": [
       "[PosixPath('uncertainties.yaml')]"
      ]
     },
     "execution_count": 4,
     "metadata": {},
     "output_type": "execute_result"
    }
   ],
   "source": [
    "ds.commondata.metadata.data_uncertainties"
   ]
  },
  {
   "cell_type": "code",
   "execution_count": 5,
   "id": "799e052e-9160-4acf-aa08-a9e57d6df5ef",
   "metadata": {},
   "outputs": [
    {
     "data": {
      "text/plain": [
       "CommonData(setname='E605_DY_38P8GEV_PXSEC', ndata=119, commondataproc='DY', nkin=3, nsys=2, legacy=False)"
      ]
     },
     "execution_count": 5,
     "metadata": {},
     "output_type": "execute_result"
    }
   ],
   "source": [
    "ds.load_commondata()"
   ]
  },
  {
   "cell_type": "markdown",
   "id": "9de23dc5",
   "metadata": {},
   "source": [
    "## Old-New comparison\n",
    "\n",
    "The next cells use `parse_commondata` and `pase_commondata_new` to compare the `CommonData` objects returned by parsing common data files in the old and new styles.\n",
    "\n",
    "At the moment the \"new commondatas\" are in a hard-coded folder called `new_data` (it is hardcoded in `commondataparser.py` while the old ones are taken from whatever was installed in `share/NNPDF/data`. Eventually the new commondata will also live there.\n",
    "\n",
    "The comparison checks that the data, uncertainties and kinematics are the same (or as close as they can be). The format of the dataframes is slightly different at the moment, but this is at the moment a desired result."
   ]
  },
  {
   "cell_type": "code",
   "execution_count": 7,
   "id": "9872e34d",
   "metadata": {},
   "outputs": [],
   "source": [
    "# Helper functions\n",
    "\n",
    "def load_old_and_new(old_name, new_name, theoryid=200):\n",
    "    \"\"\"Load the old and new commondata. The theory id is needed by the validphys API when using .dataset\n",
    "    but it is never used. Putting 200 as default since I guess everyone has that theory installed already.\n",
    "    \"\"\"\n",
    "    \n",
    "    # If this doesn't find your data, change the path inside `loader.py` to wherever your data is\n",
    "    # the variable is `_folder_data` is inside the `check_commondata` function\n",
    "\n",
    "    # Currently validphys understand a dataset is in the \"new\" format if no .dat file is found\n",
    "    old_cd = API.dataset(dataset_input={\"dataset\": old_name}, use_cuts=\"nocuts\", theoryid=theoryid).load_commondata()\n",
    "    new_cd = API.dataset(dataset_input={\"dataset\": new_name}, use_cuts=\"nocuts\", theoryid=theoryid).load_commondata()\n",
    "\n",
    "    if new_cd.legacy:\n",
    "        print(\"Oh no!\")\n",
    "        raise FileNotFoundError(\"The new cd was loaded as an old one, something bad happened\")\n",
    "    if not old_cd.legacy:\n",
    "        print(\"Oh no!\")\n",
    "        raise FileNotFoundError(\"The old cd was loaded as a new one, something bad happened\")\n",
    "\n",
    "    return old_cd, new_cd\n",
    "\n",
    "def print_check(msg, res):\n",
    "    color = \"green\" if res else \"red\"\n",
    "    display(html_print(f\"<text style=color:{color}>equal={res} {msg}</text>\"))\n",
    "\n",
    "def check_this(cds, method, naming=None, unc=False):\n",
    "    \"\"\"Check whether the results of `method` for two different commondata agree\"\"\"\n",
    "    if len(cds) != 2:\n",
    "        raise ValueError(f\"Can only check two commondata, not {len(cds)}\")\n",
    "        \n",
    "    test = None\n",
    "    check_result = True\n",
    "    if naming is None:\n",
    "        naming = method\n",
    "    \n",
    "    values = []\n",
    "    for cd in cds:\n",
    "        res = getattr(cd, method)\n",
    "        if ismethod(res): # since sometimes we have methods, sometimes they are attributes\n",
    "            res = res()\n",
    "        values.append(res)\n",
    "        \n",
    "    check_result = np.allclose(*values)\n",
    "    \n",
    "    print_check(f\"Testing {naming} ({method})\", check_result)\n",
    "    \n",
    "    if not check_result:\n",
    "        nnn = (values[0]+values[1]) + 1e-7\n",
    "        val = np.max( (values[0]-values[1])/nnn*100)\n",
    "        if val == val:\n",
    "            print(f\"       Max % diff: {np.abs(val)}\")\n",
    "\n",
    "def check_systematics(cds):\n",
    "    additive_attr = \"additive_errors\"\n",
    "    multipli_attr = \"multiplicative_errors\"\n",
    "    \n",
    "    add = []\n",
    "    mult = []\n",
    "    covmats = []\n",
    "    syserr = []\n",
    "    \n",
    "    nsys = cds[0].nsys\n",
    "\n",
    "    for cd in cds:\n",
    "        if cd.nsys != nsys:\n",
    "            print_check(f\"The number of systematic uncertainites is different!!\", False)\n",
    "            # it doesn't make sense to continue here\n",
    "            return\n",
    "            \n",
    "        res_add = getattr(cd, additive_attr)\n",
    "        res_mult = getattr(cd, multipli_attr)\n",
    "        res_sys = cd.systematic_errors()\n",
    "        \n",
    "        add.append(res_add)\n",
    "        mult.append(res_mult)\n",
    "        syserr.append(res_sys)\n",
    "        covmats.append(res_add @ res_add.T)\n",
    "    \n",
    "    # Even if the number of systematics is the same, it is not a given that they are\n",
    "    # distributed in the same way between multiplicative and additive, check that\n",
    "    all_nmul = [i.shape[-1] for i in mult]    \n",
    "    if not len(np.unique(all_nmul)) == 1:\n",
    "        print(f\" > The combination of multiplicative and additive is different!\")\n",
    "        check_sys = np.allclose(*syserr)\n",
    "        print_check(f\"Testing the raw table of systematics: systematic_errors()\", check_sys)\n",
    "        return\n",
    "\n",
    "    check_multiplicative = np.allclose(*mult)\n",
    "    print_check(f\"Testing multiplicative errors ({multipli_attr})\", check_multiplicative)\n",
    "        \n",
    "    check_additive = np.allclose(*add)\n",
    "    print_check(f\"Testing additive errors ({additive_attr})\", check_additive)\n",
    "    \n",
    "    # When checking additive uncertainties, check also the covmat obtained from res @ res.T\n",
    "    # since there might -1 signs in the eigenvectors\n",
    "    if not check_additive:\n",
    "        check_again = np.allclose(*covmats)\n",
    "        print(\" > > The resulting covmat instead agrees? \", check_again)\n",
    "        \n",
    "\n",
    "def run_checks(old_cd, new_cd):\n",
    "    \"\"\"Run through a number of checks to ensure they contain the same information\"\"\"\n",
    "    cds = [old_cd, new_cd]\n",
    "        \n",
    "    check_this(cds, \"get_cv\", naming=\"central_values\")\n",
    "    check_this(cds, \"get_kintable\", naming=\"kinematics\")\n",
    "    check_this(cds, \"stat_errors\")\n",
    "    check_systematics(cds)\n",
    "    \n",
    "    \n",
    "def parsedat(dat_str):\n",
    "    \"\"\"Parse info from https://github.com/NNPDF/nnpdf/issues/1709\"\"\"\n",
    "    ret = \"datasets = {\"\n",
    "    for i in dat_str.split(\"\\n\"):\n",
    "        sp = i.strip().split(\"|\")\n",
    "        new = f'\"{sp[1].strip()}\"'\n",
    "        old = sp[2].strip()\n",
    "        if old == \"NA\":\n",
    "            old = \"None\"\n",
    "        else:\n",
    "            old = f'\"{old}\"'\n",
    "        ret += f\"\\n    {new} : {old},\"\n",
    "    ret += \"\\n}\"\n",
    "    print(ret)"
   ]
  },
  {
   "cell_type": "code",
   "execution_count": 3,
   "id": "bf73a19b",
   "metadata": {},
   "outputs": [],
   "source": [
    "def test_group(datasets, nofail=False, only_reader=False, skip = None):\n",
    "    all_cds = []\n",
    "    for i, (new_name, old_name) in enumerate(datasets.items()):\n",
    "        if skip is not None:\n",
    "            if i < skip:\n",
    "                continue\n",
    "        print(f\"\\nChecking {i} {new_name} (old name: {old_name})\")\n",
    "        try:\n",
    "            old_cd, new_cd = load_old_and_new(old_name, new_name)\n",
    "            all_cds.append((old_cd, new_cd))\n",
    "            \n",
    "            if old_cd is not None and not only_reader:\n",
    "                print(\" > Comparing values...\")\n",
    "                run_checks(old_cd, new_cd)\n",
    "            else:\n",
    "                print(\" > New commondata read ok\")\n",
    "                \n",
    "        except FileNotFoundError:\n",
    "            print(f\"Files for {new_name} not found\")\n",
    "            continue\n",
    "        except Exception as e:\n",
    "            if nofail:\n",
    "                print(f\"### FAILED for {new_name}\\n\")\n",
    "                continue\n",
    "            raise e\n",
    "    return all_cds"
   ]
  },
  {
   "cell_type": "code",
   "execution_count": null,
   "id": "9a90ed4e-40e2-4b83-a8bc-42c8455f75c2",
   "metadata": {},
   "outputs": [],
   "source": []
  },
  {
   "cell_type": "markdown",
   "id": "f77d6102",
   "metadata": {},
   "source": [
    "## FT Drell-yan\n",
    "\n",
    "These datasets can be found in the `E605` branch [#1679](https://github.com/NNPDF/nnpdf/pull/1679)"
   ]
  },
  {
   "cell_type": "code",
   "execution_count": 4,
   "id": "a1c03485",
   "metadata": {},
   "outputs": [
    {
     "name": "stdout",
     "output_type": "stream",
     "text": [
      "\n",
      "Checking 0 E605_DY_38P8GEV_PXSEC (old name: DYE605)\n",
      "Files for E605_DY_38P8GEV_PXSEC not found\n",
      "\n",
      "Checking 1 E866_DY_800GEV_PXSEC (old name: DYE886P)\n",
      "Files for E866_DY_800GEV_PXSEC not found\n",
      "\n",
      "Checking 2 E866_DY_800GEV_RATIO_PDXSECRATIO (old name: DYE886R)\n",
      "Files for E866_DY_800GEV_RATIO_PDXSECRATIO not found\n",
      "\n",
      "Checking 3 E906_DY_120GEV_PDXSECRATIO (old name: DYE906R)\n",
      "Files for E906_DY_120GEV_PDXSECRATIO not found\n"
     ]
    }
   ],
   "source": [
    "datasets = {\n",
    "    \"E605_DY_38P8GEV_PXSEC\":\"DYE605\",\n",
    "    \"E866_DY_800GEV_PXSEC\":\"DYE886P\",\n",
    "    \"E866_DY_800GEV_RATIO_PDXSECRATIO\":\"DYE886R\",\n",
    "    \"E906_DY_120GEV_PDXSECRATIO\":\"DYE906R\",\n",
    "}\n",
    "\n",
    "res_ft = test_group(datasets, nofail=False)\n",
    "\n",
    "\n",
    "#old_cd, new_cd = load_old_and_new(\"DYE906R\", \"E906_DY_120GEV_PDXSECRATIO\")\n",
    "#run_checks(old_cd, new_cd)"
   ]
  },
  {
   "cell_type": "markdown",
   "id": "140e48f3",
   "metadata": {},
   "source": [
    "## Atlas datasets\n",
    "\n",
    "These datasets can be found in the `gluon_pdf_ncd` branch"
   ]
  },
  {
   "cell_type": "code",
   "execution_count": 5,
   "id": "09a38520",
   "metadata": {
    "scrolled": true
   },
   "outputs": [],
   "source": [
    "datasets = {\n",
    "    \"ATLAS_1JET_13TEV_DIF_PT-Y\" : None,\n",
    "    \"ATLAS_1JET_13TEV_DIF_PT-Y_ALTCORR1\" : None,\n",
    "    \"ATLAS_2JET_13TEV_DIF_MJJ-Y\" : None,\n",
    "    \"ATLAS_TTBAR_13TEV_LJ_DIF_MTTBAR\" : None,\n",
    "    \"ATLAS_TTBAR_13TEV_LJ_DIF_MTTBAR-NORM\" : None,\n",
    "    \"ATLAS_TTBAR_13TEV_LJ_DIF_PTT\" : None,\n",
    "    \"ATLAS_TTBAR_13TEV_LJ_DIF_PTT-NORM\" : None,\n",
    "    \"ATLAS_TTBAR_13TEV_LJ_DIF_YT\" : None,\n",
    "    \"ATLAS_TTBAR_13TEV_LJ_DIF_YT-NORM\" : None,\n",
    "    \"ATLAS_TTBAR_13TEV_LJ_DIF_YTTBAR\" : None,\n",
    "    \"ATLAS_TTBAR_13TEV_LJ_DIF_YTTBAR-NORM\" : None,\n",
    "    \"ATLAS_TTBAR_13TEV_TOT_X-SEC\" : \"ATLASTTBARTOT13TEV\",\n",
    "    \"ATLAS_TTBAR_7TEV_TOT_X-SEC\" : \"ATLASTTBARTOT7TEV\",\n",
    "    \"ATLAS_TTBAR_8TEV_2L_DIF_MTTBAR\" : \"ATLAS_TOPDIFF_DILEPT_8TEV_TTM\",\n",
    "    \"ATLAS_TTBAR_8TEV_2L_DIF_MTTBAR-NORM\" : \"ATLAS_TOPDIFF_DILEPT_8TEV_TTMNORM\",\n",
    "    \"ATLAS_TTBAR_8TEV_2L_DIF_YTTBAR\" : \"ATLAS_TOPDIFF_DILEPT_8TEV_TTRAP\",\n",
    "    \"ATLAS_TTBAR_8TEV_2L_DIF_YTTBAR-NORM\" : \"ATLAS_TOPDIFF_DILEPT_8TEV_TTRAPNORM\",\n",
    "    \"ATLAS_TTBAR_8TEV_LJ_DIF_MTTBAR\" : \"ATLAS_TTB_DIFF_8TEV_LJ_TTM\",\n",
    "    \"ATLAS_TTBAR_8TEV_LJ_DIF_MTTBAR-NORM\" : \"ATLAS_TTB_DIFF_8TEV_LJ_TTMNORM\",\n",
    "    \"ATLAS_TTBAR_8TEV_LJ_DIF_PTT\" : \"ATLAS_TTB_DIFF_8TEV_LJ_TPT\",\n",
    "    \"ATLAS_TTBAR_8TEV_LJ_DIF_PTT-NORM\" : \"ATLAS_TTB_DIFF_8TEV_LJ_TPTNORM\",\n",
    "    \"ATLAS_TTBAR_8TEV_LJ_DIF_YT\" : \"ATLAS_TTB_DIFF_8TEV_LJ_TRAP\",\n",
    "    \"ATLAS_TTBAR_8TEV_LJ_DIF_YT-NORM\" : \"ATLAS_TTB_DIFF_8TEV_LJ_TRAPNORM\",\n",
    "    \"ATLAS_TTBAR_8TEV_LJ_DIF_YTTBAR\" : \"ATLAS_TTB_DIFF_8TEV_LJ_TTRAP\",\n",
    "    \"ATLAS_TTBAR_8TEV_LJ_DIF_YTTBAR-NORM\" : \"ATLAS_TTB_DIFF_8TEV_LJ_TTRAPNORM\",\n",
    "    \"ATLAS_TTBAR_8TEV_TOT_X-SEC\" : \"ATLASTTBARTOT8TEV\",\n",
    "}\n",
    " \n",
    "#res = test_group(datasets, nofail=True, only_reader=True, skip=None)\n",
    "\n",
    "\n",
    "if False:\n",
    "    new_name = list(datasets)[10]\n",
    "    old_name = datasets[new_name]\n",
    "    print(f\"old: {old_name}, new: {new_name}\")\n",
    "\n",
    "    old_cd, new_cd = load_old_and_new(old_name, new_name)\n",
    "    run_checks(old_cd, new_cd)"
   ]
  },
  {
   "cell_type": "markdown",
   "id": "64d4242e",
   "metadata": {},
   "source": [
    "## CMS datasets\n",
    "\n",
    "These datasets can be found in the `gluon_pdf_ncd` branch"
   ]
  },
  {
   "cell_type": "code",
   "execution_count": 6,
   "id": "4d29357d",
   "metadata": {
    "scrolled": true
   },
   "outputs": [
    {
     "name": "stdout",
     "output_type": "stream",
     "text": [
      "\n",
      "Checking 18 CMS_TTBAR_13TEV_LJ_DIF_MTTBAR-YTTBAR (old name: None)\n",
      " > New commondata read ok\n",
      "\n",
      "Checking 19 CMS_TTBAR_13TEV_LJ_DIF_MTTBAR-YTTBAR-NORM (old name: None)\n",
      " > New commondata read ok\n",
      "\n",
      "Checking 20 CMS_TTBAR_13TEV_TOT_X-SEC (old name: CMSTTBARTOT13TEV)\n",
      " > Comparing values...\n"
     ]
    },
    {
     "data": {
      "text/html": [
       "<text style=color:red>equal=False Testing central_values (get_cv)</text>"
      ],
      "text/plain": [
       "<IPython.core.display.HTML object>"
      ]
     },
     "metadata": {},
     "output_type": "display_data"
    },
    {
     "name": "stdout",
     "output_type": "stream",
     "text": [
      "       Max % diff: 2.9908972689862874\n"
     ]
    },
    {
     "data": {
      "text/html": [
       "<text style=color:red>equal=False Testing kinematics (get_kintable)</text>"
      ],
      "text/plain": [
       "<IPython.core.display.HTML object>"
      ]
     },
     "metadata": {},
     "output_type": "display_data"
    },
    {
     "name": "stdout",
     "output_type": "stream",
     "text": [
      "       Max % diff: 0.3120838497055149\n"
     ]
    },
    {
     "data": {
      "text/html": [
       "<text style=color:red>equal=False Testing stat_errors (stat_errors)</text>"
      ],
      "text/plain": [
       "<IPython.core.display.HTML object>"
      ]
     },
     "metadata": {},
     "output_type": "display_data"
    },
    {
     "name": "stdout",
     "output_type": "stream",
     "text": [
      "       Max % diff: 75.75757564279156\n"
     ]
    },
    {
     "data": {
      "text/html": [
       "<text style=color:red>equal=False Testing multiplicative errors (multiplicative_errors)</text>"
      ],
      "text/plain": [
       "<IPython.core.display.HTML object>"
      ]
     },
     "metadata": {},
     "output_type": "display_data"
    },
    {
     "data": {
      "text/html": [
       "<text style=color:green>equal=True Testing additive errors (additive_errors)</text>"
      ],
      "text/plain": [
       "<IPython.core.display.HTML object>"
      ]
     },
     "metadata": {},
     "output_type": "display_data"
    },
    {
     "name": "stdout",
     "output_type": "stream",
     "text": [
      "\n",
      "Checking 21 CMS_TTBAR_5TEV_TOT_X-SEC (old name: CMSTTBARTOT5TEV)\n",
      " > Comparing values...\n"
     ]
    },
    {
     "data": {
      "text/html": [
       "<text style=color:green>equal=True Testing central_values (get_cv)</text>"
      ],
      "text/plain": [
       "<IPython.core.display.HTML object>"
      ]
     },
     "metadata": {},
     "output_type": "display_data"
    },
    {
     "data": {
      "text/html": [
       "<text style=color:red>equal=False Testing kinematics (get_kintable)</text>"
      ],
      "text/plain": [
       "<IPython.core.display.HTML object>"
      ]
     },
     "metadata": {},
     "output_type": "display_data"
    },
    {
     "name": "stdout",
     "output_type": "stream",
     "text": [
      "       Max % diff: 0.0\n"
     ]
    },
    {
     "data": {
      "text/html": [
       "<text style=color:green>equal=True Testing stat_errors (stat_errors)</text>"
      ],
      "text/plain": [
       "<IPython.core.display.HTML object>"
      ]
     },
     "metadata": {},
     "output_type": "display_data"
    },
    {
     "data": {
      "text/html": [
       "<text style=color:green>equal=True Testing multiplicative errors (multiplicative_errors)</text>"
      ],
      "text/plain": [
       "<IPython.core.display.HTML object>"
      ]
     },
     "metadata": {},
     "output_type": "display_data"
    },
    {
     "data": {
      "text/html": [
       "<text style=color:green>equal=True Testing additive errors (additive_errors)</text>"
      ],
      "text/plain": [
       "<IPython.core.display.HTML object>"
      ]
     },
     "metadata": {},
     "output_type": "display_data"
    },
    {
     "name": "stdout",
     "output_type": "stream",
     "text": [
      "\n",
      "Checking 22 CMS_TTBAR_7TEV_TOT_X-SEC (old name: CMSTTBARTOT7TEV)\n",
      " > Comparing values...\n"
     ]
    },
    {
     "data": {
      "text/html": [
       "<text style=color:green>equal=True Testing central_values (get_cv)</text>"
      ],
      "text/plain": [
       "<IPython.core.display.HTML object>"
      ]
     },
     "metadata": {},
     "output_type": "display_data"
    },
    {
     "data": {
      "text/html": [
       "<text style=color:red>equal=False Testing kinematics (get_kintable)</text>"
      ],
      "text/plain": [
       "<IPython.core.display.HTML object>"
      ]
     },
     "metadata": {},
     "output_type": "display_data"
    },
    {
     "name": "stdout",
     "output_type": "stream",
     "text": [
      "       Max % diff: 0.3120838497055149\n"
     ]
    },
    {
     "data": {
      "text/html": [
       "<text style=color:green>equal=True Testing stat_errors (stat_errors)</text>"
      ],
      "text/plain": [
       "<IPython.core.display.HTML object>"
      ]
     },
     "metadata": {},
     "output_type": "display_data"
    },
    {
     "data": {
      "text/html": [
       "<text style=color:green>equal=True Testing multiplicative errors (multiplicative_errors)</text>"
      ],
      "text/plain": [
       "<IPython.core.display.HTML object>"
      ]
     },
     "metadata": {},
     "output_type": "display_data"
    },
    {
     "data": {
      "text/html": [
       "<text style=color:green>equal=True Testing additive errors (additive_errors)</text>"
      ],
      "text/plain": [
       "<IPython.core.display.HTML object>"
      ]
     },
     "metadata": {},
     "output_type": "display_data"
    },
    {
     "name": "stdout",
     "output_type": "stream",
     "text": [
      "\n",
      "Checking 23 CMS_TTBAR_8TEV_2L_DIF_PTT-YT-NORM (old name: CMS_TTBAR_2D_DIFF_PT_TRAP_NORM)\n",
      " > Comparing values...\n"
     ]
    },
    {
     "data": {
      "text/html": [
       "<text style=color:red>equal=False Testing central_values (get_cv)</text>"
      ],
      "text/plain": [
       "<IPython.core.display.HTML object>"
      ]
     },
     "metadata": {},
     "output_type": "display_data"
    },
    {
     "name": "stdout",
     "output_type": "stream",
     "text": [
      "       Max % diff: 0.9814028622220792\n"
     ]
    },
    {
     "data": {
      "text/html": [
       "<text style=color:red>equal=False Testing kinematics (get_kintable)</text>"
      ],
      "text/plain": [
       "<IPython.core.display.HTML object>"
      ]
     },
     "metadata": {},
     "output_type": "display_data"
    },
    {
     "name": "stdout",
     "output_type": "stream",
     "text": [
      "       Max % diff: 99.99980622850609\n"
     ]
    },
    {
     "data": {
      "text/html": [
       "<text style=color:green>equal=True Testing stat_errors (stat_errors)</text>"
      ],
      "text/plain": [
       "<IPython.core.display.HTML object>"
      ]
     },
     "metadata": {},
     "output_type": "display_data"
    },
    {
     "data": {
      "text/html": [
       "<text style=color:red>equal=False The number of systematic uncertainites is different!!</text>"
      ],
      "text/plain": [
       "<IPython.core.display.HTML object>"
      ]
     },
     "metadata": {},
     "output_type": "display_data"
    },
    {
     "name": "stdout",
     "output_type": "stream",
     "text": [
      "\n",
      "Checking 24 CMS_TTBAR_8TEV_2L_DIF_MTTBAR-YT-NORM (old name: CMS_TTBAR_2D_DIFF_MTT_TRAP_NORM)\n",
      " > Comparing values...\n"
     ]
    },
    {
     "data": {
      "text/html": [
       "<text style=color:red>equal=False Testing central_values (get_cv)</text>"
      ],
      "text/plain": [
       "<IPython.core.display.HTML object>"
      ]
     },
     "metadata": {},
     "output_type": "display_data"
    },
    {
     "name": "stdout",
     "output_type": "stream",
     "text": [
      "       Max % diff: 1.4970067401729883\n"
     ]
    },
    {
     "data": {
      "text/html": [
       "<text style=color:red>equal=False Testing kinematics (get_kintable)</text>"
      ],
      "text/plain": [
       "<IPython.core.display.HTML object>"
      ]
     },
     "metadata": {},
     "output_type": "display_data"
    },
    {
     "name": "stdout",
     "output_type": "stream",
     "text": [
      "       Max % diff: 99.9999697133545\n"
     ]
    },
    {
     "data": {
      "text/html": [
       "<text style=color:green>equal=True Testing stat_errors (stat_errors)</text>"
      ],
      "text/plain": [
       "<IPython.core.display.HTML object>"
      ]
     },
     "metadata": {},
     "output_type": "display_data"
    },
    {
     "data": {
      "text/html": [
       "<text style=color:red>equal=False The number of systematic uncertainites is different!!</text>"
      ],
      "text/plain": [
       "<IPython.core.display.HTML object>"
      ]
     },
     "metadata": {},
     "output_type": "display_data"
    },
    {
     "name": "stdout",
     "output_type": "stream",
     "text": [
      "\n",
      "Checking 25 CMS_TTBAR_8TEV_2L_DIF_MTTBAR-YTTBAR-NORM (old name: CMS_TTBAR_2D_DIFF_MTT_TTRAP_NORM)\n",
      " > Comparing values...\n"
     ]
    },
    {
     "data": {
      "text/html": [
       "<text style=color:red>equal=False Testing central_values (get_cv)</text>"
      ],
      "text/plain": [
       "<IPython.core.display.HTML object>"
      ]
     },
     "metadata": {},
     "output_type": "display_data"
    },
    {
     "name": "stdout",
     "output_type": "stream",
     "text": [
      "       Max % diff: 0.8061789013783482\n"
     ]
    },
    {
     "data": {
      "text/html": [
       "<text style=color:red>equal=False Testing kinematics (get_kintable)</text>"
      ],
      "text/plain": [
       "<IPython.core.display.HTML object>"
      ]
     },
     "metadata": {},
     "output_type": "display_data"
    },
    {
     "name": "stdout",
     "output_type": "stream",
     "text": [
      "       Max % diff: 99.9999697133545\n"
     ]
    },
    {
     "data": {
      "text/html": [
       "<text style=color:green>equal=True Testing stat_errors (stat_errors)</text>"
      ],
      "text/plain": [
       "<IPython.core.display.HTML object>"
      ]
     },
     "metadata": {},
     "output_type": "display_data"
    },
    {
     "data": {
      "text/html": [
       "<text style=color:red>equal=False The number of systematic uncertainites is different!!</text>"
      ],
      "text/plain": [
       "<IPython.core.display.HTML object>"
      ]
     },
     "metadata": {},
     "output_type": "display_data"
    },
    {
     "name": "stdout",
     "output_type": "stream",
     "text": [
      "\n",
      "Checking 26 CMS_TTBAR_8TEV_LJ_DIF_MTTBAR-NORM (old name: CMSTOPDIFF8TEVTTMNORM)\n",
      " > Comparing values...\n"
     ]
    },
    {
     "data": {
      "text/html": [
       "<text style=color:green>equal=True Testing central_values (get_cv)</text>"
      ],
      "text/plain": [
       "<IPython.core.display.HTML object>"
      ]
     },
     "metadata": {},
     "output_type": "display_data"
    },
    {
     "data": {
      "text/html": [
       "<text style=color:red>equal=False Testing kinematics (get_kintable)</text>"
      ],
      "text/plain": [
       "<IPython.core.display.HTML object>"
      ]
     },
     "metadata": {},
     "output_type": "display_data"
    },
    {
     "name": "stdout",
     "output_type": "stream",
     "text": [
      "       Max % diff: 0.3120838497055149\n"
     ]
    },
    {
     "data": {
      "text/html": [
       "<text style=color:green>equal=True Testing stat_errors (stat_errors)</text>"
      ],
      "text/plain": [
       "<IPython.core.display.HTML object>"
      ]
     },
     "metadata": {},
     "output_type": "display_data"
    },
    {
     "name": "stdout",
     "output_type": "stream",
     "text": [
      " > The combination of multiplicative and additive is different!\n"
     ]
    },
    {
     "data": {
      "text/html": [
       "<text style=color:red>equal=False Testing the raw table of systematics: systematic_errors()</text>"
      ],
      "text/plain": [
       "<IPython.core.display.HTML object>"
      ]
     },
     "metadata": {},
     "output_type": "display_data"
    },
    {
     "name": "stdout",
     "output_type": "stream",
     "text": [
      "\n",
      "Checking 27 CMS_TTBAR_8TEV_LJ_DIF_PTT-NORM (old name: CMSTOPDIFF8TEVTPTNORM)\n"
     ]
    },
    {
     "ename": "ConfigError",
     "evalue": "Could not find Commondata set: 'CMSTOPDIFF8TEVTPTNORM'. File '/Users/jumax9/Academic_Workspace/NNPDF/nnvortex/share/NNPDF/data/commondata/DATA_CMSTOPDIFF8TEVTPTNORM.dat' does not exist.\nInstead of 'CMSTOPDIFF8TEVTPTNORM', did you mean one of the following?\n - CMSTOPDIFF8TEVTTMNORM\n - CMSTOPDIFF8TEVTRAPNORM\n - CMSTOPDIFF8TEVTTRAPNORM",
     "output_type": "error",
     "traceback": [
      "\u001b[0;31m---------------------------------------------------------------------------\u001b[0m",
      "\u001b[0;31mDataNotFoundError\u001b[0m                         Traceback (most recent call last)",
      "File \u001b[0;32m~/Academic_Workspace/NNPDF/src/nnpdf/validphys2/src/validphys/config.py:463\u001b[0m, in \u001b[0;36mCoreConfig.produce_commondata\u001b[0;34m(self, dataset_input, use_fitcommondata, fit)\u001b[0m\n\u001b[1;32m    462\u001b[0m \u001b[38;5;28;01mtry\u001b[39;00m:\n\u001b[0;32m--> 463\u001b[0m     \u001b[38;5;28;01mreturn\u001b[39;00m \u001b[38;5;28;43mself\u001b[39;49m\u001b[38;5;241;43m.\u001b[39;49m\u001b[43mloader\u001b[49m\u001b[38;5;241;43m.\u001b[39;49m\u001b[43mcheck_commondata\u001b[49m\u001b[43m(\u001b[49m\n\u001b[1;32m    464\u001b[0m \u001b[43m        \u001b[49m\u001b[43msetname\u001b[49m\u001b[38;5;241;43m=\u001b[39;49m\u001b[43mname\u001b[49m\u001b[43m,\u001b[49m\n\u001b[1;32m    465\u001b[0m \u001b[43m        \u001b[49m\u001b[43msysnum\u001b[49m\u001b[38;5;241;43m=\u001b[39;49m\u001b[43msysnum\u001b[49m\u001b[43m,\u001b[49m\n\u001b[1;32m    466\u001b[0m \u001b[43m        \u001b[49m\u001b[43muse_fitcommondata\u001b[49m\u001b[38;5;241;43m=\u001b[39;49m\u001b[43muse_fitcommondata\u001b[49m\u001b[43m,\u001b[49m\n\u001b[1;32m    467\u001b[0m \u001b[43m        \u001b[49m\u001b[43mfit\u001b[49m\u001b[38;5;241;43m=\u001b[39;49m\u001b[43mfit\u001b[49m\u001b[43m,\u001b[49m\n\u001b[1;32m    468\u001b[0m \u001b[43m    \u001b[49m\u001b[43m)\u001b[49m\n\u001b[1;32m    469\u001b[0m \u001b[38;5;28;01mexcept\u001b[39;00m DataNotFoundError \u001b[38;5;28;01mas\u001b[39;00m e:\n",
      "File \u001b[0;32m~/Academic_Workspace/NNPDF/src/nnpdf/validphys2/src/validphys/loader.py:291\u001b[0m, in \u001b[0;36mLoader.check_commondata\u001b[0;34m(self, setname, sysnum, use_fitcommondata, fit)\u001b[0m\n\u001b[1;32m    290\u001b[0m \u001b[38;5;28;01mif\u001b[39;00m \u001b[38;5;129;01mnot\u001b[39;00m datafile\u001b[38;5;241m.\u001b[39mexists():\n\u001b[0;32m--> 291\u001b[0m     \u001b[38;5;28;01mraise\u001b[39;00m DataNotFoundError((\u001b[38;5;124m\"\u001b[39m\u001b[38;5;124mCould not find Commondata set: \u001b[39m\u001b[38;5;124m'\u001b[39m\u001b[38;5;132;01m%s\u001b[39;00m\u001b[38;5;124m'\u001b[39m\u001b[38;5;124m. \u001b[39m\u001b[38;5;124m\"\u001b[39m\n\u001b[1;32m    292\u001b[0m           \u001b[38;5;124m\"\u001b[39m\u001b[38;5;124mFile \u001b[39m\u001b[38;5;124m'\u001b[39m\u001b[38;5;132;01m%s\u001b[39;00m\u001b[38;5;124m'\u001b[39m\u001b[38;5;124m does not exist.\u001b[39m\u001b[38;5;124m\"\u001b[39m)\n\u001b[1;32m    293\u001b[0m          \u001b[38;5;241m%\u001b[39m (setname, datafile))\n\u001b[1;32m    294\u001b[0m \u001b[38;5;28;01mif\u001b[39;00m sysnum \u001b[38;5;129;01mis\u001b[39;00m \u001b[38;5;28;01mNone\u001b[39;00m:\n",
      "\u001b[0;31mDataNotFoundError\u001b[0m: Could not find Commondata set: 'CMSTOPDIFF8TEVTPTNORM'. File '/Users/jumax9/Academic_Workspace/NNPDF/nnvortex/share/NNPDF/data/commondata/DATA_CMSTOPDIFF8TEVTPTNORM.dat' does not exist.",
      "\nThe above exception was the direct cause of the following exception:\n",
      "\u001b[0;31mConfigError\u001b[0m                               Traceback (most recent call last)",
      "Cell \u001b[0;32mIn [6], line 35\u001b[0m\n\u001b[1;32m      1\u001b[0m datasets \u001b[38;5;241m=\u001b[39m {\n\u001b[1;32m      2\u001b[0m     \u001b[38;5;124m\"\u001b[39m\u001b[38;5;124mCMS_1JET_13TEV_DIF_R04\u001b[39m\u001b[38;5;124m\"\u001b[39m : \u001b[38;5;28;01mNone\u001b[39;00m,\n\u001b[1;32m      3\u001b[0m     \u001b[38;5;124m\"\u001b[39m\u001b[38;5;124mCMS_1JET_13TEV_DIF_R07\u001b[39m\u001b[38;5;124m\"\u001b[39m : \u001b[38;5;28;01mNone\u001b[39;00m,\n\u001b[0;32m   (...)\u001b[0m\n\u001b[1;32m     32\u001b[0m     \u001b[38;5;124m\"\u001b[39m\u001b[38;5;124mCMS_TTBAR_8TEV_TOT_X-SEC\u001b[39m\u001b[38;5;124m\"\u001b[39m : \u001b[38;5;124m\"\u001b[39m\u001b[38;5;124mCMSTTBARTOT8TEV\u001b[39m\u001b[38;5;124m\"\u001b[39m,\n\u001b[1;32m     33\u001b[0m }\n\u001b[0;32m---> 35\u001b[0m res \u001b[38;5;241m=\u001b[39m \u001b[43mtest_group\u001b[49m\u001b[43m(\u001b[49m\u001b[43mdatasets\u001b[49m\u001b[43m,\u001b[49m\u001b[43m \u001b[49m\u001b[43mnofail\u001b[49m\u001b[38;5;241;43m=\u001b[39;49m\u001b[38;5;28;43;01mFalse\u001b[39;49;00m\u001b[43m,\u001b[49m\u001b[43m \u001b[49m\u001b[43monly_reader\u001b[49m\u001b[38;5;241;43m=\u001b[39;49m\u001b[38;5;28;43;01mFalse\u001b[39;49;00m\u001b[43m,\u001b[49m\u001b[43m \u001b[49m\u001b[43mskip\u001b[49m\u001b[38;5;241;43m=\u001b[39;49m\u001b[38;5;241;43m18\u001b[39;49m\u001b[43m)\u001b[49m\n",
      "Cell \u001b[0;32mIn [3], line 25\u001b[0m, in \u001b[0;36mtest_group\u001b[0;34m(datasets, nofail, only_reader, skip)\u001b[0m\n\u001b[1;32m     23\u001b[0m             \u001b[38;5;28mprint\u001b[39m(\u001b[38;5;124mf\u001b[39m\u001b[38;5;124m\"\u001b[39m\u001b[38;5;124m### FAILED for \u001b[39m\u001b[38;5;132;01m{\u001b[39;00mnew_name\u001b[38;5;132;01m}\u001b[39;00m\u001b[38;5;130;01m\\n\u001b[39;00m\u001b[38;5;124m\"\u001b[39m)\n\u001b[1;32m     24\u001b[0m             \u001b[38;5;28;01mcontinue\u001b[39;00m\n\u001b[0;32m---> 25\u001b[0m         \u001b[38;5;28;01mraise\u001b[39;00m e\n\u001b[1;32m     26\u001b[0m \u001b[38;5;28;01mreturn\u001b[39;00m all_cds\n",
      "Cell \u001b[0;32mIn [3], line 9\u001b[0m, in \u001b[0;36mtest_group\u001b[0;34m(datasets, nofail, only_reader, skip)\u001b[0m\n\u001b[1;32m      7\u001b[0m \u001b[38;5;28mprint\u001b[39m(\u001b[38;5;124mf\u001b[39m\u001b[38;5;124m\"\u001b[39m\u001b[38;5;130;01m\\n\u001b[39;00m\u001b[38;5;124mChecking \u001b[39m\u001b[38;5;132;01m{\u001b[39;00mi\u001b[38;5;132;01m}\u001b[39;00m\u001b[38;5;124m \u001b[39m\u001b[38;5;132;01m{\u001b[39;00mnew_name\u001b[38;5;132;01m}\u001b[39;00m\u001b[38;5;124m (old name: \u001b[39m\u001b[38;5;132;01m{\u001b[39;00mold_name\u001b[38;5;132;01m}\u001b[39;00m\u001b[38;5;124m)\u001b[39m\u001b[38;5;124m\"\u001b[39m)\n\u001b[1;32m      8\u001b[0m \u001b[38;5;28;01mtry\u001b[39;00m:\n\u001b[0;32m----> 9\u001b[0m     old_cd, new_cd \u001b[38;5;241m=\u001b[39m \u001b[43mload_old_and_new\u001b[49m\u001b[43m(\u001b[49m\u001b[43mold_name\u001b[49m\u001b[43m,\u001b[49m\u001b[43m \u001b[49m\u001b[43mnew_name\u001b[49m\u001b[43m)\u001b[49m\n\u001b[1;32m     10\u001b[0m     all_cds\u001b[38;5;241m.\u001b[39mappend((old_cd, new_cd))\n\u001b[1;32m     12\u001b[0m     \u001b[38;5;28;01mif\u001b[39;00m old_cd \u001b[38;5;129;01mis\u001b[39;00m \u001b[38;5;129;01mnot\u001b[39;00m \u001b[38;5;28;01mNone\u001b[39;00m \u001b[38;5;129;01mand\u001b[39;00m \u001b[38;5;129;01mnot\u001b[39;00m only_reader:\n",
      "Cell \u001b[0;32mIn [2], line 15\u001b[0m, in \u001b[0;36mload_old_and_new\u001b[0;34m(old_name, new_name, theoryid)\u001b[0m\n\u001b[1;32m     13\u001b[0m     old_cd \u001b[38;5;241m=\u001b[39m \u001b[38;5;28;01mNone\u001b[39;00m\n\u001b[1;32m     14\u001b[0m \u001b[38;5;28;01melse\u001b[39;00m:\n\u001b[0;32m---> 15\u001b[0m     old_cd \u001b[38;5;241m=\u001b[39m \u001b[43mAPI\u001b[49m\u001b[38;5;241;43m.\u001b[39;49m\u001b[43mdataset\u001b[49m\u001b[43m(\u001b[49m\u001b[43mdataset_input\u001b[49m\u001b[38;5;241;43m=\u001b[39;49m\u001b[43m{\u001b[49m\u001b[38;5;124;43m\"\u001b[39;49m\u001b[38;5;124;43mdataset\u001b[39;49m\u001b[38;5;124;43m\"\u001b[39;49m\u001b[43m:\u001b[49m\u001b[43m \u001b[49m\u001b[43mold_name\u001b[49m\u001b[43m}\u001b[49m\u001b[43m,\u001b[49m\u001b[43m \u001b[49m\u001b[43muse_cuts\u001b[49m\u001b[38;5;241;43m=\u001b[39;49m\u001b[38;5;124;43m\"\u001b[39;49m\u001b[38;5;124;43mnocuts\u001b[39;49m\u001b[38;5;124;43m\"\u001b[39;49m\u001b[43m,\u001b[49m\u001b[43m \u001b[49m\u001b[43mtheoryid\u001b[49m\u001b[38;5;241;43m=\u001b[39;49m\u001b[43mtheoryid\u001b[49m\u001b[43m)\u001b[49m\u001b[38;5;241m.\u001b[39mload_commondata()\n\u001b[1;32m     17\u001b[0m \u001b[38;5;28;01mreturn\u001b[39;00m old_cd, new_cd\n",
      "File \u001b[0;32m~/Academic_Workspace/NNPDF/nnvortex/lib/python3.10/site-packages/reportengine/api.py:44\u001b[0m, in \u001b[0;36mAPI.__getattr__.<locals>.closure\u001b[0;34m(**kwargs)\u001b[0m\n\u001b[1;32m     43\u001b[0m \u001b[38;5;28;01mdef\u001b[39;00m \u001b[38;5;21mclosure\u001b[39m(\u001b[38;5;241m*\u001b[39m\u001b[38;5;241m*\u001b[39mkwargs):\n\u001b[0;32m---> 44\u001b[0m     \u001b[38;5;28;01mreturn\u001b[39;00m \u001b[38;5;28;43mself\u001b[39;49m\u001b[38;5;241;43m.\u001b[39;49m\u001b[38;5;21;43m__call__\u001b[39;49m\u001b[43m(\u001b[49m\u001b[43mname\u001b[49m\u001b[43m,\u001b[49m\u001b[43m \u001b[49m\u001b[38;5;241;43m*\u001b[39;49m\u001b[38;5;241;43m*\u001b[39;49m\u001b[43mkwargs\u001b[49m\u001b[43m)\u001b[49m\n",
      "File \u001b[0;32m~/Academic_Workspace/NNPDF/nnvortex/lib/python3.10/site-packages/reportengine/api.py:37\u001b[0m, in \u001b[0;36mAPI.__call__\u001b[0;34m(self, actions, **kwargs)\u001b[0m\n\u001b[1;32m     35\u001b[0m builder \u001b[38;5;241m=\u001b[39m ResourceBuilder(c, \u001b[38;5;28mself\u001b[39m\u001b[38;5;241m.\u001b[39mprovider_loaded, fuzzytarg, perform_final\u001b[38;5;241m=\u001b[39m\u001b[38;5;28;01mFalse\u001b[39;00m)\n\u001b[1;32m     36\u001b[0m builder\u001b[38;5;241m.\u001b[39mrootns\u001b[38;5;241m.\u001b[39mupdate(\u001b[38;5;28mself\u001b[39m\u001b[38;5;241m.\u001b[39mloadedenv\u001b[38;5;241m.\u001b[39mns_dump())\n\u001b[0;32m---> 37\u001b[0m \u001b[43mbuilder\u001b[49m\u001b[38;5;241;43m.\u001b[39;49m\u001b[43mresolve_fuzzytargets\u001b[49m\u001b[43m(\u001b[49m\u001b[43m)\u001b[49m\n\u001b[1;32m     38\u001b[0m builder\u001b[38;5;241m.\u001b[39mexecute_sequential()\n\u001b[1;32m     39\u001b[0m res \u001b[38;5;241m=\u001b[39m builder\u001b[38;5;241m.\u001b[39mrootns[actions]\n",
      "File \u001b[0;32m~/Academic_Workspace/NNPDF/nnvortex/lib/python3.10/site-packages/reportengine/resourcebuilder.py:370\u001b[0m, in \u001b[0;36mResourceBuilder.resolve_fuzzytargets\u001b[0;34m(self)\u001b[0m\n\u001b[1;32m    368\u001b[0m \u001b[38;5;28;01mdef\u001b[39;00m \u001b[38;5;21mresolve_fuzzytargets\u001b[39m(\u001b[38;5;28mself\u001b[39m):\n\u001b[1;32m    369\u001b[0m     \u001b[38;5;28;01mfor\u001b[39;00m target \u001b[38;5;129;01min\u001b[39;00m \u001b[38;5;28mself\u001b[39m\u001b[38;5;241m.\u001b[39mfuzzytargets:\n\u001b[0;32m--> 370\u001b[0m         \u001b[38;5;28;43mself\u001b[39;49m\u001b[38;5;241;43m.\u001b[39;49m\u001b[43mresolve_fuzzytarget\u001b[49m\u001b[43m(\u001b[49m\u001b[43mtarget\u001b[49m\u001b[43m)\u001b[49m\n",
      "File \u001b[0;32m~/Academic_Workspace/NNPDF/nnvortex/lib/python3.10/site-packages/reportengine/resourcebuilder.py:379\u001b[0m, in \u001b[0;36mResourceBuilder.resolve_fuzzytarget\u001b[0;34m(self, fuzzytarget)\u001b[0m\n\u001b[1;32m    376\u001b[0m specs \u001b[38;5;241m=\u001b[39m \u001b[38;5;28mself\u001b[39m\u001b[38;5;241m.\u001b[39mexpand_fuzzytarget_spec(fuzzytarget)\n\u001b[1;32m    378\u001b[0m \u001b[38;5;28;01mfor\u001b[39;00m spec \u001b[38;5;129;01min\u001b[39;00m specs:\n\u001b[0;32m--> 379\u001b[0m     \u001b[38;5;28;43mself\u001b[39;49m\u001b[38;5;241;43m.\u001b[39;49m\u001b[43mprocess_targetspec\u001b[49m\u001b[43m(\u001b[49m\u001b[43mfuzzytarget\u001b[49m\u001b[38;5;241;43m.\u001b[39;49m\u001b[43mname\u001b[49m\u001b[43m,\u001b[49m\u001b[43m \u001b[49m\u001b[43mspec\u001b[49m\u001b[43m,\u001b[49m\u001b[43m \u001b[49m\u001b[43mfuzzytarget\u001b[49m\u001b[38;5;241;43m.\u001b[39;49m\u001b[43mextraargs\u001b[49m\u001b[43m)\u001b[49m\n",
      "File \u001b[0;32m~/Academic_Workspace/NNPDF/nnvortex/lib/python3.10/site-packages/reportengine/resourcebuilder.py:388\u001b[0m, in \u001b[0;36mResourceBuilder.process_targetspec\u001b[0;34m(self, name, nsspec, extraargs, default)\u001b[0m\n\u001b[1;32m    384\u001b[0m log\u001b[38;5;241m.\u001b[39mdebug(\u001b[38;5;124m\"\u001b[39m\u001b[38;5;124mProcessing target \u001b[39m\u001b[38;5;132;01m%s\u001b[39;00m\u001b[38;5;124m\"\u001b[39m \u001b[38;5;241m%\u001b[39m name)\n\u001b[1;32m    386\u001b[0m gen \u001b[38;5;241m=\u001b[39m \u001b[38;5;28mself\u001b[39m\u001b[38;5;241m.\u001b[39m_process_requirement(name, nsspec, extraargs\u001b[38;5;241m=\u001b[39mextraargs,\n\u001b[1;32m    387\u001b[0m                                 default\u001b[38;5;241m=\u001b[39mdefault, parents\u001b[38;5;241m=\u001b[39m[])\n\u001b[0;32m--> 388\u001b[0m \u001b[43mgen\u001b[49m\u001b[38;5;241;43m.\u001b[39;49m\u001b[43msend\u001b[49m\u001b[43m(\u001b[49m\u001b[38;5;28;43;01mNone\u001b[39;49;00m\u001b[43m)\u001b[49m\n\u001b[1;32m    389\u001b[0m \u001b[38;5;28;01mtry\u001b[39;00m:\n\u001b[1;32m    390\u001b[0m     gen\u001b[38;5;241m.\u001b[39msend(\u001b[38;5;28;01mNone\u001b[39;00m)\n",
      "File \u001b[0;32m~/Academic_Workspace/NNPDF/nnvortex/lib/python3.10/site-packages/reportengine/resourcebuilder.py:417\u001b[0m, in \u001b[0;36mResourceBuilder._process_requirement\u001b[0;34m(self, name, nsspec, extraargs, default, parents)\u001b[0m\n\u001b[1;32m    415\u001b[0m \u001b[38;5;66;03m#First try to find the name in the namespace\u001b[39;00m\n\u001b[1;32m    416\u001b[0m \u001b[38;5;28;01mtry\u001b[39;00m:\n\u001b[0;32m--> 417\u001b[0m     put_index, val \u001b[38;5;241m=\u001b[39m \u001b[38;5;28;43mself\u001b[39;49m\u001b[38;5;241;43m.\u001b[39;49m\u001b[43minput_parser\u001b[49m\u001b[38;5;241;43m.\u001b[39;49m\u001b[43mresolve_key\u001b[49m\u001b[43m(\u001b[49m\u001b[43mname\u001b[49m\u001b[43m,\u001b[49m\u001b[43m \u001b[49m\u001b[43mns\u001b[49m\u001b[43m,\u001b[49m\u001b[43m \u001b[49m\u001b[43mparents\u001b[49m\u001b[38;5;241;43m=\u001b[39;49m\u001b[43mparents\u001b[49m\u001b[43m,\u001b[49m\u001b[43m \u001b[49m\u001b[43mcurrspec\u001b[49m\u001b[38;5;241;43m=\u001b[39;49m\u001b[43mnsspec\u001b[49m\u001b[43m)\u001b[49m\n\u001b[1;32m    418\u001b[0m     log\u001b[38;5;241m.\u001b[39mdebug(\u001b[38;5;124m\"\u001b[39m\u001b[38;5;124mFound \u001b[39m\u001b[38;5;132;01m%s\u001b[39;00m\u001b[38;5;124m for spec \u001b[39m\u001b[38;5;132;01m%s\u001b[39;00m\u001b[38;5;124m at \u001b[39m\u001b[38;5;132;01m%s\u001b[39;00m\u001b[38;5;124m\"\u001b[39m\u001b[38;5;241m%\u001b[39m(name, nsspec, put_index))\n\u001b[1;32m    420\u001b[0m \u001b[38;5;28;01mexcept\u001b[39;00m InputNotFoundError \u001b[38;5;28;01mas\u001b[39;00m e:\n\u001b[1;32m    421\u001b[0m     \u001b[38;5;66;03m#See https://www.python.org/dev/peps/pep-3110/\u001b[39;00m\n",
      "File \u001b[0;32m~/Academic_Workspace/NNPDF/nnvortex/lib/python3.10/site-packages/reportengine/configparser.py:429\u001b[0m, in \u001b[0;36mConfig.resolve_key\u001b[0;34m(self, key, ns, input_params, parents, max_index, write, currspec)\u001b[0m\n\u001b[1;32m    427\u001b[0m     input_params \u001b[38;5;241m=\u001b[39m \u001b[38;5;28mself\u001b[39m\u001b[38;5;241m.\u001b[39minput_params\n\u001b[1;32m    428\u001b[0m \u001b[38;5;28;01mwith\u001b[39;00m \u001b[38;5;28mself\u001b[39m\u001b[38;5;241m.\u001b[39mset_context(key, ns, input_params, parents, currspec):\n\u001b[0;32m--> 429\u001b[0m     \u001b[38;5;28;01mreturn\u001b[39;00m \u001b[38;5;28;43mself\u001b[39;49m\u001b[38;5;241;43m.\u001b[39;49m\u001b[43m_resolve_key\u001b[49m\u001b[43m(\u001b[49m\u001b[43mkey\u001b[49m\u001b[38;5;241;43m=\u001b[39;49m\u001b[43mkey\u001b[49m\u001b[43m,\u001b[49m\u001b[43m \u001b[49m\u001b[43mns\u001b[49m\u001b[38;5;241;43m=\u001b[39;49m\u001b[43mns\u001b[49m\u001b[43m,\u001b[49m\u001b[43m \u001b[49m\u001b[43minput_params\u001b[49m\u001b[38;5;241;43m=\u001b[39;49m\u001b[43minput_params\u001b[49m\u001b[43m,\u001b[49m\n\u001b[1;32m    430\u001b[0m \u001b[43m        \u001b[49m\u001b[43mparents\u001b[49m\u001b[38;5;241;43m=\u001b[39;49m\u001b[43mparents\u001b[49m\u001b[43m,\u001b[49m\u001b[43m \u001b[49m\u001b[43mmax_index\u001b[49m\u001b[38;5;241;43m=\u001b[39;49m\u001b[43mmax_index\u001b[49m\u001b[43m,\u001b[49m\u001b[43m \u001b[49m\u001b[43mwrite\u001b[49m\u001b[38;5;241;43m=\u001b[39;49m\u001b[43mwrite\u001b[49m\u001b[43m)\u001b[49m\n",
      "File \u001b[0;32m~/Academic_Workspace/NNPDF/nnvortex/lib/python3.10/site-packages/reportengine/configparser.py:477\u001b[0m, in \u001b[0;36mConfig._resolve_key\u001b[0;34m(self, key, ns, input_params, parents, max_index, write)\u001b[0m\n\u001b[1;32m    475\u001b[0m \u001b[38;5;28;01mif\u001b[39;00m produce_func:\n\u001b[1;32m    476\u001b[0m     \u001b[38;5;28;01mtry\u001b[39;00m:\n\u001b[0;32m--> 477\u001b[0m         put_index, kwargs \u001b[38;5;241m=\u001b[39m \u001b[38;5;28;43mself\u001b[39;49m\u001b[38;5;241;43m.\u001b[39;49m\u001b[43mresolve_signature_params\u001b[49m\u001b[43m(\u001b[49m\u001b[43mproduce_func\u001b[49m\u001b[43m,\u001b[49m\n\u001b[1;32m    478\u001b[0m \u001b[43m                                \u001b[49m\u001b[43mstart_from\u001b[49m\u001b[38;5;241;43m=\u001b[39;49m\u001b[38;5;241;43m0\u001b[39;49m\u001b[43m \u001b[49m\u001b[43m,\u001b[49m\u001b[43mns\u001b[49m\u001b[38;5;241;43m=\u001b[39;49m\u001b[43mns\u001b[49m\u001b[43m,\u001b[49m\n\u001b[1;32m    479\u001b[0m \u001b[43m                                \u001b[49m\u001b[43mparents\u001b[49m\u001b[38;5;241;43m=\u001b[39;49m\u001b[43mnewparents\u001b[49m\u001b[43m,\u001b[49m\n\u001b[1;32m    480\u001b[0m \u001b[43m                                \u001b[49m\u001b[43minput_params\u001b[49m\u001b[38;5;241;43m=\u001b[39;49m\u001b[43minput_params\u001b[49m\u001b[43m,\u001b[49m\n\u001b[1;32m    481\u001b[0m \u001b[43m                                \u001b[49m\u001b[43mmax_index\u001b[49m\u001b[38;5;241;43m=\u001b[39;49m\u001b[43mmax_index\u001b[49m\u001b[43m)\u001b[49m\n\u001b[1;32m    482\u001b[0m     \u001b[38;5;28;01mexcept\u001b[39;00m InputNotFoundError \u001b[38;5;28;01mas\u001b[39;00m e:\n\u001b[1;32m    483\u001b[0m         log\u001b[38;5;241m.\u001b[39mdebug(\u001b[38;5;124mf\u001b[39m\u001b[38;5;124m\"\u001b[39m\u001b[38;5;124mCan\u001b[39m\u001b[38;5;124m'\u001b[39m\u001b[38;5;124mt satisfy production rule for \u001b[39m\u001b[38;5;132;01m{\u001b[39;00mkey\u001b[38;5;132;01m}\u001b[39;00m\u001b[38;5;124m\"\u001b[39m)\n",
      "File \u001b[0;32m~/Academic_Workspace/NNPDF/nnvortex/lib/python3.10/site-packages/reportengine/configparser.py:358\u001b[0m, in \u001b[0;36mConfig.resolve_signature_params\u001b[0;34m(self, f, start_from, ns, input_params, max_index, parents)\u001b[0m\n\u001b[1;32m    356\u001b[0m \u001b[38;5;28;01mfor\u001b[39;00m pname, param \u001b[38;5;129;01min\u001b[39;00m \u001b[38;5;28mlist\u001b[39m(sig\u001b[38;5;241m.\u001b[39mparameters\u001b[38;5;241m.\u001b[39mitems())[start_from:]:\n\u001b[1;32m    357\u001b[0m     \u001b[38;5;28;01mtry\u001b[39;00m:\n\u001b[0;32m--> 358\u001b[0m         index, pval \u001b[38;5;241m=\u001b[39m \u001b[38;5;28;43mself\u001b[39;49m\u001b[38;5;241;43m.\u001b[39;49m\u001b[43mresolve_key\u001b[49m\u001b[43m(\u001b[49m\u001b[43mpname\u001b[49m\u001b[43m,\u001b[49m\n\u001b[1;32m    359\u001b[0m \u001b[43m                                       \u001b[49m\u001b[43mns\u001b[49m\u001b[43m,\u001b[49m\n\u001b[1;32m    360\u001b[0m \u001b[43m                                       \u001b[49m\u001b[43minput_params\u001b[49m\u001b[38;5;241;43m=\u001b[39;49m\u001b[43m \u001b[49m\u001b[43minput_params\u001b[49m\u001b[43m,\u001b[49m\n\u001b[1;32m    361\u001b[0m \u001b[43m                                       \u001b[49m\u001b[43mmax_index\u001b[49m\u001b[38;5;241;43m=\u001b[39;49m\u001b[43mmax_index\u001b[49m\u001b[43m,\u001b[49m\n\u001b[1;32m    362\u001b[0m \u001b[43m                                       \u001b[49m\u001b[43mparents\u001b[49m\u001b[38;5;241;43m=\u001b[39;49m\u001b[43mparents\u001b[49m\u001b[43m)\u001b[49m\n\u001b[1;32m    363\u001b[0m     \u001b[38;5;28;01mexcept\u001b[39;00m \u001b[38;5;167;01mKeyError\u001b[39;00m:\n\u001b[1;32m    364\u001b[0m         \u001b[38;5;28;01mif\u001b[39;00m param\u001b[38;5;241m.\u001b[39mdefault \u001b[38;5;129;01mis\u001b[39;00m \u001b[38;5;129;01mnot\u001b[39;00m sig\u001b[38;5;241m.\u001b[39mempty:\n",
      "File \u001b[0;32m~/Academic_Workspace/NNPDF/nnvortex/lib/python3.10/site-packages/reportengine/configparser.py:429\u001b[0m, in \u001b[0;36mConfig.resolve_key\u001b[0;34m(self, key, ns, input_params, parents, max_index, write, currspec)\u001b[0m\n\u001b[1;32m    427\u001b[0m     input_params \u001b[38;5;241m=\u001b[39m \u001b[38;5;28mself\u001b[39m\u001b[38;5;241m.\u001b[39minput_params\n\u001b[1;32m    428\u001b[0m \u001b[38;5;28;01mwith\u001b[39;00m \u001b[38;5;28mself\u001b[39m\u001b[38;5;241m.\u001b[39mset_context(key, ns, input_params, parents, currspec):\n\u001b[0;32m--> 429\u001b[0m     \u001b[38;5;28;01mreturn\u001b[39;00m \u001b[38;5;28;43mself\u001b[39;49m\u001b[38;5;241;43m.\u001b[39;49m\u001b[43m_resolve_key\u001b[49m\u001b[43m(\u001b[49m\u001b[43mkey\u001b[49m\u001b[38;5;241;43m=\u001b[39;49m\u001b[43mkey\u001b[49m\u001b[43m,\u001b[49m\u001b[43m \u001b[49m\u001b[43mns\u001b[49m\u001b[38;5;241;43m=\u001b[39;49m\u001b[43mns\u001b[49m\u001b[43m,\u001b[49m\u001b[43m \u001b[49m\u001b[43minput_params\u001b[49m\u001b[38;5;241;43m=\u001b[39;49m\u001b[43minput_params\u001b[49m\u001b[43m,\u001b[49m\n\u001b[1;32m    430\u001b[0m \u001b[43m        \u001b[49m\u001b[43mparents\u001b[49m\u001b[38;5;241;43m=\u001b[39;49m\u001b[43mparents\u001b[49m\u001b[43m,\u001b[49m\u001b[43m \u001b[49m\u001b[43mmax_index\u001b[49m\u001b[38;5;241;43m=\u001b[39;49m\u001b[43mmax_index\u001b[49m\u001b[43m,\u001b[49m\u001b[43m \u001b[49m\u001b[43mwrite\u001b[49m\u001b[38;5;241;43m=\u001b[39;49m\u001b[43mwrite\u001b[49m\u001b[43m)\u001b[49m\n",
      "File \u001b[0;32m~/Academic_Workspace/NNPDF/nnvortex/lib/python3.10/site-packages/reportengine/configparser.py:477\u001b[0m, in \u001b[0;36mConfig._resolve_key\u001b[0;34m(self, key, ns, input_params, parents, max_index, write)\u001b[0m\n\u001b[1;32m    475\u001b[0m \u001b[38;5;28;01mif\u001b[39;00m produce_func:\n\u001b[1;32m    476\u001b[0m     \u001b[38;5;28;01mtry\u001b[39;00m:\n\u001b[0;32m--> 477\u001b[0m         put_index, kwargs \u001b[38;5;241m=\u001b[39m \u001b[38;5;28;43mself\u001b[39;49m\u001b[38;5;241;43m.\u001b[39;49m\u001b[43mresolve_signature_params\u001b[49m\u001b[43m(\u001b[49m\u001b[43mproduce_func\u001b[49m\u001b[43m,\u001b[49m\n\u001b[1;32m    478\u001b[0m \u001b[43m                                \u001b[49m\u001b[43mstart_from\u001b[49m\u001b[38;5;241;43m=\u001b[39;49m\u001b[38;5;241;43m0\u001b[39;49m\u001b[43m \u001b[49m\u001b[43m,\u001b[49m\u001b[43mns\u001b[49m\u001b[38;5;241;43m=\u001b[39;49m\u001b[43mns\u001b[49m\u001b[43m,\u001b[49m\n\u001b[1;32m    479\u001b[0m \u001b[43m                                \u001b[49m\u001b[43mparents\u001b[49m\u001b[38;5;241;43m=\u001b[39;49m\u001b[43mnewparents\u001b[49m\u001b[43m,\u001b[49m\n\u001b[1;32m    480\u001b[0m \u001b[43m                                \u001b[49m\u001b[43minput_params\u001b[49m\u001b[38;5;241;43m=\u001b[39;49m\u001b[43minput_params\u001b[49m\u001b[43m,\u001b[49m\n\u001b[1;32m    481\u001b[0m \u001b[43m                                \u001b[49m\u001b[43mmax_index\u001b[49m\u001b[38;5;241;43m=\u001b[39;49m\u001b[43mmax_index\u001b[49m\u001b[43m)\u001b[49m\n\u001b[1;32m    482\u001b[0m     \u001b[38;5;28;01mexcept\u001b[39;00m InputNotFoundError \u001b[38;5;28;01mas\u001b[39;00m e:\n\u001b[1;32m    483\u001b[0m         log\u001b[38;5;241m.\u001b[39mdebug(\u001b[38;5;124mf\u001b[39m\u001b[38;5;124m\"\u001b[39m\u001b[38;5;124mCan\u001b[39m\u001b[38;5;124m'\u001b[39m\u001b[38;5;124mt satisfy production rule for \u001b[39m\u001b[38;5;132;01m{\u001b[39;00mkey\u001b[38;5;132;01m}\u001b[39;00m\u001b[38;5;124m\"\u001b[39m)\n",
      "File \u001b[0;32m~/Academic_Workspace/NNPDF/nnvortex/lib/python3.10/site-packages/reportengine/configparser.py:358\u001b[0m, in \u001b[0;36mConfig.resolve_signature_params\u001b[0;34m(self, f, start_from, ns, input_params, max_index, parents)\u001b[0m\n\u001b[1;32m    356\u001b[0m \u001b[38;5;28;01mfor\u001b[39;00m pname, param \u001b[38;5;129;01min\u001b[39;00m \u001b[38;5;28mlist\u001b[39m(sig\u001b[38;5;241m.\u001b[39mparameters\u001b[38;5;241m.\u001b[39mitems())[start_from:]:\n\u001b[1;32m    357\u001b[0m     \u001b[38;5;28;01mtry\u001b[39;00m:\n\u001b[0;32m--> 358\u001b[0m         index, pval \u001b[38;5;241m=\u001b[39m \u001b[38;5;28;43mself\u001b[39;49m\u001b[38;5;241;43m.\u001b[39;49m\u001b[43mresolve_key\u001b[49m\u001b[43m(\u001b[49m\u001b[43mpname\u001b[49m\u001b[43m,\u001b[49m\n\u001b[1;32m    359\u001b[0m \u001b[43m                                       \u001b[49m\u001b[43mns\u001b[49m\u001b[43m,\u001b[49m\n\u001b[1;32m    360\u001b[0m \u001b[43m                                       \u001b[49m\u001b[43minput_params\u001b[49m\u001b[38;5;241;43m=\u001b[39;49m\u001b[43m \u001b[49m\u001b[43minput_params\u001b[49m\u001b[43m,\u001b[49m\n\u001b[1;32m    361\u001b[0m \u001b[43m                                       \u001b[49m\u001b[43mmax_index\u001b[49m\u001b[38;5;241;43m=\u001b[39;49m\u001b[43mmax_index\u001b[49m\u001b[43m,\u001b[49m\n\u001b[1;32m    362\u001b[0m \u001b[43m                                       \u001b[49m\u001b[43mparents\u001b[49m\u001b[38;5;241;43m=\u001b[39;49m\u001b[43mparents\u001b[49m\u001b[43m)\u001b[49m\n\u001b[1;32m    363\u001b[0m     \u001b[38;5;28;01mexcept\u001b[39;00m \u001b[38;5;167;01mKeyError\u001b[39;00m:\n\u001b[1;32m    364\u001b[0m         \u001b[38;5;28;01mif\u001b[39;00m param\u001b[38;5;241m.\u001b[39mdefault \u001b[38;5;129;01mis\u001b[39;00m \u001b[38;5;129;01mnot\u001b[39;00m sig\u001b[38;5;241m.\u001b[39mempty:\n",
      "File \u001b[0;32m~/Academic_Workspace/NNPDF/nnvortex/lib/python3.10/site-packages/reportengine/configparser.py:429\u001b[0m, in \u001b[0;36mConfig.resolve_key\u001b[0;34m(self, key, ns, input_params, parents, max_index, write, currspec)\u001b[0m\n\u001b[1;32m    427\u001b[0m     input_params \u001b[38;5;241m=\u001b[39m \u001b[38;5;28mself\u001b[39m\u001b[38;5;241m.\u001b[39minput_params\n\u001b[1;32m    428\u001b[0m \u001b[38;5;28;01mwith\u001b[39;00m \u001b[38;5;28mself\u001b[39m\u001b[38;5;241m.\u001b[39mset_context(key, ns, input_params, parents, currspec):\n\u001b[0;32m--> 429\u001b[0m     \u001b[38;5;28;01mreturn\u001b[39;00m \u001b[38;5;28;43mself\u001b[39;49m\u001b[38;5;241;43m.\u001b[39;49m\u001b[43m_resolve_key\u001b[49m\u001b[43m(\u001b[49m\u001b[43mkey\u001b[49m\u001b[38;5;241;43m=\u001b[39;49m\u001b[43mkey\u001b[49m\u001b[43m,\u001b[49m\u001b[43m \u001b[49m\u001b[43mns\u001b[49m\u001b[38;5;241;43m=\u001b[39;49m\u001b[43mns\u001b[49m\u001b[43m,\u001b[49m\u001b[43m \u001b[49m\u001b[43minput_params\u001b[49m\u001b[38;5;241;43m=\u001b[39;49m\u001b[43minput_params\u001b[49m\u001b[43m,\u001b[49m\n\u001b[1;32m    430\u001b[0m \u001b[43m        \u001b[49m\u001b[43mparents\u001b[49m\u001b[38;5;241;43m=\u001b[39;49m\u001b[43mparents\u001b[49m\u001b[43m,\u001b[49m\u001b[43m \u001b[49m\u001b[43mmax_index\u001b[49m\u001b[38;5;241;43m=\u001b[39;49m\u001b[43mmax_index\u001b[49m\u001b[43m,\u001b[49m\u001b[43m \u001b[49m\u001b[43mwrite\u001b[49m\u001b[38;5;241;43m=\u001b[39;49m\u001b[43mwrite\u001b[49m\u001b[43m)\u001b[49m\n",
      "File \u001b[0;32m~/Academic_Workspace/NNPDF/nnvortex/lib/python3.10/site-packages/reportengine/configparser.py:491\u001b[0m, in \u001b[0;36mConfig._resolve_key\u001b[0;34m(self, key, ns, input_params, parents, max_index, write)\u001b[0m\n\u001b[1;32m    488\u001b[0m     \u001b[38;5;28;01mreturn\u001b[39;00m nsindex, nsval\n\u001b[1;32m    490\u001b[0m \u001b[38;5;28mself\u001b[39m\u001b[38;5;241m.\u001b[39m_tainted \u001b[38;5;241m=\u001b[39m \u001b[38;5;28;01mFalse\u001b[39;00m\n\u001b[0;32m--> 491\u001b[0m val \u001b[38;5;241m=\u001b[39m \u001b[43mproduce_func\u001b[49m\u001b[43m(\u001b[49m\u001b[38;5;241;43m*\u001b[39;49m\u001b[38;5;241;43m*\u001b[39;49m\u001b[43mkwargs\u001b[49m\u001b[43m)\u001b[49m\n\u001b[1;32m    492\u001b[0m \u001b[38;5;28;01mif\u001b[39;00m \u001b[38;5;28mself\u001b[39m\u001b[38;5;241m.\u001b[39m_tainted:\n\u001b[1;32m    493\u001b[0m     put_index \u001b[38;5;241m=\u001b[39m \u001b[38;5;241m0\u001b[39m\n",
      "File \u001b[0;32m~/Academic_Workspace/NNPDF/src/nnpdf/validphys2/src/validphys/config.py:470\u001b[0m, in \u001b[0;36mCoreConfig.produce_commondata\u001b[0;34m(self, dataset_input, use_fitcommondata, fit)\u001b[0m\n\u001b[1;32m    463\u001b[0m     \u001b[38;5;28;01mreturn\u001b[39;00m \u001b[38;5;28mself\u001b[39m\u001b[38;5;241m.\u001b[39mloader\u001b[38;5;241m.\u001b[39mcheck_commondata(\n\u001b[1;32m    464\u001b[0m         setname\u001b[38;5;241m=\u001b[39mname,\n\u001b[1;32m    465\u001b[0m         sysnum\u001b[38;5;241m=\u001b[39msysnum,\n\u001b[1;32m    466\u001b[0m         use_fitcommondata\u001b[38;5;241m=\u001b[39muse_fitcommondata,\n\u001b[1;32m    467\u001b[0m         fit\u001b[38;5;241m=\u001b[39mfit,\n\u001b[1;32m    468\u001b[0m     )\n\u001b[1;32m    469\u001b[0m \u001b[38;5;28;01mexcept\u001b[39;00m DataNotFoundError \u001b[38;5;28;01mas\u001b[39;00m e:\n\u001b[0;32m--> 470\u001b[0m     \u001b[38;5;28;01mraise\u001b[39;00m ConfigError(\u001b[38;5;28mstr\u001b[39m(e), name, \u001b[38;5;28mself\u001b[39m\u001b[38;5;241m.\u001b[39mloader\u001b[38;5;241m.\u001b[39mavailable_datasets) \u001b[38;5;28;01mfrom\u001b[39;00m \u001b[38;5;21;01me\u001b[39;00m\n\u001b[1;32m    471\u001b[0m \u001b[38;5;28;01mexcept\u001b[39;00m LoadFailedError \u001b[38;5;28;01mas\u001b[39;00m e:\n\u001b[1;32m    472\u001b[0m     \u001b[38;5;28;01mraise\u001b[39;00m ConfigError(e) \u001b[38;5;28;01mfrom\u001b[39;00m \u001b[38;5;21;01me\u001b[39;00m\n",
      "\u001b[0;31mConfigError\u001b[0m: Could not find Commondata set: 'CMSTOPDIFF8TEVTPTNORM'. File '/Users/jumax9/Academic_Workspace/NNPDF/nnvortex/share/NNPDF/data/commondata/DATA_CMSTOPDIFF8TEVTPTNORM.dat' does not exist.\nInstead of 'CMSTOPDIFF8TEVTPTNORM', did you mean one of the following?\n - CMSTOPDIFF8TEVTTMNORM\n - CMSTOPDIFF8TEVTRAPNORM\n - CMSTOPDIFF8TEVTTRAPNORM"
     ]
    }
   ],
   "source": [
    "datasets = {\n",
    "    \"CMS_1JET_13TEV_DIF_R04\" : None,\n",
    "    \"CMS_1JET_13TEV_DIF_R07\" : None,\n",
    "    \"CMS_TTBAR_13TEV_2L_DIF_MTTBAR\" : \"CMS_TTB_DIFF_13TEV_2016_2L_TTM\",\n",
    "    \"CMS_TTBAR_13TEV_2L_DIF_MTTBAR-NORM\" : \"CMS_TTB_DIFF_13TEV_2016_2L_TTMNORM\",\n",
    "    \"CMS_TTBAR_13TEV_2L_DIF_PTT\" : \"CMS_TTB_DIFF_13TEV_2016_2L_TPT\",\n",
    "    \"CMS_TTBAR_13TEV_2L_DIF_PTT-NORM\" : \"CMS_TTB_DIFF_13TEV_2016_2L_TPTNORM\",\n",
    "    \"CMS_TTBAR_13TEV_2L_DIF_YT\" : \"CMS_TTB_DIFF_13TEV_2016_2L_TRAP\",\n",
    "    \"CMS_TTBAR_13TEV_2L_DIF_YT-NORM\" : \"CMS_TTB_DIFF_13TEV_2016_2L_TRAPNORM\",\n",
    "    \"CMS_TTBAR_13TEV_2L_DIF_YTTBAR\" : \"CMS_TTB_DIFF_13TEV_2016_2L_TTRAP\",\n",
    "    \"CMS_TTBAR_13TEV_2L_DIF_YTTBAR-NORM\" : \"CMS_TTB_DIFF_13TEV_2016_2L_TTRAPNORM\",\n",
    "    \"CMS_TTBAR_13TEV_LJ_DIF_MTTBAR\" : None,\n",
    "    \"CMS_TTBAR_13TEV_LJ_DIF_MTTBAR-NORM\" : None,\n",
    "    \"CMS_TTBAR_13TEV_LJ_DIF_YTTBAR\" : None,\n",
    "    \"CMS_TTBAR_13TEV_LJ_DIF_YTTBAR-NORM\" : None,\n",
    "    \"CMS_TTBAR_13TEV_LJ_DIF_PTT\" : None,\n",
    "    \"CMS_TTBAR_13TEV_LJ_DIF_PTT-NORM\" : None,\n",
    "    \"CMS_TTBAR_13TEV_LJ_DIF_YT\" : None,\n",
    "    \"CMS_TTBAR_13TEV_LJ_DIF_YT-NORM\" : None,\n",
    "    \"CMS_TTBAR_13TEV_LJ_DIF_MTTBAR-YTTBAR\" : None,\n",
    "    \"CMS_TTBAR_13TEV_LJ_DIF_MTTBAR-YTTBAR-NORM\" : None,\n",
    "    \"CMS_TTBAR_13TEV_TOT_X-SEC\" : \"CMSTTBARTOT13TEV\",\n",
    "    \"CMS_TTBAR_5TEV_TOT_X-SEC\" : \"CMSTTBARTOT5TEV\",\n",
    "    \"CMS_TTBAR_7TEV_TOT_X-SEC\" : \"CMSTTBARTOT7TEV\",\n",
    "    \"CMS_TTBAR_8TEV_2L_DIF_PTT-YT-NORM\" : \"CMS_TTBAR_2D_DIFF_PT_TRAP_NORM\",\n",
    "    \"CMS_TTBAR_8TEV_2L_DIF_MTTBAR-YT-NORM\" : \"CMS_TTBAR_2D_DIFF_MTT_TRAP_NORM\",\n",
    "    \"CMS_TTBAR_8TEV_2L_DIF_MTTBAR-YTTBAR-NORM\" : \"CMS_TTBAR_2D_DIFF_MTT_TTRAP_NORM\",\n",
    "    \"CMS_TTBAR_8TEV_LJ_DIF_MTTBAR-NORM\" : \"CMSTOPDIFF8TEVTTMNORM\",\n",
    "    \"CMS_TTBAR_8TEV_LJ_DIF_PTT-NORM\" : \"CMSTOPDIFF8TEVTPTNORM\",\n",
    "    \"CMS_TTBAR_8TEV_LJ_DIF_YT-NORM\" : \"CMSTOPDIFF8TEVTRAPNORM\",\n",
    "    \"CMS_TTBAR_8TEV_LJ_DIF_YTTBAR-NORM\" : \"CMSTOPDIFF8TEVTTRAPNORM\",\n",
    "    \"CMS_TTBAR_8TEV_TOT_X-SEC\" : \"CMSTTBARTOT8TEV\",\n",
    "}\n",
    "\n",
    "res = test_group(datasets, nofail=False, only_reader=False, skip=18)"
   ]
  },
  {
   "cell_type": "code",
   "execution_count": null,
   "id": "ac586aa7",
   "metadata": {},
   "outputs": [],
   "source": []
  },
  {
   "cell_type": "markdown",
   "id": "7525067a",
   "metadata": {},
   "source": [
    "# DIS data"
   ]
  },
  {
   "cell_type": "code",
   "execution_count": null,
   "id": "a363cdfd",
   "metadata": {
    "scrolled": true
   },
   "outputs": [],
   "source": [
    "datasets = {\n",
    "    \"H1_1JET_319GEV_290PB-1_DIF_Q2PT\" : None,\n",
    "    \"H1_1JET_319GEV_290PB-1_DIF_Q2PT-NORM\" : None,\n",
    "    \"H1_1JET_319GEV_290PB-1_DIF_HIGH-Q2PT\" : None,\n",
    "    \"H1_1JET_319GEV_290PB-1_DIF_HIGH-Q2PT-NORM\" : None,\n",
    "    \"H1_1JET_319GEV_351PB-1_DIF_Q2PT\" : None,\n",
    "    \"H1_1JET_319GEV_351PB-1_DIF_Q2PT-NORM\" : None,\n",
    "    \"H1_2JET_319GEV_290PB-1_DIF_Q2PT\" : None,\n",
    "    \"H1_2JET_319GEV_290PB-1_DIF_Q2PT-NORM\" : None,\n",
    "    \"H1_2JET_319GEV_351PB-1_DIF_Q2PT\" : None,\n",
    "    \"H1_2JET_319GEV_351PB-1_DIF_Q2PT-NORM\" : None,\n",
    "    \"ZEUS_1JET_300GEV_38P6PB-1_DIF_Q2ET\" : None,\n",
    "    \"ZEUS_1JET_319GEV_82PB-1_DIF_Q2ET\" : None,\n",
    "    \"ZEUS_2JET_319GEV_374PB-1_DIF_Q2ET\" : None,\n",
    "}\n",
    "\n",
    "res = test_group(datasets, nofail=True, only_reader=False, skip=None)"
   ]
  },
  {
   "cell_type": "markdown",
   "id": "18beecf0",
   "metadata": {},
   "source": [
    "## CMS ttbar\n",
    "\n",
    "These datasets can be found in the `more_efficient_metadata_for_new_commondata` branch [#1684](https://github.com/NNPDF/nnpdf/pull/1684)"
   ]
  },
  {
   "cell_type": "code",
   "execution_count": null,
   "id": "d2852f43",
   "metadata": {},
   "outputs": [],
   "source": [
    "datasets = {\n",
    "    \"CMSTOPDIFF8TEVTTRAPNORM\":  \"CMS_TTBAR_8TEV_LJ_DIF_YTTBAR-NORM\",\n",
    "}\n",
    "\n",
    "#res = test_group(datasets, nofail=False)"
   ]
  },
  {
   "cell_type": "code",
   "execution_count": null,
   "id": "05081095",
   "metadata": {},
   "outputs": [],
   "source": []
  }
 ],
 "metadata": {
  "kernelspec": {
   "display_name": "Python 3 (ipykernel)",
   "language": "python",
   "name": "python3"
  },
  "language_info": {
   "codemirror_mode": {
    "name": "ipython",
    "version": 3
   },
   "file_extension": ".py",
   "mimetype": "text/x-python",
   "name": "python",
   "nbconvert_exporter": "python",
   "pygments_lexer": "ipython3",
   "version": "3.10.13"
  }
 },
 "nbformat": 4,
 "nbformat_minor": 5
}
