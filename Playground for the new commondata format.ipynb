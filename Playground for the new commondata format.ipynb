{
 "cells": [
  {
   "cell_type": "code",
   "execution_count": 1,
   "id": "cc3f217c",
   "metadata": {},
   "outputs": [],
   "source": [
    "from inspect import ismethod\n",
    "from IPython.display import HTML as html_print\n",
    "import numpy as np\n",
    "\n",
    "from validphys.api import API\n",
    "from validphys.commondataparser import parse_commondata_new"
   ]
  },
  {
   "cell_type": "markdown",
   "id": "9de23dc5",
   "metadata": {},
   "source": [
    "## Old-New comparison\n",
    "\n",
    "The next cells use `parse_commondata` and `pase_commondata_new` to compare the `CommonData` objects returned by parsing common data files in the old and new styles.\n",
    "\n",
    "At the moment the \"new commondatas\" are in a hard-coded folder called `new_data` (it is hardcoded in `commondataparser.py` while the old ones are taken from whatever was installed in `share/NNPDF/data`. Eventually the new commondata will also live there.\n",
    "\n",
    "The comparison checks that the data, uncertainties and kinematics are the same (or as close as they can be). The format of the dataframes is slightly different at the moment, but this is at the moment a desired result."
   ]
  },
  {
   "cell_type": "code",
   "execution_count": 2,
   "id": "9872e34d",
   "metadata": {},
   "outputs": [],
   "source": [
    "# Helper functions\n",
    "\n",
    "def load_old_and_new(old_name, new_name, theoryid=200):\n",
    "    \"\"\"Load the old and new commondata. The theory id is needed by the validphys API when using .dataset\n",
    "    but it is never used. Putting 200 as default since I guess everyone has that theory installed already.\n",
    "    \"\"\"\n",
    "    old_cd = API.dataset(dataset_input={\"dataset\": old_name}, use_cuts=\"nocuts\", theoryid=theoryid).load_commondata()\n",
    "\n",
    "    # If this doesn't find your data, change the path inside `commondataparser.py` to wherever your data is\n",
    "    # the variable is `_folder_data` at the beginning of the file.\n",
    "    new_cd = parse_commondata_new(new_name)\n",
    "    return old_cd, new_cd\n",
    "\n",
    "def print_check(msg, res):\n",
    "    color = \"green\" if res else \"red\"\n",
    "    display(html_print(f\"<text style=color:{color}>equal={res} {msg}</text>\"))\n",
    "\n",
    "def check_this(cds, method, naming=None):\n",
    "    test = None\n",
    "    check_result = True\n",
    "    if naming is None:\n",
    "        naming = method\n",
    "    \n",
    "    for cd in cds:\n",
    "        res = getattr(cd, method)\n",
    "        if ismethod(res): # since sometimes we have methods, sometimes they are attributes\n",
    "            res = res()\n",
    "        if test is None:\n",
    "            test = res\n",
    "            continue\n",
    "        check_result = np.allclose(res, test)\n",
    "        \n",
    "    print_check(f\"Testing {naming} ({method})\", check_result)\n",
    "\n",
    "\n",
    "def run_checks(old_cd, new_cd):\n",
    "    \"\"\"Run through a number of checks to ensure they contain the same information\"\"\"\n",
    "    cds = [old_cd, new_cd]\n",
    "        \n",
    "    check_this(cds, \"get_cv\", naming=\"central_values\")\n",
    "    check_this(cds, \"get_kintable\", naming=\"kinematics\")\n",
    "    check_this(cds, \"multiplicative_errors\")\n",
    "    check_this(cds, \"additive_errors\")\n",
    "    check_this(cds, \"stat_errors\")"
   ]
  },
  {
   "cell_type": "code",
   "execution_count": 3,
   "id": "53958d5a",
   "metadata": {},
   "outputs": [],
   "source": [
    "def test_group(datasets, nofail=False):\n",
    "    all_cds = []\n",
    "    for old_name, new_name in datasets.items():\n",
    "        print(f\"\\nChecking {new_name} (old name: {old_name})\")\n",
    "        try:\n",
    "            old_cd, new_cd = load_old_and_new(old_name, new_name)\n",
    "            all_cds.append((old_cd, new_cd))\n",
    "            print(\" > Comparing values...\")\n",
    "            run_checks(old_cd, new_cd)\n",
    "        except FileNotFoundError:\n",
    "            print(f\"Files for {new_name} not found\")\n",
    "            continue\n",
    "        except Exception as e:\n",
    "            if nofail:\n",
    "                print(f\"### FAILED for {new_name}\\n\")\n",
    "                continue\n",
    "            raise e\n",
    "    return all_cds"
   ]
  },
  {
   "cell_type": "markdown",
   "id": "f77d6102",
   "metadata": {},
   "source": [
    "## FT Drell-yan\n",
    "\n",
    "These datasets can be found in the `E605` branch [#1679](https://github.com/NNPDF/nnpdf/pull/1679)"
   ]
  },
  {
   "cell_type": "code",
   "execution_count": 8,
   "id": "a1c03485",
   "metadata": {
    "scrolled": false
   },
   "outputs": [
    {
     "name": "stdout",
     "output_type": "stream",
     "text": [
      "\n",
      "Checking E605_DY_38P8GEV_PXSEC (old name: DYE605)\n",
      " > Comparing values...\n"
     ]
    },
    {
     "data": {
      "text/html": [
       "<text style=color:green>equal=True Testing central_values (get_cv)</text>"
      ],
      "text/plain": [
       "<IPython.core.display.HTML object>"
      ]
     },
     "metadata": {},
     "output_type": "display_data"
    },
    {
     "data": {
      "text/html": [
       "<text style=color:green>equal=True Testing kinematics (get_kintable)</text>"
      ],
      "text/plain": [
       "<IPython.core.display.HTML object>"
      ]
     },
     "metadata": {},
     "output_type": "display_data"
    },
    {
     "data": {
      "text/html": [
       "<text style=color:green>equal=True Testing multiplicative_errors (multiplicative_errors)</text>"
      ],
      "text/plain": [
       "<IPython.core.display.HTML object>"
      ]
     },
     "metadata": {},
     "output_type": "display_data"
    },
    {
     "data": {
      "text/html": [
       "<text style=color:red>equal=False Testing additive_errors (additive_errors)</text>"
      ],
      "text/plain": [
       "<IPython.core.display.HTML object>"
      ]
     },
     "metadata": {},
     "output_type": "display_data"
    },
    {
     "data": {
      "text/html": [
       "<text style=color:red>equal=False Testing stat_errors (stat_errors)</text>"
      ],
      "text/plain": [
       "<IPython.core.display.HTML object>"
      ]
     },
     "metadata": {},
     "output_type": "display_data"
    },
    {
     "name": "stdout",
     "output_type": "stream",
     "text": [
      "\n",
      "Checking E866_DY_800GEV_PXSEC (old name: DYE886P)\n",
      " > Comparing values...\n"
     ]
    },
    {
     "data": {
      "text/html": [
       "<text style=color:red>equal=False Testing central_values (get_cv)</text>"
      ],
      "text/plain": [
       "<IPython.core.display.HTML object>"
      ]
     },
     "metadata": {},
     "output_type": "display_data"
    },
    {
     "data": {
      "text/html": [
       "<text style=color:red>equal=False Testing kinematics (get_kintable)</text>"
      ],
      "text/plain": [
       "<IPython.core.display.HTML object>"
      ]
     },
     "metadata": {},
     "output_type": "display_data"
    },
    {
     "data": {
      "text/html": [
       "<text style=color:green>equal=True Testing multiplicative_errors (multiplicative_errors)</text>"
      ],
      "text/plain": [
       "<IPython.core.display.HTML object>"
      ]
     },
     "metadata": {},
     "output_type": "display_data"
    },
    {
     "data": {
      "text/html": [
       "<text style=color:red>equal=False Testing additive_errors (additive_errors)</text>"
      ],
      "text/plain": [
       "<IPython.core.display.HTML object>"
      ]
     },
     "metadata": {},
     "output_type": "display_data"
    },
    {
     "data": {
      "text/html": [
       "<text style=color:red>equal=False Testing stat_errors (stat_errors)</text>"
      ],
      "text/plain": [
       "<IPython.core.display.HTML object>"
      ]
     },
     "metadata": {},
     "output_type": "display_data"
    },
    {
     "name": "stdout",
     "output_type": "stream",
     "text": [
      "\n",
      "Checking E866_DY_800GEV_RATIO_PDXSECRATIO (old name: DYE886R)\n",
      " > Comparing values...\n"
     ]
    },
    {
     "data": {
      "text/html": [
       "<text style=color:green>equal=True Testing central_values (get_cv)</text>"
      ],
      "text/plain": [
       "<IPython.core.display.HTML object>"
      ]
     },
     "metadata": {},
     "output_type": "display_data"
    },
    {
     "data": {
      "text/html": [
       "<text style=color:red>equal=False Testing kinematics (get_kintable)</text>"
      ],
      "text/plain": [
       "<IPython.core.display.HTML object>"
      ]
     },
     "metadata": {},
     "output_type": "display_data"
    },
    {
     "data": {
      "text/html": [
       "<text style=color:green>equal=True Testing multiplicative_errors (multiplicative_errors)</text>"
      ],
      "text/plain": [
       "<IPython.core.display.HTML object>"
      ]
     },
     "metadata": {},
     "output_type": "display_data"
    },
    {
     "data": {
      "text/html": [
       "<text style=color:green>equal=True Testing additive_errors (additive_errors)</text>"
      ],
      "text/plain": [
       "<IPython.core.display.HTML object>"
      ]
     },
     "metadata": {},
     "output_type": "display_data"
    },
    {
     "data": {
      "text/html": [
       "<text style=color:green>equal=True Testing stat_errors (stat_errors)</text>"
      ],
      "text/plain": [
       "<IPython.core.display.HTML object>"
      ]
     },
     "metadata": {},
     "output_type": "display_data"
    },
    {
     "name": "stdout",
     "output_type": "stream",
     "text": [
      "\n",
      "Checking E906_DY_120GEV_PDXSECRATIO (old name: DYE906R)\n",
      " > Comparing values...\n"
     ]
    },
    {
     "data": {
      "text/html": [
       "<text style=color:green>equal=True Testing central_values (get_cv)</text>"
      ],
      "text/plain": [
       "<IPython.core.display.HTML object>"
      ]
     },
     "metadata": {},
     "output_type": "display_data"
    },
    {
     "data": {
      "text/html": [
       "<text style=color:green>equal=True Testing kinematics (get_kintable)</text>"
      ],
      "text/plain": [
       "<IPython.core.display.HTML object>"
      ]
     },
     "metadata": {},
     "output_type": "display_data"
    },
    {
     "data": {
      "text/html": [
       "<text style=color:green>equal=True Testing multiplicative_errors (multiplicative_errors)</text>"
      ],
      "text/plain": [
       "<IPython.core.display.HTML object>"
      ]
     },
     "metadata": {},
     "output_type": "display_data"
    },
    {
     "data": {
      "text/html": [
       "<text style=color:red>equal=False Testing additive_errors (additive_errors)</text>"
      ],
      "text/plain": [
       "<IPython.core.display.HTML object>"
      ]
     },
     "metadata": {},
     "output_type": "display_data"
    },
    {
     "data": {
      "text/html": [
       "<text style=color:green>equal=True Testing stat_errors (stat_errors)</text>"
      ],
      "text/plain": [
       "<IPython.core.display.HTML object>"
      ]
     },
     "metadata": {},
     "output_type": "display_data"
    }
   ],
   "source": [
    "datasets = {\n",
    "    \"DYE605\":  \"E605_DY_38P8GEV_PXSEC\",\n",
    "    \"DYE886P\": \"E866_DY_800GEV_PXSEC\",\n",
    "    \"DYE886R\": \"E866_DY_800GEV_RATIO_PDXSECRATIO\",\n",
    "    \"DYE906R\": \"E906_DY_120GEV_PDXSECRATIO\",\n",
    "}\n",
    "\n",
    "res_ft = test_group(datasets, nofail=False)\n",
    "\n",
    "\n",
    "#old_cd, new_cd = load_old_and_new(\"DYE906R\", \"E906_DY_120GEV_PDXSECRATIO\")\n",
    "#run_checks(old_cd, new_cd)"
   ]
  },
  {
   "cell_type": "code",
   "execution_count": 5,
   "id": "94add5c9",
   "metadata": {},
   "outputs": [
    {
     "data": {
      "text/html": [
       "<div>\n",
       "<style scoped>\n",
       "    .dataframe tbody tr th:only-of-type {\n",
       "        vertical-align: middle;\n",
       "    }\n",
       "\n",
       "    .dataframe tbody tr th {\n",
       "        vertical-align: top;\n",
       "    }\n",
       "\n",
       "    .dataframe thead th {\n",
       "        text-align: right;\n",
       "    }\n",
       "</style>\n",
       "<table border=\"1\" class=\"dataframe\">\n",
       "  <thead>\n",
       "    <tr style=\"text-align: right;\">\n",
       "      <th></th>\n",
       "      <th>CORR</th>\n",
       "      <th>CORR</th>\n",
       "      <th>CORR</th>\n",
       "      <th>CORR</th>\n",
       "      <th>CORR</th>\n",
       "      <th>CORR</th>\n",
       "      <th>CORR</th>\n",
       "    </tr>\n",
       "    <tr>\n",
       "      <th>entry</th>\n",
       "      <th></th>\n",
       "      <th></th>\n",
       "      <th></th>\n",
       "      <th></th>\n",
       "      <th></th>\n",
       "      <th></th>\n",
       "      <th></th>\n",
       "    </tr>\n",
       "  </thead>\n",
       "  <tbody>\n",
       "    <tr>\n",
       "      <th>1</th>\n",
       "      <td>0.053</td>\n",
       "      <td>0.036974</td>\n",
       "      <td>0.016566</td>\n",
       "      <td>0.030261</td>\n",
       "      <td>-0.011774</td>\n",
       "      <td>0.002035</td>\n",
       "      <td>0.000039</td>\n",
       "    </tr>\n",
       "    <tr>\n",
       "      <th>2</th>\n",
       "      <td>0.025</td>\n",
       "      <td>0.035088</td>\n",
       "      <td>0.008319</td>\n",
       "      <td>-0.003209</td>\n",
       "      <td>0.010425</td>\n",
       "      <td>-0.012099</td>\n",
       "      <td>-0.017443</td>\n",
       "    </tr>\n",
       "    <tr>\n",
       "      <th>3</th>\n",
       "      <td>0.044</td>\n",
       "      <td>0.033814</td>\n",
       "      <td>0.008153</td>\n",
       "      <td>-0.003064</td>\n",
       "      <td>0.009699</td>\n",
       "      <td>-0.014282</td>\n",
       "      <td>0.016514</td>\n",
       "    </tr>\n",
       "    <tr>\n",
       "      <th>4</th>\n",
       "      <td>0.032</td>\n",
       "      <td>0.036460</td>\n",
       "      <td>0.009611</td>\n",
       "      <td>-0.004341</td>\n",
       "      <td>0.018250</td>\n",
       "      <td>0.019098</td>\n",
       "      <td>0.001285</td>\n",
       "    </tr>\n",
       "    <tr>\n",
       "      <th>5</th>\n",
       "      <td>0.034</td>\n",
       "      <td>0.035898</td>\n",
       "      <td>0.013321</td>\n",
       "      <td>-0.023640</td>\n",
       "      <td>-0.021399</td>\n",
       "      <td>0.002670</td>\n",
       "      <td>0.000049</td>\n",
       "    </tr>\n",
       "    <tr>\n",
       "      <th>6</th>\n",
       "      <td>0.039</td>\n",
       "      <td>0.047451</td>\n",
       "      <td>-0.042333</td>\n",
       "      <td>0.002197</td>\n",
       "      <td>-0.003281</td>\n",
       "      <td>0.000844</td>\n",
       "      <td>0.000075</td>\n",
       "    </tr>\n",
       "  </tbody>\n",
       "</table>\n",
       "</div>"
      ],
      "text/plain": [
       "        CORR      CORR      CORR      CORR      CORR      CORR      CORR\n",
       "entry                                                                   \n",
       "1      0.053  0.036974  0.016566  0.030261 -0.011774  0.002035  0.000039\n",
       "2      0.025  0.035088  0.008319 -0.003209  0.010425 -0.012099 -0.017443\n",
       "3      0.044  0.033814  0.008153 -0.003064  0.009699 -0.014282  0.016514\n",
       "4      0.032  0.036460  0.009611 -0.004341  0.018250  0.019098  0.001285\n",
       "5      0.034  0.035898  0.013321 -0.023640 -0.021399  0.002670  0.000049\n",
       "6      0.039  0.047451 -0.042333  0.002197 -0.003281  0.000844  0.000075"
      ]
     },
     "execution_count": 5,
     "metadata": {},
     "output_type": "execute_result"
    }
   ],
   "source": [
    "old_cd, new_cd = res_ft[0]\n",
    "\n",
    "old_cd.additive_errors"
   ]
  },
  {
   "cell_type": "code",
   "execution_count": 6,
   "id": "02027834",
   "metadata": {},
   "outputs": [
    {
     "data": {
      "text/html": [
       "<div>\n",
       "<style scoped>\n",
       "    .dataframe tbody tr th:only-of-type {\n",
       "        vertical-align: middle;\n",
       "    }\n",
       "\n",
       "    .dataframe tbody tr th {\n",
       "        vertical-align: top;\n",
       "    }\n",
       "\n",
       "    .dataframe thead th {\n",
       "        text-align: right;\n",
       "    }\n",
       "</style>\n",
       "<table border=\"1\" class=\"dataframe\">\n",
       "  <thead>\n",
       "    <tr style=\"text-align: right;\">\n",
       "      <th></th>\n",
       "      <th>CORR</th>\n",
       "      <th>CORR</th>\n",
       "      <th>CORR</th>\n",
       "      <th>CORR</th>\n",
       "      <th>CORR</th>\n",
       "      <th>CORR</th>\n",
       "      <th>CORR</th>\n",
       "    </tr>\n",
       "    <tr>\n",
       "      <th>entry</th>\n",
       "      <th></th>\n",
       "      <th></th>\n",
       "      <th></th>\n",
       "      <th></th>\n",
       "      <th></th>\n",
       "      <th></th>\n",
       "      <th></th>\n",
       "    </tr>\n",
       "  </thead>\n",
       "  <tbody>\n",
       "    <tr>\n",
       "      <th>1</th>\n",
       "      <td>0.053</td>\n",
       "      <td>0.036974</td>\n",
       "      <td>0.016566</td>\n",
       "      <td>-0.030261</td>\n",
       "      <td>0.011774</td>\n",
       "      <td>0.002035</td>\n",
       "      <td>0.000039</td>\n",
       "    </tr>\n",
       "    <tr>\n",
       "      <th>2</th>\n",
       "      <td>0.025</td>\n",
       "      <td>0.035088</td>\n",
       "      <td>0.008319</td>\n",
       "      <td>0.003209</td>\n",
       "      <td>-0.010425</td>\n",
       "      <td>-0.012099</td>\n",
       "      <td>-0.017443</td>\n",
       "    </tr>\n",
       "    <tr>\n",
       "      <th>3</th>\n",
       "      <td>0.044</td>\n",
       "      <td>0.033814</td>\n",
       "      <td>0.008153</td>\n",
       "      <td>0.003064</td>\n",
       "      <td>-0.009699</td>\n",
       "      <td>-0.014282</td>\n",
       "      <td>0.016514</td>\n",
       "    </tr>\n",
       "    <tr>\n",
       "      <th>4</th>\n",
       "      <td>0.032</td>\n",
       "      <td>0.036460</td>\n",
       "      <td>0.009611</td>\n",
       "      <td>0.004341</td>\n",
       "      <td>-0.018250</td>\n",
       "      <td>0.019098</td>\n",
       "      <td>0.001285</td>\n",
       "    </tr>\n",
       "    <tr>\n",
       "      <th>5</th>\n",
       "      <td>0.034</td>\n",
       "      <td>0.035898</td>\n",
       "      <td>0.013321</td>\n",
       "      <td>0.023640</td>\n",
       "      <td>0.021399</td>\n",
       "      <td>0.002670</td>\n",
       "      <td>0.000049</td>\n",
       "    </tr>\n",
       "    <tr>\n",
       "      <th>6</th>\n",
       "      <td>0.039</td>\n",
       "      <td>0.047451</td>\n",
       "      <td>-0.042333</td>\n",
       "      <td>-0.002197</td>\n",
       "      <td>0.003281</td>\n",
       "      <td>0.000844</td>\n",
       "      <td>0.000075</td>\n",
       "    </tr>\n",
       "  </tbody>\n",
       "</table>\n",
       "</div>"
      ],
      "text/plain": [
       "        CORR      CORR      CORR      CORR      CORR      CORR      CORR\n",
       "entry                                                                   \n",
       "1      0.053  0.036974  0.016566 -0.030261  0.011774  0.002035  0.000039\n",
       "2      0.025  0.035088  0.008319  0.003209 -0.010425 -0.012099 -0.017443\n",
       "3      0.044  0.033814  0.008153  0.003064 -0.009699 -0.014282  0.016514\n",
       "4      0.032  0.036460  0.009611  0.004341 -0.018250  0.019098  0.001285\n",
       "5      0.034  0.035898  0.013321  0.023640  0.021399  0.002670  0.000049\n",
       "6      0.039  0.047451 -0.042333 -0.002197  0.003281  0.000844  0.000075"
      ]
     },
     "execution_count": 6,
     "metadata": {},
     "output_type": "execute_result"
    }
   ],
   "source": [
    "new_cd.additive_errors"
   ]
  },
  {
   "cell_type": "markdown",
   "id": "485e2168",
   "metadata": {},
   "source": [
    "## CMS ttbar\n",
    "\n",
    "These datasets can be found in the `more_efficient_metadata_for_new_commondata` branch [#1684](https://github.com/NNPDF/nnpdf/pull/1684)"
   ]
  },
  {
   "cell_type": "code",
   "execution_count": 7,
   "id": "d2852f43",
   "metadata": {
    "scrolled": false
   },
   "outputs": [
    {
     "name": "stdout",
     "output_type": "stream",
     "text": [
      "\n",
      "Checking CMS_TTBAR_8TEV_LJ_DIF_YTTBAR-NORM (old name: CMSTOPDIFF8TEVTTRAPNORM)\n",
      "Files for CMS_TTBAR_8TEV_LJ_DIF_YTTBAR-NORM not found\n"
     ]
    }
   ],
   "source": [
    "datasets = {\n",
    "    \"CMSTOPDIFF8TEVTTRAPNORM\":  \"CMS_TTBAR_8TEV_LJ_DIF_YTTBAR-NORM\",\n",
    "}\n",
    "\n",
    "res = test_group(datasets, nofail=False)"
   ]
  },
  {
   "cell_type": "code",
   "execution_count": null,
   "id": "5906c7f1",
   "metadata": {},
   "outputs": [],
   "source": []
  }
 ],
 "metadata": {
  "kernelspec": {
   "display_name": "Python 3 (ipykernel)",
   "language": "python",
   "name": "python3"
  },
  "language_info": {
   "codemirror_mode": {
    "name": "ipython",
    "version": 3
   },
   "file_extension": ".py",
   "mimetype": "text/x-python",
   "name": "python",
   "nbconvert_exporter": "python",
   "pygments_lexer": "ipython3",
   "version": "3.10.10"
  }
 },
 "nbformat": 4,
 "nbformat_minor": 5
}
