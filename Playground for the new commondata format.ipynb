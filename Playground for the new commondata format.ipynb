{
 "cells": [
  {
   "cell_type": "code",
   "execution_count": 1,
   "id": "cc3f217c",
   "metadata": {},
   "outputs": [],
   "source": [
    "from inspect import ismethod\n",
    "from IPython.display import HTML as html_print\n",
    "import numpy as np\n",
    "\n",
    "from validphys.api import API\n",
    "from validphys.commondataparser import parse_commondata_new"
   ]
  },
  {
   "cell_type": "markdown",
   "id": "9de23dc5",
   "metadata": {},
   "source": [
    "## Old-New comparison\n",
    "\n",
    "The next cells use `parse_commondata` and `pase_commondata_new` to compare the `CommonData` objects returned by parsing common data files in the old and new styles.\n",
    "\n",
    "At the moment the \"new commondatas\" are in a hard-coded folder called `new_data` (it is hardcoded in `commondataparser.py` while the old ones are taken from whatever was installed in `share/NNPDF/data`. Eventually the new commondata will also live there.\n",
    "\n",
    "The comparison checks that the data, uncertainties and kinematics are the same (or as close as they can be). The format of the dataframes is slightly different at the moment, but this is at the moment a desired result."
   ]
  },
  {
   "cell_type": "code",
   "execution_count": 2,
   "id": "9872e34d",
   "metadata": {},
   "outputs": [],
   "source": [
    "# Helper functions\n",
    "\n",
    "def load_old_and_new(old_name, new_name, theoryid=200):\n",
    "    \"\"\"Load the old and new commondata. The theory id is needed by the validphys API when using .dataset\n",
    "    but it is never used. Putting 200 as default since I guess everyone has that theory installed already.\n",
    "    \"\"\"\n",
    "    \n",
    "    # If this doesn't find your data, change the path inside `commondataparser.py` to wherever your data is\n",
    "    # the variable is `_folder_data` at the beginning of the file.\n",
    "    new_cd = parse_commondata_new(new_name)\n",
    "    \n",
    "    if old_name is None:\n",
    "        old_cd = None\n",
    "    else:\n",
    "        old_cd = API.dataset(dataset_input={\"dataset\": old_name}, use_cuts=\"nocuts\", theoryid=theoryid).load_commondata()\n",
    "\n",
    "    return old_cd, new_cd\n",
    "\n",
    "def print_check(msg, res):\n",
    "    color = \"green\" if res else \"red\"\n",
    "    display(html_print(f\"<text style=color:{color}>equal={res} {msg}</text>\"))\n",
    "\n",
    "def check_this(cds, method, naming=None, unc=False):\n",
    "    \"\"\"Check whether the results of `method` for two different commondata agree\"\"\"\n",
    "    if len(cds) != 2:\n",
    "        raise ValueError(f\"Can only check two commondata, not {len(cds)}\")\n",
    "        \n",
    "    test = None\n",
    "    check_result = True\n",
    "    if naming is None:\n",
    "        naming = method\n",
    "    \n",
    "    values = []\n",
    "    for cd in cds:\n",
    "        res = getattr(cd, method)\n",
    "        if ismethod(res): # since sometimes we have methods, sometimes they are attributes\n",
    "            res = res()\n",
    "        values.append(res)\n",
    "        \n",
    "    check_result = np.allclose(*values)\n",
    "    \n",
    "    print_check(f\"Testing {naming} ({method})\", check_result)\n",
    "    \n",
    "    if not check_result:\n",
    "        nnn = (values[0]+values[1]) + 1e-7\n",
    "        val = np.max( (values[0]-values[1])/nnn*100)\n",
    "        if val == val:\n",
    "            print(f\"       Max % diff: {np.abs(val)}\")\n",
    "\n",
    "def check_systematics(cds):\n",
    "    additive_attr = \"additive_errors\"\n",
    "    multipli_attr = \"multiplicative_errors\"\n",
    "    \n",
    "    add = []\n",
    "    mult = []\n",
    "    covmats = []\n",
    "    syserr = []\n",
    "    \n",
    "    nsys = cds[0].nsys\n",
    "\n",
    "    for cd in cds:\n",
    "        if cd.nsys != nsys:\n",
    "            print_check(f\"The number of systematic uncertainites is different!!\", False)\n",
    "            # it doesn't make sense to continue here\n",
    "            return\n",
    "            \n",
    "        res_add = getattr(cd, additive_attr)\n",
    "        res_mult = getattr(cd, multipli_attr)\n",
    "        res_sys = cd.systematic_errors()\n",
    "        \n",
    "        add.append(res_add)\n",
    "        mult.append(res_mult)\n",
    "        syserr.append(res_sys)\n",
    "        covmats.append(res_add @ res_add.T)\n",
    "    \n",
    "    # Even if the number of systematics is the same, it is not a given that they are\n",
    "    # distributed in the same way between multiplicative and additive, check that\n",
    "    all_nmul = [i.shape[-1] for i in mult]    \n",
    "    if not len(np.unique(all_nmul)) == 1:\n",
    "        print(f\" > The combination of multiplicative and additive is different!\")\n",
    "        check_sys = np.allclose(*syserr)\n",
    "        print_check(f\"Testing the raw table of systematics: systematic_errors()\", check_sys)\n",
    "        return\n",
    "\n",
    "    check_multiplicative = np.allclose(*mult)\n",
    "    print_check(f\"Testing multiplicative errors ({multipli_attr})\", check_multiplicative)\n",
    "        \n",
    "    check_additive = np.allclose(*add)\n",
    "    print_check(f\"Testing additive errors ({additive_attr})\", check_additive)\n",
    "    \n",
    "    # When checking additive uncertainties, check also the covmat obtained from res @ res.T\n",
    "    # since there might -1 signs in the eigenvectors\n",
    "    if not check_additive:\n",
    "        check_again = np.allclose(*covmats)\n",
    "        print(\" > > The resulting covmat instead agrees? \", check_again)\n",
    "        \n",
    "\n",
    "def run_checks(old_cd, new_cd):\n",
    "    \"\"\"Run through a number of checks to ensure they contain the same information\"\"\"\n",
    "    cds = [old_cd, new_cd]\n",
    "        \n",
    "    check_this(cds, \"get_cv\", naming=\"central_values\")\n",
    "    check_this(cds, \"get_kintable\", naming=\"kinematics\")\n",
    "    check_this(cds, \"stat_errors\")\n",
    "    check_systematics(cds)\n",
    "    \n",
    "    \n",
    "def parsedat(dat_str):\n",
    "    \"\"\"Parse info from https://github.com/NNPDF/nnpdf/issues/1709\"\"\"\n",
    "    ret = \"datasets = {\"\n",
    "    for i in dat_str.split(\"\\n\"):\n",
    "        sp = i.strip().split(\"|\")\n",
    "        new = f'\"{sp[1].strip()}\"'\n",
    "        old = sp[2].strip()\n",
    "        if old == \"NA\":\n",
    "            old = \"None\"\n",
    "        else:\n",
    "            old = f'\"{old}\"'\n",
    "        ret += f\"\\n    {new} : {old},\"\n",
    "    ret += \"\\n}\"\n",
    "    print(ret)"
   ]
  },
  {
   "cell_type": "code",
   "execution_count": 3,
   "id": "4e6cb76a",
   "metadata": {},
   "outputs": [
    {
     "name": "stdout",
     "output_type": "stream",
     "text": [
      "datasets = {\n",
      "    \"H1_1JET_319GEV_290PB-1_DIF_Q2PT\" : None,\n",
      "    \"H1_1JET_319GEV_290PB-1_DIF_Q2PT-NORM\" : None,\n",
      "    \"H1_1JET_319GEV_290PB-1_DIF_HIGH-Q2PT\" : None,\n",
      "    \"H1_1JET_319GEV_290PB-1_DIF_HIGH-Q2PT-NORM\" : None,\n",
      "    \"H1_1JET_319GEV_351PB-1_DIF_Q2PT\" : None,\n",
      "    \"H1_1JET_319GEV_351PB-1_DIF_Q2PT-NORM\" : None,\n",
      "    \"H1_2JET_319GEV_290PB-1_DIF_Q2PT\" : None,\n",
      "    \"H1_2JET_319GEV_290PB-1_DIF_Q2PT-NORM\" : None,\n",
      "    \"H1_2JET_319GEV_351PB-1_DIF_Q2PT\" : None,\n",
      "    \"H1_2JET_319GEV_351PB-1_DIF_Q2PT-NORM\" : None,\n",
      "    \"ZEUS_1JET_300GEV_38P6PB-1_DIF_Q2ET\" : None,\n",
      "    \"ZEUS_1JET_319GEV_82PB-1_DIF_Q2ET\" : None,\n",
      "    \"ZEUS_2JET_319GEV_374PB-1_DIF_Q2ET\" : None,\n",
      "}\n"
     ]
    }
   ],
   "source": [
    "dat = \"\"\"| H1_1JET_319GEV_290PB-1_DIF_Q2PT | NA ||`gluon_pdf_ncd`||\n",
    "| H1_1JET_319GEV_290PB-1_DIF_Q2PT-NORM | NA ||`gluon_pdf_ncd`||\n",
    "| H1_1JET_319GEV_290PB-1_DIF_HIGH-Q2PT | NA ||`gluon_pdf_ncd`||\n",
    "| H1_1JET_319GEV_290PB-1_DIF_HIGH-Q2PT-NORM | NA ||`gluon_pdf_ncd`||\n",
    "| H1_1JET_319GEV_351PB-1_DIF_Q2PT | NA ||`gluon_pdf_ncd`||\n",
    "| H1_1JET_319GEV_351PB-1_DIF_Q2PT-NORM | NA ||`gluon_pdf_ncd`||\n",
    "| H1_2JET_319GEV_290PB-1_DIF_Q2PT | NA ||`gluon_pdf_ncd`||\n",
    "| H1_2JET_319GEV_290PB-1_DIF_Q2PT-NORM | NA ||`gluon_pdf_ncd`||\n",
    "| H1_2JET_319GEV_351PB-1_DIF_Q2PT | NA ||`gluon_pdf_ncd`||\n",
    "| H1_2JET_319GEV_351PB-1_DIF_Q2PT-NORM | NA ||`gluon_pdf_ncd`||\n",
    "| ZEUS_1JET_300GEV_38P6PB-1_DIF_Q2ET | NA ||`gluon_pdf_ncd`||\n",
    "| ZEUS_1JET_319GEV_82PB-1_DIF_Q2ET | NA ||`gluon_pdf_ncd`||\n",
    "| ZEUS_2JET_319GEV_374PB-1_DIF_Q2ET  | NA ||`gluon_pdf_ncd`||\"\"\"\n",
    "\n",
    "parsedat(dat)"
   ]
  },
  {
   "cell_type": "code",
   "execution_count": 4,
   "id": "bf73a19b",
   "metadata": {},
   "outputs": [],
   "source": [
    "def test_group(datasets, nofail=False, only_reader=False, skip = None):\n",
    "    all_cds = []\n",
    "    for i, (new_name, old_name) in enumerate(datasets.items()):\n",
    "        if skip is not None:\n",
    "            if i < skip:\n",
    "                continue\n",
    "        print(f\"\\nChecking {i} {new_name} (old name: {old_name})\")\n",
    "        try:\n",
    "            old_cd, new_cd = load_old_and_new(old_name, new_name)\n",
    "            all_cds.append((old_cd, new_cd))\n",
    "            \n",
    "            if old_cd is not None and not only_reader:\n",
    "                print(\" > Comparing values...\")\n",
    "                run_checks(old_cd, new_cd)\n",
    "            else:\n",
    "                print(\" > New commondata read ok\")\n",
    "                \n",
    "        except FileNotFoundError:\n",
    "            print(f\"Files for {new_name} not found\")\n",
    "            continue\n",
    "        except Exception as e:\n",
    "            if nofail:\n",
    "                print(f\"### FAILED for {new_name}\\n\")\n",
    "                continue\n",
    "            raise e\n",
    "    return all_cds"
   ]
  },
  {
   "cell_type": "markdown",
   "id": "f77d6102",
   "metadata": {},
   "source": [
    "## FT Drell-yan\n",
    "\n",
    "These datasets can be found in the `E605` branch [#1679](https://github.com/NNPDF/nnpdf/pull/1679)"
   ]
  },
  {
   "cell_type": "code",
   "execution_count": 5,
   "id": "a1c03485",
   "metadata": {
    "scrolled": false
   },
   "outputs": [
    {
     "name": "stdout",
     "output_type": "stream",
     "text": [
      "\n",
      "Checking 0 E605_DY_38P8GEV_PXSEC (old name: DYE605)\n",
      "Files for E605_DY_38P8GEV_PXSEC not found\n",
      "\n",
      "Checking 1 E866_DY_800GEV_PXSEC (old name: DYE886P)\n",
      "Files for E866_DY_800GEV_PXSEC not found\n",
      "\n",
      "Checking 2 E866_DY_800GEV_RATIO_PDXSECRATIO (old name: DYE886R)\n",
      "Files for E866_DY_800GEV_RATIO_PDXSECRATIO not found\n",
      "\n",
      "Checking 3 E906_DY_120GEV_PDXSECRATIO (old name: DYE906R)\n",
      "Files for E906_DY_120GEV_PDXSECRATIO not found\n"
     ]
    }
   ],
   "source": [
    "datasets = {\n",
    "    \"E605_DY_38P8GEV_PXSEC\":\"DYE605\",\n",
    "    \"E866_DY_800GEV_PXSEC\":\"DYE886P\",\n",
    "    \"E866_DY_800GEV_RATIO_PDXSECRATIO\":\"DYE886R\",\n",
    "    \"E906_DY_120GEV_PDXSECRATIO\":\"DYE906R\",\n",
    "}\n",
    "\n",
    "res_ft = test_group(datasets, nofail=False)\n",
    "\n",
    "\n",
    "#old_cd, new_cd = load_old_and_new(\"DYE906R\", \"E906_DY_120GEV_PDXSECRATIO\")\n",
    "#run_checks(old_cd, new_cd)"
   ]
  },
  {
   "cell_type": "markdown",
   "id": "140e48f3",
   "metadata": {},
   "source": [
    "## Atlas datasets\n",
    "\n",
    "These datasets can be found in the `gluon_pdf_ncd` branch"
   ]
  },
  {
   "cell_type": "code",
   "execution_count": 6,
   "id": "09a38520",
   "metadata": {
    "scrolled": true
   },
   "outputs": [
    {
     "name": "stdout",
     "output_type": "stream",
     "text": [
      "\n",
      "Checking 0 ATLAS_1JET_13TEV_DIF_PT-Y (old name: None)\n",
      " > New commondata read ok\n",
      "\n",
      "Checking 1 ATLAS_1JET_13TEV_DIF_PT-Y_ALTCORR1 (old name: None)\n",
      "Files for ATLAS_1JET_13TEV_DIF_PT-Y_ALTCORR1 not found\n",
      "\n",
      "Checking 2 ATLAS_2JET_13TEV_DIF_MJJ-Y (old name: None)\n",
      " > New commondata read ok\n",
      "\n",
      "Checking 3 ATLAS_TTBAR_13TEV_LJ_DIF_MTTBAR (old name: None)\n",
      " > New commondata read ok\n",
      "\n",
      "Checking 4 ATLAS_TTBAR_13TEV_LJ_DIF_MTTBAR-NORM (old name: None)\n",
      " > New commondata read ok\n",
      "\n",
      "Checking 5 ATLAS_TTBAR_13TEV_LJ_DIF_PTT (old name: None)\n",
      " > New commondata read ok\n",
      "\n",
      "Checking 6 ATLAS_TTBAR_13TEV_LJ_DIF_PTT-NORM (old name: None)\n",
      " > New commondata read ok\n",
      "\n",
      "Checking 7 ATLAS_TTBAR_13TEV_LJ_DIF_YT (old name: None)\n",
      " > New commondata read ok\n",
      "\n",
      "Checking 8 ATLAS_TTBAR_13TEV_LJ_DIF_YT-NORM (old name: None)\n",
      " > New commondata read ok\n",
      "\n",
      "Checking 9 ATLAS_TTBAR_13TEV_LJ_DIF_YTTBAR (old name: None)\n",
      " > New commondata read ok\n",
      "\n",
      "Checking 10 ATLAS_TTBAR_13TEV_LJ_DIF_YTTBAR-NORM (old name: None)\n",
      " > New commondata read ok\n",
      "\n",
      "Checking 11 ATLAS_TTBAR_13TEV_TOT_X-SEC (old name: ATLASTTBARTOT13TEV)\n",
      " > New commondata read ok\n",
      "\n",
      "Checking 12 ATLAS_TTBAR_7TEV_TOT_X-SEC (old name: ATLASTTBARTOT7TEV)\n",
      " > New commondata read ok\n",
      "\n",
      "Checking 13 ATLAS_TTBAR_8TEV_2L_DIF_MTTBAR (old name: ATLAS_TOPDIFF_DILEPT_8TEV_TTM)\n",
      " > New commondata read ok\n",
      "\n",
      "Checking 14 ATLAS_TTBAR_8TEV_2L_DIF_MTTBAR-NORM (old name: ATLAS_TOPDIFF_DILEPT_8TEV_TTMNORM)\n",
      " > New commondata read ok\n",
      "\n",
      "Checking 15 ATLAS_TTBAR_8TEV_2L_DIF_YTTBAR (old name: ATLAS_TOPDIFF_DILEPT_8TEV_TTRAP)\n",
      " > New commondata read ok\n",
      "\n",
      "Checking 16 ATLAS_TTBAR_8TEV_2L_DIF_YTTBAR-NORM (old name: ATLAS_TOPDIFF_DILEPT_8TEV_TTRAPNORM)\n",
      " > New commondata read ok\n",
      "\n",
      "Checking 17 ATLAS_TTBAR_8TEV_LJ_DIF_MTTBAR (old name: ATLAS_TTB_DIFF_8TEV_LJ_TTM)\n",
      "### FAILED for ATLAS_TTBAR_8TEV_LJ_DIF_MTTBAR\n",
      "\n",
      "\n",
      "Checking 18 ATLAS_TTBAR_8TEV_LJ_DIF_MTTBAR-NORM (old name: ATLAS_TTB_DIFF_8TEV_LJ_TTMNORM)\n",
      " > New commondata read ok\n",
      "\n",
      "Checking 19 ATLAS_TTBAR_8TEV_LJ_DIF_PTT (old name: ATLAS_TTB_DIFF_8TEV_LJ_TPT)\n",
      "### FAILED for ATLAS_TTBAR_8TEV_LJ_DIF_PTT\n",
      "\n",
      "\n",
      "Checking 20 ATLAS_TTBAR_8TEV_LJ_DIF_PTT-NORM (old name: ATLAS_TTB_DIFF_8TEV_LJ_TPTNORM)\n",
      " > New commondata read ok\n",
      "\n",
      "Checking 21 ATLAS_TTBAR_8TEV_LJ_DIF_YT (old name: ATLAS_TTB_DIFF_8TEV_LJ_TRAP)\n",
      " > New commondata read ok\n",
      "\n",
      "Checking 22 ATLAS_TTBAR_8TEV_LJ_DIF_YT-NORM (old name: ATLAS_TTB_DIFF_8TEV_LJ_TRAPNORM)\n",
      " > New commondata read ok\n",
      "\n",
      "Checking 23 ATLAS_TTBAR_8TEV_LJ_DIF_YTTBAR (old name: ATLAS_TTB_DIFF_8TEV_LJ_TTRAP)\n",
      " > New commondata read ok\n",
      "\n",
      "Checking 24 ATLAS_TTBAR_8TEV_LJ_DIF_YTTBAR-NORM (old name: ATLAS_TTB_DIFF_8TEV_LJ_TTRAPNORM)\n",
      " > New commondata read ok\n",
      "\n",
      "Checking 25 ATLAS_TTBAR_8TEV_TOT_X-SEC (old name: ATLASTTBARTOT8TEV)\n",
      " > New commondata read ok\n"
     ]
    }
   ],
   "source": [
    "datasets = {\n",
    "    \"ATLAS_1JET_13TEV_DIF_PT-Y\" : None,\n",
    "    \"ATLAS_1JET_13TEV_DIF_PT-Y_ALTCORR1\" : None,\n",
    "    \"ATLAS_2JET_13TEV_DIF_MJJ-Y\" : None,\n",
    "    \"ATLAS_TTBAR_13TEV_LJ_DIF_MTTBAR\" : None,\n",
    "    \"ATLAS_TTBAR_13TEV_LJ_DIF_MTTBAR-NORM\" : None,\n",
    "    \"ATLAS_TTBAR_13TEV_LJ_DIF_PTT\" : None,\n",
    "    \"ATLAS_TTBAR_13TEV_LJ_DIF_PTT-NORM\" : None,\n",
    "    \"ATLAS_TTBAR_13TEV_LJ_DIF_YT\" : None,\n",
    "    \"ATLAS_TTBAR_13TEV_LJ_DIF_YT-NORM\" : None,\n",
    "    \"ATLAS_TTBAR_13TEV_LJ_DIF_YTTBAR\" : None,\n",
    "    \"ATLAS_TTBAR_13TEV_LJ_DIF_YTTBAR-NORM\" : None,\n",
    "    \"ATLAS_TTBAR_13TEV_TOT_X-SEC\" : \"ATLASTTBARTOT13TEV\",\n",
    "    \"ATLAS_TTBAR_7TEV_TOT_X-SEC\" : \"ATLASTTBARTOT7TEV\",\n",
    "    \"ATLAS_TTBAR_8TEV_2L_DIF_MTTBAR\" : \"ATLAS_TOPDIFF_DILEPT_8TEV_TTM\",\n",
    "    \"ATLAS_TTBAR_8TEV_2L_DIF_MTTBAR-NORM\" : \"ATLAS_TOPDIFF_DILEPT_8TEV_TTMNORM\",\n",
    "    \"ATLAS_TTBAR_8TEV_2L_DIF_YTTBAR\" : \"ATLAS_TOPDIFF_DILEPT_8TEV_TTRAP\",\n",
    "    \"ATLAS_TTBAR_8TEV_2L_DIF_YTTBAR-NORM\" : \"ATLAS_TOPDIFF_DILEPT_8TEV_TTRAPNORM\",\n",
    "    \"ATLAS_TTBAR_8TEV_LJ_DIF_MTTBAR\" : \"ATLAS_TTB_DIFF_8TEV_LJ_TTM\",\n",
    "    \"ATLAS_TTBAR_8TEV_LJ_DIF_MTTBAR-NORM\" : \"ATLAS_TTB_DIFF_8TEV_LJ_TTMNORM\",\n",
    "    \"ATLAS_TTBAR_8TEV_LJ_DIF_PTT\" : \"ATLAS_TTB_DIFF_8TEV_LJ_TPT\",\n",
    "    \"ATLAS_TTBAR_8TEV_LJ_DIF_PTT-NORM\" : \"ATLAS_TTB_DIFF_8TEV_LJ_TPTNORM\",\n",
    "    \"ATLAS_TTBAR_8TEV_LJ_DIF_YT\" : \"ATLAS_TTB_DIFF_8TEV_LJ_TRAP\",\n",
    "    \"ATLAS_TTBAR_8TEV_LJ_DIF_YT-NORM\" : \"ATLAS_TTB_DIFF_8TEV_LJ_TRAPNORM\",\n",
    "    \"ATLAS_TTBAR_8TEV_LJ_DIF_YTTBAR\" : \"ATLAS_TTB_DIFF_8TEV_LJ_TTRAP\",\n",
    "    \"ATLAS_TTBAR_8TEV_LJ_DIF_YTTBAR-NORM\" : \"ATLAS_TTB_DIFF_8TEV_LJ_TTRAPNORM\",\n",
    "    \"ATLAS_TTBAR_8TEV_TOT_X-SEC\" : \"ATLASTTBARTOT8TEV\",\n",
    "}\n",
    " \n",
    "res = test_group(datasets, nofail=True, only_reader=True, skip=None)\n",
    "\n",
    "\n",
    "if False:\n",
    "    new_name = list(datasets)[10]\n",
    "    old_name = datasets[new_name]\n",
    "    print(f\"old: {old_name}, new: {new_name}\")\n",
    "\n",
    "    old_cd, new_cd = load_old_and_new(old_name, new_name)\n",
    "    run_checks(old_cd, new_cd)"
   ]
  },
  {
   "cell_type": "markdown",
   "id": "64d4242e",
   "metadata": {},
   "source": [
    "## CMS datasets\n",
    "\n",
    "These datasets can be found in the `gluon_pdf_ncd` branch"
   ]
  },
  {
   "cell_type": "code",
   "execution_count": 7,
   "id": "4d29357d",
   "metadata": {
    "scrolled": true
   },
   "outputs": [
    {
     "name": "stdout",
     "output_type": "stream",
     "text": [
      "\n",
      "Checking 0 CMS_1JET_13TEV_DIF_R04 (old name: None)\n",
      " > New commondata read ok\n",
      "\n",
      "Checking 1 CMS_1JET_13TEV_DIF_R07 (old name: None)\n",
      " > New commondata read ok\n",
      "\n",
      "Checking 2 CMS_TTBAR_13TEV_2L_DIF_MTTBAR (old name: CMS_TTB_DIFF_13TEV_2016_2L_TTM)\n",
      " > Comparing values...\n"
     ]
    },
    {
     "data": {
      "text/html": [
       "<text style=color:green>equal=True Testing central_values (get_cv)</text>"
      ],
      "text/plain": [
       "<IPython.core.display.HTML object>"
      ]
     },
     "metadata": {},
     "output_type": "display_data"
    },
    {
     "data": {
      "text/html": [
       "<text style=color:red>equal=False Testing kinematics (get_kintable)</text>"
      ],
      "text/plain": [
       "<IPython.core.display.HTML object>"
      ]
     },
     "metadata": {},
     "output_type": "display_data"
    },
    {
     "name": "stdout",
     "output_type": "stream",
     "text": [
      "       Max % diff: 0.3120838497055149\n"
     ]
    },
    {
     "data": {
      "text/html": [
       "<text style=color:green>equal=True Testing stat_errors (stat_errors)</text>"
      ],
      "text/plain": [
       "<IPython.core.display.HTML object>"
      ]
     },
     "metadata": {},
     "output_type": "display_data"
    },
    {
     "data": {
      "text/html": [
       "<text style=color:green>equal=True Testing multiplicative errors (multiplicative_errors)</text>"
      ],
      "text/plain": [
       "<IPython.core.display.HTML object>"
      ]
     },
     "metadata": {},
     "output_type": "display_data"
    },
    {
     "data": {
      "text/html": [
       "<text style=color:red>equal=False Testing additive errors (additive_errors)</text>"
      ],
      "text/plain": [
       "<IPython.core.display.HTML object>"
      ]
     },
     "metadata": {},
     "output_type": "display_data"
    },
    {
     "name": "stdout",
     "output_type": "stream",
     "text": [
      " > > The resulting covmat instead agrees?  True\n",
      "\n",
      "Checking 3 CMS_TTBAR_13TEV_2L_DIF_MTTBAR-NORM (old name: CMS_TTB_DIFF_13TEV_2016_2L_TTMNORM)\n",
      " > Comparing values...\n"
     ]
    },
    {
     "data": {
      "text/html": [
       "<text style=color:green>equal=True Testing central_values (get_cv)</text>"
      ],
      "text/plain": [
       "<IPython.core.display.HTML object>"
      ]
     },
     "metadata": {},
     "output_type": "display_data"
    },
    {
     "data": {
      "text/html": [
       "<text style=color:red>equal=False Testing kinematics (get_kintable)</text>"
      ],
      "text/plain": [
       "<IPython.core.display.HTML object>"
      ]
     },
     "metadata": {},
     "output_type": "display_data"
    },
    {
     "name": "stdout",
     "output_type": "stream",
     "text": [
      "       Max % diff: 0.3120838497055149\n"
     ]
    },
    {
     "data": {
      "text/html": [
       "<text style=color:green>equal=True Testing stat_errors (stat_errors)</text>"
      ],
      "text/plain": [
       "<IPython.core.display.HTML object>"
      ]
     },
     "metadata": {},
     "output_type": "display_data"
    },
    {
     "data": {
      "text/html": [
       "<text style=color:green>equal=True Testing multiplicative errors (multiplicative_errors)</text>"
      ],
      "text/plain": [
       "<IPython.core.display.HTML object>"
      ]
     },
     "metadata": {},
     "output_type": "display_data"
    },
    {
     "data": {
      "text/html": [
       "<text style=color:red>equal=False Testing additive errors (additive_errors)</text>"
      ],
      "text/plain": [
       "<IPython.core.display.HTML object>"
      ]
     },
     "metadata": {},
     "output_type": "display_data"
    },
    {
     "name": "stdout",
     "output_type": "stream",
     "text": [
      " > > The resulting covmat instead agrees?  True\n",
      "\n",
      "Checking 4 CMS_TTBAR_13TEV_2L_DIF_PTT (old name: CMS_TTB_DIFF_13TEV_2016_2L_TPT)\n",
      " > Comparing values...\n"
     ]
    },
    {
     "data": {
      "text/html": [
       "<text style=color:green>equal=True Testing central_values (get_cv)</text>"
      ],
      "text/plain": [
       "<IPython.core.display.HTML object>"
      ]
     },
     "metadata": {},
     "output_type": "display_data"
    },
    {
     "data": {
      "text/html": [
       "<text style=color:red>equal=False Testing kinematics (get_kintable)</text>"
      ],
      "text/plain": [
       "<IPython.core.display.HTML object>"
      ]
     },
     "metadata": {},
     "output_type": "display_data"
    },
    {
     "name": "stdout",
     "output_type": "stream",
     "text": [
      "       Max % diff: 0.3120838497055149\n"
     ]
    },
    {
     "data": {
      "text/html": [
       "<text style=color:green>equal=True Testing stat_errors (stat_errors)</text>"
      ],
      "text/plain": [
       "<IPython.core.display.HTML object>"
      ]
     },
     "metadata": {},
     "output_type": "display_data"
    },
    {
     "data": {
      "text/html": [
       "<text style=color:green>equal=True Testing multiplicative errors (multiplicative_errors)</text>"
      ],
      "text/plain": [
       "<IPython.core.display.HTML object>"
      ]
     },
     "metadata": {},
     "output_type": "display_data"
    },
    {
     "data": {
      "text/html": [
       "<text style=color:red>equal=False Testing additive errors (additive_errors)</text>"
      ],
      "text/plain": [
       "<IPython.core.display.HTML object>"
      ]
     },
     "metadata": {},
     "output_type": "display_data"
    },
    {
     "name": "stdout",
     "output_type": "stream",
     "text": [
      " > > The resulting covmat instead agrees?  True\n",
      "\n",
      "Checking 5 CMS_TTBAR_13TEV_2L_DIF_PTT-NORM (old name: CMS_TTB_DIFF_13TEV_2016_2L_TPTNORM)\n",
      " > Comparing values...\n"
     ]
    },
    {
     "data": {
      "text/html": [
       "<text style=color:green>equal=True Testing central_values (get_cv)</text>"
      ],
      "text/plain": [
       "<IPython.core.display.HTML object>"
      ]
     },
     "metadata": {},
     "output_type": "display_data"
    },
    {
     "data": {
      "text/html": [
       "<text style=color:red>equal=False Testing kinematics (get_kintable)</text>"
      ],
      "text/plain": [
       "<IPython.core.display.HTML object>"
      ]
     },
     "metadata": {},
     "output_type": "display_data"
    },
    {
     "name": "stdout",
     "output_type": "stream",
     "text": [
      "       Max % diff: 0.3120838497055149\n"
     ]
    },
    {
     "data": {
      "text/html": [
       "<text style=color:green>equal=True Testing stat_errors (stat_errors)</text>"
      ],
      "text/plain": [
       "<IPython.core.display.HTML object>"
      ]
     },
     "metadata": {},
     "output_type": "display_data"
    },
    {
     "data": {
      "text/html": [
       "<text style=color:green>equal=True Testing multiplicative errors (multiplicative_errors)</text>"
      ],
      "text/plain": [
       "<IPython.core.display.HTML object>"
      ]
     },
     "metadata": {},
     "output_type": "display_data"
    },
    {
     "data": {
      "text/html": [
       "<text style=color:red>equal=False Testing additive errors (additive_errors)</text>"
      ],
      "text/plain": [
       "<IPython.core.display.HTML object>"
      ]
     },
     "metadata": {},
     "output_type": "display_data"
    },
    {
     "name": "stdout",
     "output_type": "stream",
     "text": [
      " > > The resulting covmat instead agrees?  True\n",
      "\n",
      "Checking 6 CMS_TTBAR_13TEV_2L_DIF_YT (old name: CMS_TTB_DIFF_13TEV_2016_2L_TRAP)\n",
      " > Comparing values...\n"
     ]
    },
    {
     "data": {
      "text/html": [
       "<text style=color:green>equal=True Testing central_values (get_cv)</text>"
      ],
      "text/plain": [
       "<IPython.core.display.HTML object>"
      ]
     },
     "metadata": {},
     "output_type": "display_data"
    },
    {
     "data": {
      "text/html": [
       "<text style=color:red>equal=False Testing kinematics (get_kintable)</text>"
      ],
      "text/plain": [
       "<IPython.core.display.HTML object>"
      ]
     },
     "metadata": {},
     "output_type": "display_data"
    },
    {
     "name": "stdout",
     "output_type": "stream",
     "text": [
      "       Max % diff: 0.3120838497055149\n"
     ]
    },
    {
     "data": {
      "text/html": [
       "<text style=color:green>equal=True Testing stat_errors (stat_errors)</text>"
      ],
      "text/plain": [
       "<IPython.core.display.HTML object>"
      ]
     },
     "metadata": {},
     "output_type": "display_data"
    },
    {
     "data": {
      "text/html": [
       "<text style=color:green>equal=True Testing multiplicative errors (multiplicative_errors)</text>"
      ],
      "text/plain": [
       "<IPython.core.display.HTML object>"
      ]
     },
     "metadata": {},
     "output_type": "display_data"
    },
    {
     "data": {
      "text/html": [
       "<text style=color:red>equal=False Testing additive errors (additive_errors)</text>"
      ],
      "text/plain": [
       "<IPython.core.display.HTML object>"
      ]
     },
     "metadata": {},
     "output_type": "display_data"
    },
    {
     "name": "stdout",
     "output_type": "stream",
     "text": [
      " > > The resulting covmat instead agrees?  True\n",
      "\n",
      "Checking 7 CMS_TTBAR_13TEV_2L_DIF_YT-NORM (old name: CMS_TTB_DIFF_13TEV_2016_2L_TRAPNORM)\n",
      " > Comparing values...\n"
     ]
    },
    {
     "data": {
      "text/html": [
       "<text style=color:green>equal=True Testing central_values (get_cv)</text>"
      ],
      "text/plain": [
       "<IPython.core.display.HTML object>"
      ]
     },
     "metadata": {},
     "output_type": "display_data"
    },
    {
     "data": {
      "text/html": [
       "<text style=color:red>equal=False Testing kinematics (get_kintable)</text>"
      ],
      "text/plain": [
       "<IPython.core.display.HTML object>"
      ]
     },
     "metadata": {},
     "output_type": "display_data"
    },
    {
     "name": "stdout",
     "output_type": "stream",
     "text": [
      "       Max % diff: 0.3120838497055149\n"
     ]
    },
    {
     "data": {
      "text/html": [
       "<text style=color:green>equal=True Testing stat_errors (stat_errors)</text>"
      ],
      "text/plain": [
       "<IPython.core.display.HTML object>"
      ]
     },
     "metadata": {},
     "output_type": "display_data"
    },
    {
     "data": {
      "text/html": [
       "<text style=color:green>equal=True Testing multiplicative errors (multiplicative_errors)</text>"
      ],
      "text/plain": [
       "<IPython.core.display.HTML object>"
      ]
     },
     "metadata": {},
     "output_type": "display_data"
    },
    {
     "data": {
      "text/html": [
       "<text style=color:red>equal=False Testing additive errors (additive_errors)</text>"
      ],
      "text/plain": [
       "<IPython.core.display.HTML object>"
      ]
     },
     "metadata": {},
     "output_type": "display_data"
    },
    {
     "name": "stdout",
     "output_type": "stream",
     "text": [
      " > > The resulting covmat instead agrees?  True\n",
      "\n",
      "Checking 8 CMS_TTBAR_13TEV_2L_DIF_YTTBAR (old name: CMS_TTB_DIFF_13TEV_2016_2L_TTRAP)\n",
      " > Comparing values...\n"
     ]
    },
    {
     "data": {
      "text/html": [
       "<text style=color:green>equal=True Testing central_values (get_cv)</text>"
      ],
      "text/plain": [
       "<IPython.core.display.HTML object>"
      ]
     },
     "metadata": {},
     "output_type": "display_data"
    },
    {
     "data": {
      "text/html": [
       "<text style=color:red>equal=False Testing kinematics (get_kintable)</text>"
      ],
      "text/plain": [
       "<IPython.core.display.HTML object>"
      ]
     },
     "metadata": {},
     "output_type": "display_data"
    },
    {
     "name": "stdout",
     "output_type": "stream",
     "text": [
      "       Max % diff: 0.3120838497055149\n"
     ]
    },
    {
     "data": {
      "text/html": [
       "<text style=color:green>equal=True Testing stat_errors (stat_errors)</text>"
      ],
      "text/plain": [
       "<IPython.core.display.HTML object>"
      ]
     },
     "metadata": {},
     "output_type": "display_data"
    },
    {
     "data": {
      "text/html": [
       "<text style=color:green>equal=True Testing multiplicative errors (multiplicative_errors)</text>"
      ],
      "text/plain": [
       "<IPython.core.display.HTML object>"
      ]
     },
     "metadata": {},
     "output_type": "display_data"
    },
    {
     "data": {
      "text/html": [
       "<text style=color:red>equal=False Testing additive errors (additive_errors)</text>"
      ],
      "text/plain": [
       "<IPython.core.display.HTML object>"
      ]
     },
     "metadata": {},
     "output_type": "display_data"
    },
    {
     "name": "stdout",
     "output_type": "stream",
     "text": [
      " > > The resulting covmat instead agrees?  True\n",
      "\n",
      "Checking 9 CMS_TTBAR_13TEV_2L_DIF_YTTBAR-NORM (old name: CMS_TTB_DIFF_13TEV_2016_2L_TTRAPNORM)\n",
      " > Comparing values...\n"
     ]
    },
    {
     "data": {
      "text/html": [
       "<text style=color:green>equal=True Testing central_values (get_cv)</text>"
      ],
      "text/plain": [
       "<IPython.core.display.HTML object>"
      ]
     },
     "metadata": {},
     "output_type": "display_data"
    },
    {
     "data": {
      "text/html": [
       "<text style=color:red>equal=False Testing kinematics (get_kintable)</text>"
      ],
      "text/plain": [
       "<IPython.core.display.HTML object>"
      ]
     },
     "metadata": {},
     "output_type": "display_data"
    },
    {
     "name": "stdout",
     "output_type": "stream",
     "text": [
      "       Max % diff: 0.3120838497055149\n"
     ]
    },
    {
     "data": {
      "text/html": [
       "<text style=color:green>equal=True Testing stat_errors (stat_errors)</text>"
      ],
      "text/plain": [
       "<IPython.core.display.HTML object>"
      ]
     },
     "metadata": {},
     "output_type": "display_data"
    },
    {
     "data": {
      "text/html": [
       "<text style=color:green>equal=True Testing multiplicative errors (multiplicative_errors)</text>"
      ],
      "text/plain": [
       "<IPython.core.display.HTML object>"
      ]
     },
     "metadata": {},
     "output_type": "display_data"
    },
    {
     "data": {
      "text/html": [
       "<text style=color:red>equal=False Testing additive errors (additive_errors)</text>"
      ],
      "text/plain": [
       "<IPython.core.display.HTML object>"
      ]
     },
     "metadata": {},
     "output_type": "display_data"
    },
    {
     "name": "stdout",
     "output_type": "stream",
     "text": [
      " > > The resulting covmat instead agrees?  True\n",
      "\n",
      "Checking 10 CMS_TTBAR_13TEV_LJ_DIF_MTTBAR (old name: None)\n",
      " > New commondata read ok\n",
      "\n",
      "Checking 11 CMS_TTBAR_13TEV_LJ_DIF_MTTBAR-NORM (old name: None)\n",
      " > New commondata read ok\n",
      "\n",
      "Checking 12 CMS_TTBAR_13TEV_LJ_DIF_YTTBAR (old name: None)\n",
      " > New commondata read ok\n",
      "\n",
      "Checking 13 CMS_TTBAR_13TEV_LJ_DIF_YTTBAR-NORM (old name: None)\n",
      " > New commondata read ok\n",
      "\n",
      "Checking 14 CMS_TTBAR_13TEV_LJ_DIF_PTT (old name: None)\n",
      " > New commondata read ok\n",
      "\n",
      "Checking 15 CMS_TTBAR_13TEV_LJ_DIF_PTT-NORM (old name: None)\n",
      " > New commondata read ok\n",
      "\n",
      "Checking 16 CMS_TTBAR_13TEV_LJ_DIF_YT (old name: None)\n",
      " > New commondata read ok\n",
      "\n",
      "Checking 17 CMS_TTBAR_13TEV_LJ_DIF_YT-NORM (old name: None)\n",
      " > New commondata read ok\n",
      "\n",
      "Checking 18 CMS_TTBAR_13TEV_LJ_DIF_MTTBAR-YTTBAR (old name: None)\n",
      "### FAILED for CMS_TTBAR_13TEV_LJ_DIF_MTTBAR-YTTBAR\n",
      "\n",
      "\n",
      "Checking 19 CMS_TTBAR_13TEV_LJ_DIF_MTTBAR-YTTBAR-NORM (old name: None)\n",
      "### FAILED for CMS_TTBAR_13TEV_LJ_DIF_MTTBAR-YTTBAR-NORM\n",
      "\n",
      "\n",
      "Checking 20 CMS_TTBAR_13TEV_TOT_X-SEC (old name: CMSTTBARTOT13TEV)\n",
      " > Comparing values...\n"
     ]
    },
    {
     "data": {
      "text/html": [
       "<text style=color:red>equal=False Testing central_values (get_cv)</text>"
      ],
      "text/plain": [
       "<IPython.core.display.HTML object>"
      ]
     },
     "metadata": {},
     "output_type": "display_data"
    },
    {
     "name": "stdout",
     "output_type": "stream",
     "text": [
      "       Max % diff: 2.9908972689862874\n"
     ]
    },
    {
     "data": {
      "text/html": [
       "<text style=color:red>equal=False Testing kinematics (get_kintable)</text>"
      ],
      "text/plain": [
       "<IPython.core.display.HTML object>"
      ]
     },
     "metadata": {},
     "output_type": "display_data"
    },
    {
     "name": "stdout",
     "output_type": "stream",
     "text": [
      "       Max % diff: 0.3120838497055149\n"
     ]
    },
    {
     "data": {
      "text/html": [
       "<text style=color:red>equal=False Testing stat_errors (stat_errors)</text>"
      ],
      "text/plain": [
       "<IPython.core.display.HTML object>"
      ]
     },
     "metadata": {},
     "output_type": "display_data"
    },
    {
     "name": "stdout",
     "output_type": "stream",
     "text": [
      "       Max % diff: 75.75757564279156\n"
     ]
    },
    {
     "data": {
      "text/html": [
       "<text style=color:red>equal=False Testing multiplicative errors (multiplicative_errors)</text>"
      ],
      "text/plain": [
       "<IPython.core.display.HTML object>"
      ]
     },
     "metadata": {},
     "output_type": "display_data"
    },
    {
     "data": {
      "text/html": [
       "<text style=color:green>equal=True Testing additive errors (additive_errors)</text>"
      ],
      "text/plain": [
       "<IPython.core.display.HTML object>"
      ]
     },
     "metadata": {},
     "output_type": "display_data"
    },
    {
     "name": "stdout",
     "output_type": "stream",
     "text": [
      "\n",
      "Checking 21 CMS_TTBAR_5TEV_TOT_X-SEC (old name: CMSTTBARTOT5TEV)\n",
      " > Comparing values...\n"
     ]
    },
    {
     "data": {
      "text/html": [
       "<text style=color:green>equal=True Testing central_values (get_cv)</text>"
      ],
      "text/plain": [
       "<IPython.core.display.HTML object>"
      ]
     },
     "metadata": {},
     "output_type": "display_data"
    },
    {
     "data": {
      "text/html": [
       "<text style=color:red>equal=False Testing kinematics (get_kintable)</text>"
      ],
      "text/plain": [
       "<IPython.core.display.HTML object>"
      ]
     },
     "metadata": {},
     "output_type": "display_data"
    },
    {
     "name": "stdout",
     "output_type": "stream",
     "text": [
      "       Max % diff: 0.0\n"
     ]
    },
    {
     "data": {
      "text/html": [
       "<text style=color:green>equal=True Testing stat_errors (stat_errors)</text>"
      ],
      "text/plain": [
       "<IPython.core.display.HTML object>"
      ]
     },
     "metadata": {},
     "output_type": "display_data"
    },
    {
     "data": {
      "text/html": [
       "<text style=color:green>equal=True Testing multiplicative errors (multiplicative_errors)</text>"
      ],
      "text/plain": [
       "<IPython.core.display.HTML object>"
      ]
     },
     "metadata": {},
     "output_type": "display_data"
    },
    {
     "data": {
      "text/html": [
       "<text style=color:green>equal=True Testing additive errors (additive_errors)</text>"
      ],
      "text/plain": [
       "<IPython.core.display.HTML object>"
      ]
     },
     "metadata": {},
     "output_type": "display_data"
    },
    {
     "name": "stdout",
     "output_type": "stream",
     "text": [
      "\n",
      "Checking 22 CMS_TTBAR_7TEV_TOT_X-SEC (old name: CMSTTBARTOT7TEV)\n",
      " > Comparing values...\n"
     ]
    },
    {
     "data": {
      "text/html": [
       "<text style=color:green>equal=True Testing central_values (get_cv)</text>"
      ],
      "text/plain": [
       "<IPython.core.display.HTML object>"
      ]
     },
     "metadata": {},
     "output_type": "display_data"
    },
    {
     "data": {
      "text/html": [
       "<text style=color:red>equal=False Testing kinematics (get_kintable)</text>"
      ],
      "text/plain": [
       "<IPython.core.display.HTML object>"
      ]
     },
     "metadata": {},
     "output_type": "display_data"
    },
    {
     "name": "stdout",
     "output_type": "stream",
     "text": [
      "       Max % diff: 0.3120838497055149\n"
     ]
    },
    {
     "data": {
      "text/html": [
       "<text style=color:green>equal=True Testing stat_errors (stat_errors)</text>"
      ],
      "text/plain": [
       "<IPython.core.display.HTML object>"
      ]
     },
     "metadata": {},
     "output_type": "display_data"
    },
    {
     "data": {
      "text/html": [
       "<text style=color:green>equal=True Testing multiplicative errors (multiplicative_errors)</text>"
      ],
      "text/plain": [
       "<IPython.core.display.HTML object>"
      ]
     },
     "metadata": {},
     "output_type": "display_data"
    },
    {
     "data": {
      "text/html": [
       "<text style=color:green>equal=True Testing additive errors (additive_errors)</text>"
      ],
      "text/plain": [
       "<IPython.core.display.HTML object>"
      ]
     },
     "metadata": {},
     "output_type": "display_data"
    },
    {
     "name": "stdout",
     "output_type": "stream",
     "text": [
      "\n",
      "Checking 23 CMS_TTBAR_8TEV_2L_DIF_PTT-YT-NORM (old name: CMS_TTBAR_2D_DIFF_PT_TRAP_NORM)\n",
      "### FAILED for CMS_TTBAR_8TEV_2L_DIF_PTT-YT-NORM\n",
      "\n",
      "\n",
      "Checking 24 CMS_TTBAR_8TEV_2L_DIF_MTTBAR-YT-NORM (old name: CMS_TTBAR_2D_DIFF_MTT_TRAP_NORM)\n",
      "### FAILED for CMS_TTBAR_8TEV_2L_DIF_MTTBAR-YT-NORM\n",
      "\n",
      "\n",
      "Checking 25 CMS_TTBAR_8TEV_2L_DIF_MTTBAR-YTTBAR-NORM (old name: CMS_TTBAR_2D_DIFF_MTT_TTRAP_NORM)\n",
      "### FAILED for CMS_TTBAR_8TEV_2L_DIF_MTTBAR-YTTBAR-NORM\n",
      "\n",
      "\n",
      "Checking 26 CMS_TTBAR_8TEV_LJ_DIF_MTTBAR-NORM (old name: CMSTOPDIFF8TEVTTMNORM)\n",
      " > Comparing values...\n"
     ]
    },
    {
     "data": {
      "text/html": [
       "<text style=color:green>equal=True Testing central_values (get_cv)</text>"
      ],
      "text/plain": [
       "<IPython.core.display.HTML object>"
      ]
     },
     "metadata": {},
     "output_type": "display_data"
    },
    {
     "data": {
      "text/html": [
       "<text style=color:red>equal=False Testing kinematics (get_kintable)</text>"
      ],
      "text/plain": [
       "<IPython.core.display.HTML object>"
      ]
     },
     "metadata": {},
     "output_type": "display_data"
    },
    {
     "name": "stdout",
     "output_type": "stream",
     "text": [
      "       Max % diff: 0.3120838497055149\n"
     ]
    },
    {
     "data": {
      "text/html": [
       "<text style=color:green>equal=True Testing stat_errors (stat_errors)</text>"
      ],
      "text/plain": [
       "<IPython.core.display.HTML object>"
      ]
     },
     "metadata": {},
     "output_type": "display_data"
    },
    {
     "name": "stdout",
     "output_type": "stream",
     "text": [
      " > The combination of multiplicative and additive is different!\n"
     ]
    },
    {
     "data": {
      "text/html": [
       "<text style=color:red>equal=False Testing the raw table of systematics: systematic_errors()</text>"
      ],
      "text/plain": [
       "<IPython.core.display.HTML object>"
      ]
     },
     "metadata": {},
     "output_type": "display_data"
    },
    {
     "name": "stdout",
     "output_type": "stream",
     "text": [
      "\n",
      "Checking 27 CMS_TTBAR_8TEV_LJ_DIF_PTT-NORM (old name: CMSTOPDIFF8TEVTPTNORM)\n",
      "### FAILED for CMS_TTBAR_8TEV_LJ_DIF_PTT-NORM\n",
      "\n",
      "\n",
      "Checking 28 CMS_TTBAR_8TEV_LJ_DIF_YT-NORM (old name: CMSTOPDIFF8TEVTRAPNORM)\n",
      " > Comparing values...\n"
     ]
    },
    {
     "data": {
      "text/html": [
       "<text style=color:green>equal=True Testing central_values (get_cv)</text>"
      ],
      "text/plain": [
       "<IPython.core.display.HTML object>"
      ]
     },
     "metadata": {},
     "output_type": "display_data"
    },
    {
     "data": {
      "text/html": [
       "<text style=color:red>equal=False Testing kinematics (get_kintable)</text>"
      ],
      "text/plain": [
       "<IPython.core.display.HTML object>"
      ]
     },
     "metadata": {},
     "output_type": "display_data"
    },
    {
     "name": "stdout",
     "output_type": "stream",
     "text": [
      "       Max % diff: 0.3120838497055149\n"
     ]
    },
    {
     "data": {
      "text/html": [
       "<text style=color:green>equal=True Testing stat_errors (stat_errors)</text>"
      ],
      "text/plain": [
       "<IPython.core.display.HTML object>"
      ]
     },
     "metadata": {},
     "output_type": "display_data"
    },
    {
     "name": "stdout",
     "output_type": "stream",
     "text": [
      " > The combination of multiplicative and additive is different!\n"
     ]
    },
    {
     "data": {
      "text/html": [
       "<text style=color:red>equal=False Testing the raw table of systematics: systematic_errors()</text>"
      ],
      "text/plain": [
       "<IPython.core.display.HTML object>"
      ]
     },
     "metadata": {},
     "output_type": "display_data"
    },
    {
     "name": "stdout",
     "output_type": "stream",
     "text": [
      "\n",
      "Checking 29 CMS_TTBAR_8TEV_LJ_DIF_YTTBAR-NORM (old name: CMSTOPDIFF8TEVTTRAPNORM)\n",
      " > Comparing values...\n"
     ]
    },
    {
     "data": {
      "text/html": [
       "<text style=color:green>equal=True Testing central_values (get_cv)</text>"
      ],
      "text/plain": [
       "<IPython.core.display.HTML object>"
      ]
     },
     "metadata": {},
     "output_type": "display_data"
    },
    {
     "data": {
      "text/html": [
       "<text style=color:red>equal=False Testing kinematics (get_kintable)</text>"
      ],
      "text/plain": [
       "<IPython.core.display.HTML object>"
      ]
     },
     "metadata": {},
     "output_type": "display_data"
    },
    {
     "name": "stdout",
     "output_type": "stream",
     "text": [
      "       Max % diff: 0.3120838497055149\n"
     ]
    },
    {
     "data": {
      "text/html": [
       "<text style=color:green>equal=True Testing stat_errors (stat_errors)</text>"
      ],
      "text/plain": [
       "<IPython.core.display.HTML object>"
      ]
     },
     "metadata": {},
     "output_type": "display_data"
    },
    {
     "data": {
      "text/html": [
       "<text style=color:green>equal=True Testing multiplicative errors (multiplicative_errors)</text>"
      ],
      "text/plain": [
       "<IPython.core.display.HTML object>"
      ]
     },
     "metadata": {},
     "output_type": "display_data"
    },
    {
     "data": {
      "text/html": [
       "<text style=color:red>equal=False Testing additive errors (additive_errors)</text>"
      ],
      "text/plain": [
       "<IPython.core.display.HTML object>"
      ]
     },
     "metadata": {},
     "output_type": "display_data"
    },
    {
     "name": "stdout",
     "output_type": "stream",
     "text": [
      " > > The resulting covmat instead agrees?  True\n",
      "\n",
      "Checking 30 CMS_TTBAR_8TEV_TOT_X-SEC (old name: CMSTTBARTOT8TEV)\n",
      " > Comparing values...\n"
     ]
    },
    {
     "data": {
      "text/html": [
       "<text style=color:green>equal=True Testing central_values (get_cv)</text>"
      ],
      "text/plain": [
       "<IPython.core.display.HTML object>"
      ]
     },
     "metadata": {},
     "output_type": "display_data"
    },
    {
     "data": {
      "text/html": [
       "<text style=color:red>equal=False Testing kinematics (get_kintable)</text>"
      ],
      "text/plain": [
       "<IPython.core.display.HTML object>"
      ]
     },
     "metadata": {},
     "output_type": "display_data"
    },
    {
     "name": "stdout",
     "output_type": "stream",
     "text": [
      "       Max % diff: 0.3120838497055149\n"
     ]
    },
    {
     "data": {
      "text/html": [
       "<text style=color:green>equal=True Testing stat_errors (stat_errors)</text>"
      ],
      "text/plain": [
       "<IPython.core.display.HTML object>"
      ]
     },
     "metadata": {},
     "output_type": "display_data"
    },
    {
     "data": {
      "text/html": [
       "<text style=color:green>equal=True Testing multiplicative errors (multiplicative_errors)</text>"
      ],
      "text/plain": [
       "<IPython.core.display.HTML object>"
      ]
     },
     "metadata": {},
     "output_type": "display_data"
    },
    {
     "data": {
      "text/html": [
       "<text style=color:green>equal=True Testing additive errors (additive_errors)</text>"
      ],
      "text/plain": [
       "<IPython.core.display.HTML object>"
      ]
     },
     "metadata": {},
     "output_type": "display_data"
    }
   ],
   "source": [
    "datasets = {\n",
    "    \"CMS_1JET_13TEV_DIF_R04\" : None,\n",
    "    \"CMS_1JET_13TEV_DIF_R07\" : None,\n",
    "    \"CMS_TTBAR_13TEV_2L_DIF_MTTBAR\" : \"CMS_TTB_DIFF_13TEV_2016_2L_TTM\",\n",
    "    \"CMS_TTBAR_13TEV_2L_DIF_MTTBAR-NORM\" : \"CMS_TTB_DIFF_13TEV_2016_2L_TTMNORM\",\n",
    "    \"CMS_TTBAR_13TEV_2L_DIF_PTT\" : \"CMS_TTB_DIFF_13TEV_2016_2L_TPT\",\n",
    "    \"CMS_TTBAR_13TEV_2L_DIF_PTT-NORM\" : \"CMS_TTB_DIFF_13TEV_2016_2L_TPTNORM\",\n",
    "    \"CMS_TTBAR_13TEV_2L_DIF_YT\" : \"CMS_TTB_DIFF_13TEV_2016_2L_TRAP\",\n",
    "    \"CMS_TTBAR_13TEV_2L_DIF_YT-NORM\" : \"CMS_TTB_DIFF_13TEV_2016_2L_TRAPNORM\",\n",
    "    \"CMS_TTBAR_13TEV_2L_DIF_YTTBAR\" : \"CMS_TTB_DIFF_13TEV_2016_2L_TTRAP\",\n",
    "    \"CMS_TTBAR_13TEV_2L_DIF_YTTBAR-NORM\" : \"CMS_TTB_DIFF_13TEV_2016_2L_TTRAPNORM\",\n",
    "    \"CMS_TTBAR_13TEV_LJ_DIF_MTTBAR\" : None,\n",
    "    \"CMS_TTBAR_13TEV_LJ_DIF_MTTBAR-NORM\" : None,\n",
    "    \"CMS_TTBAR_13TEV_LJ_DIF_YTTBAR\" : None,\n",
    "    \"CMS_TTBAR_13TEV_LJ_DIF_YTTBAR-NORM\" : None,\n",
    "    \"CMS_TTBAR_13TEV_LJ_DIF_PTT\" : None,\n",
    "    \"CMS_TTBAR_13TEV_LJ_DIF_PTT-NORM\" : None,\n",
    "    \"CMS_TTBAR_13TEV_LJ_DIF_YT\" : None,\n",
    "    \"CMS_TTBAR_13TEV_LJ_DIF_YT-NORM\" : None,\n",
    "    \"CMS_TTBAR_13TEV_LJ_DIF_MTTBAR-YTTBAR\" : None,\n",
    "    \"CMS_TTBAR_13TEV_LJ_DIF_MTTBAR-YTTBAR-NORM\" : None,\n",
    "    \"CMS_TTBAR_13TEV_TOT_X-SEC\" : \"CMSTTBARTOT13TEV\",\n",
    "    \"CMS_TTBAR_5TEV_TOT_X-SEC\" : \"CMSTTBARTOT5TEV\",\n",
    "    \"CMS_TTBAR_7TEV_TOT_X-SEC\" : \"CMSTTBARTOT7TEV\",\n",
    "    \"CMS_TTBAR_8TEV_2L_DIF_PTT-YT-NORM\" : \"CMS_TTBAR_2D_DIFF_PT_TRAP_NORM\",\n",
    "    \"CMS_TTBAR_8TEV_2L_DIF_MTTBAR-YT-NORM\" : \"CMS_TTBAR_2D_DIFF_MTT_TRAP_NORM\",\n",
    "    \"CMS_TTBAR_8TEV_2L_DIF_MTTBAR-YTTBAR-NORM\" : \"CMS_TTBAR_2D_DIFF_MTT_TTRAP_NORM\",\n",
    "    \"CMS_TTBAR_8TEV_LJ_DIF_MTTBAR-NORM\" : \"CMSTOPDIFF8TEVTTMNORM\",\n",
    "    \"CMS_TTBAR_8TEV_LJ_DIF_PTT-NORM\" : \"CMSTOPDIFF8TEVTPTNORM\",\n",
    "    \"CMS_TTBAR_8TEV_LJ_DIF_YT-NORM\" : \"CMSTOPDIFF8TEVTRAPNORM\",\n",
    "    \"CMS_TTBAR_8TEV_LJ_DIF_YTTBAR-NORM\" : \"CMSTOPDIFF8TEVTTRAPNORM\",\n",
    "    \"CMS_TTBAR_8TEV_TOT_X-SEC\" : \"CMSTTBARTOT8TEV\",\n",
    "}\n",
    "\n",
    "res = test_group(datasets, nofail=True, only_reader=False, skip=None)"
   ]
  },
  {
   "cell_type": "code",
   "execution_count": null,
   "id": "ac586aa7",
   "metadata": {},
   "outputs": [],
   "source": []
  },
  {
   "cell_type": "markdown",
   "id": "7525067a",
   "metadata": {},
   "source": [
    "# DIS data"
   ]
  },
  {
   "cell_type": "code",
   "execution_count": 8,
   "id": "a363cdfd",
   "metadata": {
    "scrolled": true
   },
   "outputs": [
    {
     "name": "stdout",
     "output_type": "stream",
     "text": [
      "\n",
      "Checking 0 H1_1JET_319GEV_290PB-1_DIF_Q2PT (old name: None)\n",
      " > New commondata read ok\n",
      "\n",
      "Checking 1 H1_1JET_319GEV_290PB-1_DIF_Q2PT-NORM (old name: None)\n",
      " > New commondata read ok\n",
      "\n",
      "Checking 2 H1_1JET_319GEV_290PB-1_DIF_HIGH-Q2PT (old name: None)\n",
      " > New commondata read ok\n",
      "\n",
      "Checking 3 H1_1JET_319GEV_290PB-1_DIF_HIGH-Q2PT-NORM (old name: None)\n",
      " > New commondata read ok\n",
      "\n",
      "Checking 4 H1_1JET_319GEV_351PB-1_DIF_Q2PT (old name: None)\n",
      " > New commondata read ok\n",
      "\n",
      "Checking 5 H1_1JET_319GEV_351PB-1_DIF_Q2PT-NORM (old name: None)\n",
      " > New commondata read ok\n",
      "\n",
      "Checking 6 H1_2JET_319GEV_290PB-1_DIF_Q2PT (old name: None)\n",
      "Files for H1_2JET_319GEV_290PB-1_DIF_Q2PT not found\n",
      "\n",
      "Checking 7 H1_2JET_319GEV_290PB-1_DIF_Q2PT-NORM (old name: None)\n",
      " > New commondata read ok\n",
      "\n",
      "Checking 8 H1_2JET_319GEV_351PB-1_DIF_Q2PT (old name: None)\n",
      " > New commondata read ok\n",
      "\n",
      "Checking 9 H1_2JET_319GEV_351PB-1_DIF_Q2PT-NORM (old name: None)\n",
      " > New commondata read ok\n",
      "\n",
      "Checking 10 ZEUS_1JET_300GEV_38P6PB-1_DIF_Q2ET (old name: None)\n",
      "### FAILED for ZEUS_1JET_300GEV_38P6PB-1_DIF_Q2ET\n",
      "\n",
      "\n",
      "Checking 11 ZEUS_1JET_319GEV_82PB-1_DIF_Q2ET (old name: None)\n",
      " > New commondata read ok\n",
      "\n",
      "Checking 12 ZEUS_2JET_319GEV_374PB-1_DIF_Q2ET (old name: None)\n",
      " > New commondata read ok\n"
     ]
    }
   ],
   "source": [
    "datasets = {\n",
    "    \"H1_1JET_319GEV_290PB-1_DIF_Q2PT\" : None,\n",
    "    \"H1_1JET_319GEV_290PB-1_DIF_Q2PT-NORM\" : None,\n",
    "    \"H1_1JET_319GEV_290PB-1_DIF_HIGH-Q2PT\" : None,\n",
    "    \"H1_1JET_319GEV_290PB-1_DIF_HIGH-Q2PT-NORM\" : None,\n",
    "    \"H1_1JET_319GEV_351PB-1_DIF_Q2PT\" : None,\n",
    "    \"H1_1JET_319GEV_351PB-1_DIF_Q2PT-NORM\" : None,\n",
    "    \"H1_2JET_319GEV_290PB-1_DIF_Q2PT\" : None,\n",
    "    \"H1_2JET_319GEV_290PB-1_DIF_Q2PT-NORM\" : None,\n",
    "    \"H1_2JET_319GEV_351PB-1_DIF_Q2PT\" : None,\n",
    "    \"H1_2JET_319GEV_351PB-1_DIF_Q2PT-NORM\" : None,\n",
    "    \"ZEUS_1JET_300GEV_38P6PB-1_DIF_Q2ET\" : None,\n",
    "    \"ZEUS_1JET_319GEV_82PB-1_DIF_Q2ET\" : None,\n",
    "    \"ZEUS_2JET_319GEV_374PB-1_DIF_Q2ET\" : None,\n",
    "}\n",
    "\n",
    "res = test_group(datasets, nofail=True, only_reader=False, skip=None)"
   ]
  },
  {
   "cell_type": "markdown",
   "id": "18beecf0",
   "metadata": {},
   "source": [
    "## CMS ttbar\n",
    "\n",
    "These datasets can be found in the `more_efficient_metadata_for_new_commondata` branch [#1684](https://github.com/NNPDF/nnpdf/pull/1684)"
   ]
  },
  {
   "cell_type": "code",
   "execution_count": 10,
   "id": "d2852f43",
   "metadata": {
    "scrolled": false
   },
   "outputs": [],
   "source": [
    "datasets = {\n",
    "    \"CMSTOPDIFF8TEVTTRAPNORM\":  \"CMS_TTBAR_8TEV_LJ_DIF_YTTBAR-NORM\",\n",
    "}\n",
    "\n",
    "#res = test_group(datasets, nofail=False)"
   ]
  },
  {
   "cell_type": "code",
   "execution_count": null,
   "id": "05081095",
   "metadata": {},
   "outputs": [],
   "source": []
  }
 ],
 "metadata": {
  "kernelspec": {
   "display_name": "Python 3 (ipykernel)",
   "language": "python",
   "name": "python3"
  },
  "language_info": {
   "codemirror_mode": {
    "name": "ipython",
    "version": 3
   },
   "file_extension": ".py",
   "mimetype": "text/x-python",
   "name": "python",
   "nbconvert_exporter": "python",
   "pygments_lexer": "ipython3",
   "version": "3.10.11"
  }
 },
 "nbformat": 4,
 "nbformat_minor": 5
}
