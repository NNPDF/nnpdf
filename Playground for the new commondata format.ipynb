{
 "cells": [
  {
   "cell_type": "code",
   "execution_count": 1,
   "id": "cc3f217c",
   "metadata": {},
   "outputs": [],
   "source": [
    "from inspect import ismethod\n",
    "from IPython.display import HTML as html_print\n",
    "from matplotlib import pyplot as plt\n",
    "import numpy as np\n",
    "\n",
    "from validphys.api import API\n",
    "from validphys.commondataparser import parse_commondata_new\n",
    "from validphys.loader import TheoryMetadataNotFound, Loader\n",
    "l = Loader()"
   ]
  },
  {
   "cell_type": "code",
   "execution_count": 2,
   "id": "d5b04ab2-d36b-44e0-ad2b-9a2cda2c4b5d",
   "metadata": {
    "scrolled": true
   },
   "outputs": [],
   "source": [
    "if False:\n",
    "    cpred = API.central_predictions(\n",
    "        dataset_input={\"dataset\": \"E605_DY_38P8GEV_PXSEC\"},\n",
    "        use_cuts=\"internal\", \n",
    "        theoryid=400,\n",
    "        pdf=\"NNPDF40_nnlo_as_01180\"\n",
    "    )\n",
    "    print(cpred)"
   ]
  },
  {
   "cell_type": "code",
   "execution_count": 3,
   "id": "d6e4a6e5-cf8e-43f1-baa1-b49ca8f48316",
   "metadata": {},
   "outputs": [
    {
     "data": {
      "text/plain": [
       "entry\n",
       "1     1520.296142\n",
       "2      442.317569\n",
       "3      105.701602\n",
       "4       18.145068\n",
       "5        2.139950\n",
       "6        0.324591\n",
       "7     1077.380478\n",
       "8      362.815922\n",
       "9       84.821282\n",
       "10      12.611769\n",
       "11       1.648876\n",
       "12       0.243108\n",
       "13    1058.625120\n",
       "14     355.457146\n",
       "15      90.390428\n",
       "16      14.975101\n",
       "17       2.334209\n",
       "18       0.467094\n",
       "19     736.719728\n",
       "20     277.732118\n",
       "21      71.327890\n",
       "22      13.381449\n",
       "23       1.792626\n",
       "24       0.255295\n",
       "25     559.577018\n",
       "26     230.421157\n",
       "27      63.391141\n",
       "28      10.714928\n",
       "29       1.875228\n",
       "30       0.399618\n",
       "31     536.615611\n",
       "32     241.928358\n",
       "33      65.557400\n",
       "34      12.932536\n",
       "35       1.566657\n",
       "36       0.250261\n",
       "37     387.368741\n",
       "38     196.746889\n",
       "39      60.414109\n",
       "40      12.645364\n",
       "41       2.198998\n",
       "42       0.375655\n",
       "43     278.288601\n",
       "44     122.491035\n",
       "45      38.402386\n",
       "46       9.320663\n",
       "47       1.038607\n",
       "48       0.191479\n",
       "Name: data, dtype: float64"
      ]
     },
     "execution_count": 3,
     "metadata": {},
     "output_type": "execute_result"
    }
   ],
   "source": [
    "aa = API.dataset(\n",
    "    dataset_input={\"dataset\": 'H1_1JET_319GEV_290PB-1_DIF_PTQ2'},\n",
    "    use_cuts=\"internal\",\n",
    "    theoryid=400,\n",
    "    pdf=\"NNPDF40_nnlo_as_01180\").load_commondata()\n",
    "aa.central_values"
   ]
  },
  {
   "cell_type": "code",
   "execution_count": 4,
   "id": "b6ae0de1-ed61-4e8c-b428-dd73dc51ebf2",
   "metadata": {},
   "outputs": [
    {
     "name": "stdout",
     "output_type": "stream",
     "text": [
      "LHAPDF 6.5.3 loading /opt/homebrew/Cellar/lhapdf/6.5.3/share/LHAPDF/NNPDF40_nnlo_as_01180/NNPDF40_nnlo_as_01180_0000.dat\n",
      "NNPDF40_nnlo_as_01180 PDF set, member #0, version 1; LHAPDF ID = 331100\n"
     ]
    },
    {
     "data": {
      "text/html": [
       "<div>\n",
       "<style scoped>\n",
       "    .dataframe tbody tr th:only-of-type {\n",
       "        vertical-align: middle;\n",
       "    }\n",
       "\n",
       "    .dataframe tbody tr th {\n",
       "        vertical-align: top;\n",
       "    }\n",
       "\n",
       "    .dataframe thead th {\n",
       "        text-align: right;\n",
       "    }\n",
       "</style>\n",
       "<table border=\"1\" class=\"dataframe\">\n",
       "  <thead>\n",
       "    <tr style=\"text-align: right;\">\n",
       "      <th></th>\n",
       "      <th>0</th>\n",
       "    </tr>\n",
       "    <tr>\n",
       "      <th>data</th>\n",
       "      <th></th>\n",
       "    </tr>\n",
       "  </thead>\n",
       "  <tbody>\n",
       "    <tr>\n",
       "      <th>0</th>\n",
       "      <td>1158.076387</td>\n",
       "    </tr>\n",
       "    <tr>\n",
       "      <th>1</th>\n",
       "      <td>390.349916</td>\n",
       "    </tr>\n",
       "    <tr>\n",
       "      <th>2</th>\n",
       "      <td>88.867318</td>\n",
       "    </tr>\n",
       "    <tr>\n",
       "      <th>3</th>\n",
       "      <td>15.699019</td>\n",
       "    </tr>\n",
       "    <tr>\n",
       "      <th>4</th>\n",
       "      <td>2.657003</td>\n",
       "    </tr>\n",
       "    <tr>\n",
       "      <th>5</th>\n",
       "      <td>0.466801</td>\n",
       "    </tr>\n",
       "    <tr>\n",
       "      <th>6</th>\n",
       "      <td>1165.829661</td>\n",
       "    </tr>\n",
       "    <tr>\n",
       "      <th>7</th>\n",
       "      <td>418.877986</td>\n",
       "    </tr>\n",
       "    <tr>\n",
       "      <th>8</th>\n",
       "      <td>96.751173</td>\n",
       "    </tr>\n",
       "    <tr>\n",
       "      <th>9</th>\n",
       "      <td>17.463828</td>\n",
       "    </tr>\n",
       "    <tr>\n",
       "      <th>10</th>\n",
       "      <td>2.994658</td>\n",
       "    </tr>\n",
       "    <tr>\n",
       "      <th>11</th>\n",
       "      <td>0.535526</td>\n",
       "    </tr>\n",
       "    <tr>\n",
       "      <th>12</th>\n",
       "      <td>840.683389</td>\n",
       "    </tr>\n",
       "    <tr>\n",
       "      <th>13</th>\n",
       "      <td>314.891903</td>\n",
       "    </tr>\n",
       "    <tr>\n",
       "      <th>14</th>\n",
       "      <td>76.428244</td>\n",
       "    </tr>\n",
       "    <tr>\n",
       "      <th>15</th>\n",
       "      <td>14.016267</td>\n",
       "    </tr>\n",
       "    <tr>\n",
       "      <th>16</th>\n",
       "      <td>2.425003</td>\n",
       "    </tr>\n",
       "    <tr>\n",
       "      <th>17</th>\n",
       "      <td>0.439531</td>\n",
       "    </tr>\n",
       "    <tr>\n",
       "      <th>18</th>\n",
       "      <td>687.805860</td>\n",
       "    </tr>\n",
       "    <tr>\n",
       "      <th>19</th>\n",
       "      <td>270.418050</td>\n",
       "    </tr>\n",
       "    <tr>\n",
       "      <th>20</th>\n",
       "      <td>69.530812</td>\n",
       "    </tr>\n",
       "    <tr>\n",
       "      <th>21</th>\n",
       "      <td>12.987857</td>\n",
       "    </tr>\n",
       "    <tr>\n",
       "      <th>22</th>\n",
       "      <td>2.251394</td>\n",
       "    </tr>\n",
       "    <tr>\n",
       "      <th>23</th>\n",
       "      <td>0.416488</td>\n",
       "    </tr>\n",
       "    <tr>\n",
       "      <th>24</th>\n",
       "      <td>594.147248</td>\n",
       "    </tr>\n",
       "    <tr>\n",
       "      <th>25</th>\n",
       "      <td>253.720781</td>\n",
       "    </tr>\n",
       "    <tr>\n",
       "      <th>26</th>\n",
       "      <td>68.207374</td>\n",
       "    </tr>\n",
       "    <tr>\n",
       "      <th>27</th>\n",
       "      <td>13.279612</td>\n",
       "    </tr>\n",
       "    <tr>\n",
       "      <th>28</th>\n",
       "      <td>2.347004</td>\n",
       "    </tr>\n",
       "    <tr>\n",
       "      <th>29</th>\n",
       "      <td>0.436889</td>\n",
       "    </tr>\n",
       "    <tr>\n",
       "      <th>30</th>\n",
       "      <td>481.831795</td>\n",
       "    </tr>\n",
       "    <tr>\n",
       "      <th>31</th>\n",
       "      <td>224.462957</td>\n",
       "    </tr>\n",
       "    <tr>\n",
       "      <th>32</th>\n",
       "      <td>65.477119</td>\n",
       "    </tr>\n",
       "    <tr>\n",
       "      <th>33</th>\n",
       "      <td>13.122646</td>\n",
       "    </tr>\n",
       "    <tr>\n",
       "      <th>34</th>\n",
       "      <td>2.374359</td>\n",
       "    </tr>\n",
       "    <tr>\n",
       "      <th>35</th>\n",
       "      <td>0.444835</td>\n",
       "    </tr>\n",
       "    <tr>\n",
       "      <th>36</th>\n",
       "      <td>303.689276</td>\n",
       "    </tr>\n",
       "    <tr>\n",
       "      <th>37</th>\n",
       "      <td>147.969914</td>\n",
       "    </tr>\n",
       "    <tr>\n",
       "      <th>38</th>\n",
       "      <td>46.772040</td>\n",
       "    </tr>\n",
       "    <tr>\n",
       "      <th>39</th>\n",
       "      <td>9.774865</td>\n",
       "    </tr>\n",
       "    <tr>\n",
       "      <th>40</th>\n",
       "      <td>1.835099</td>\n",
       "    </tr>\n",
       "    <tr>\n",
       "      <th>41</th>\n",
       "      <td>0.346541</td>\n",
       "    </tr>\n",
       "    <tr>\n",
       "      <th>42</th>\n",
       "      <td>303.689276</td>\n",
       "    </tr>\n",
       "    <tr>\n",
       "      <th>43</th>\n",
       "      <td>147.969914</td>\n",
       "    </tr>\n",
       "    <tr>\n",
       "      <th>44</th>\n",
       "      <td>46.772040</td>\n",
       "    </tr>\n",
       "    <tr>\n",
       "      <th>45</th>\n",
       "      <td>9.774865</td>\n",
       "    </tr>\n",
       "    <tr>\n",
       "      <th>46</th>\n",
       "      <td>1.835099</td>\n",
       "    </tr>\n",
       "    <tr>\n",
       "      <th>47</th>\n",
       "      <td>0.346541</td>\n",
       "    </tr>\n",
       "  </tbody>\n",
       "</table>\n",
       "</div>"
      ],
      "text/plain": [
       "                0\n",
       "data             \n",
       "0     1158.076387\n",
       "1      390.349916\n",
       "2       88.867318\n",
       "3       15.699019\n",
       "4        2.657003\n",
       "5        0.466801\n",
       "6     1165.829661\n",
       "7      418.877986\n",
       "8       96.751173\n",
       "9       17.463828\n",
       "10       2.994658\n",
       "11       0.535526\n",
       "12     840.683389\n",
       "13     314.891903\n",
       "14      76.428244\n",
       "15      14.016267\n",
       "16       2.425003\n",
       "17       0.439531\n",
       "18     687.805860\n",
       "19     270.418050\n",
       "20      69.530812\n",
       "21      12.987857\n",
       "22       2.251394\n",
       "23       0.416488\n",
       "24     594.147248\n",
       "25     253.720781\n",
       "26      68.207374\n",
       "27      13.279612\n",
       "28       2.347004\n",
       "29       0.436889\n",
       "30     481.831795\n",
       "31     224.462957\n",
       "32      65.477119\n",
       "33      13.122646\n",
       "34       2.374359\n",
       "35       0.444835\n",
       "36     303.689276\n",
       "37     147.969914\n",
       "38      46.772040\n",
       "39       9.774865\n",
       "40       1.835099\n",
       "41       0.346541\n",
       "42     303.689276\n",
       "43     147.969914\n",
       "44      46.772040\n",
       "45       9.774865\n",
       "46       1.835099\n",
       "47       0.346541"
      ]
     },
     "execution_count": 4,
     "metadata": {},
     "output_type": "execute_result"
    }
   ],
   "source": [
    "API.central_predictions(\n",
    "    dataset_input={\"dataset\": 'H1_1JET_319GEV_290PB-1_DIF_PTQ2'},\n",
    "    use_cuts=\"internal\",\n",
    "    theoryid=400,\n",
    "    pdf=\"NNPDF40_nnlo_as_01180\")"
   ]
  },
  {
   "cell_type": "markdown",
   "id": "9de23dc5",
   "metadata": {},
   "source": [
    "## Old-New comparison\n",
    "\n",
    "The next cells use `parse_commondata` and `pase_commondata_new` to compare the `CommonData` objects returned by parsing common data files in the old and new styles.\n",
    "\n",
    "At the moment the \"new commondatas\" are in a hard-coded folder called `new_data` (it is hardcoded in `commondataparser.py` while the old ones are taken from whatever was installed in `share/NNPDF/data`. Eventually the new commondata will also live there.\n",
    "\n",
    "The comparison checks that the data, uncertainties and kinematics are the same (or as close as they can be). The format of the dataframes is slightly different at the moment, but this is at the moment a desired result."
   ]
  },
  {
   "cell_type": "code",
   "execution_count": 3,
   "id": "9872e34d",
   "metadata": {},
   "outputs": [],
   "source": [
    "# Helper functions\n",
    "def load_new(new_name, theoryid=400):\n",
    "    try:\n",
    "        new_cd = API.dataset(dataset_input={\"dataset\": new_name}, use_cuts=\"nocuts\", theoryid=theoryid).load_commondata()\n",
    "    except Exception as e:\n",
    "         # NNPDF datasets by definition also have a theory available, datasets without a theory will fail with AttributeError\n",
    "        if not isinstance(e.args[0],TheoryMetadataNotFound):\n",
    "            raise e\n",
    "        new_cd = l.check_commondata(new_name).load()\n",
    "    return new_cd\n",
    "\n",
    "def load_old_and_new(old_name, new_name, theoryid=400):\n",
    "    \"\"\"Load the old and new commondata. The theory id is needed by the validphys API when using .dataset\n",
    "    but it is never used. \n",
    "    Putting 400 as default since I guess everyone has that theory installed already and the new format\n",
    "    works only with the pineappl theories\n",
    "    \"\"\"\n",
    "    \n",
    "    # If this doesn't find your data, change the path inside `loader.py` to wherever your data is\n",
    "    # the variable is `_folder_data` is inside the `check_commondata` function\n",
    "\n",
    "    # Currently validphys understand a dataset is in the \"new\" format if no .dat file is found\n",
    "    old_cd = API.dataset(dataset_input={\"dataset\": old_name}, use_cuts=\"nocuts\", theoryid=theoryid).load_commondata()\n",
    "    new_cd = load_new(new_name, theoryid=theoryid)\n",
    "        \n",
    "    if new_cd.legacy:\n",
    "        print(\"Oh no!\")\n",
    "        raise FileNotFoundError(\"The new cd was loaded as an old one, something bad happened\")\n",
    "    if not old_cd.legacy:\n",
    "        print(\"Oh no!\")\n",
    "        raise FileNotFoundError(\"The old cd was loaded as a new one, something bad happened\")\n",
    "\n",
    "    return old_cd, new_cd\n",
    "\n",
    "def print_check(msg, res):\n",
    "    color = \"green\" if res else \"red\"\n",
    "    display(html_print(f\"<text style=color:{color}>equal={res} {msg}</text>\"))\n",
    "\n",
    "def check_this(cds, method, naming=None, unc=False):\n",
    "    \"\"\"Check whether the results of `method` for two different commondata agree\"\"\"\n",
    "    if len(cds) != 2:\n",
    "        raise ValueError(f\"Can only check two commondata, not {len(cds)}\")\n",
    "        \n",
    "    test = None\n",
    "    check_result = True\n",
    "    if naming is None:\n",
    "        naming = method\n",
    "    \n",
    "    values = []\n",
    "    for cd in cds:\n",
    "        res = getattr(cd, method)\n",
    "        if ismethod(res): # since sometimes we have methods, sometimes they are attributes\n",
    "            res = res()\n",
    "        values.append(res)\n",
    "        \n",
    "    check_result = np.allclose(*values)\n",
    "    \n",
    "    print_check(f\"Testing {naming} ({method})\", check_result)\n",
    "    \n",
    "    if not check_result:\n",
    "        nnn = (values[0]+values[1]) + 1e-7\n",
    "        val = np.max( (values[0]-values[1])/nnn*100)\n",
    "        if val == val:\n",
    "            print(f\"       Max % diff: {np.abs(val)}\")\n",
    "\n",
    "def check_systematics(cds):\n",
    "    additive_attr = \"additive_errors\"\n",
    "    multipli_attr = \"multiplicative_errors\"\n",
    "    \n",
    "    add = []\n",
    "    mult = []\n",
    "    covmats = []\n",
    "    syserr = []\n",
    "    \n",
    "    nsys = cds[0].nsys\n",
    "\n",
    "    for cd in cds:\n",
    "        if cd.nsys != nsys:\n",
    "            print_check(f\"The number of systematic uncertainites is different!!\", False)\n",
    "            # it doesn't make sense to continue here\n",
    "            return\n",
    "            \n",
    "        res_add = getattr(cd, additive_attr)\n",
    "        res_mult = getattr(cd, multipli_attr)\n",
    "        res_sys = cd.systematic_errors()\n",
    "        \n",
    "        add.append(res_add)\n",
    "        mult.append(res_mult)\n",
    "        syserr.append(res_sys)\n",
    "        covmats.append(res_add @ res_add.T)\n",
    "    \n",
    "    # Even if the number of systematics is the same, it is not a given that they are\n",
    "    # distributed in the same way between multiplicative and additive, check that\n",
    "    all_nmul = [i.shape[-1] for i in mult]    \n",
    "    if not len(np.unique(all_nmul)) == 1:\n",
    "        print(f\" > The combination of multiplicative and additive is different!\")\n",
    "        check_sys = np.allclose(*syserr)\n",
    "        print_check(f\"Testing the raw table of systematics: systematic_errors()\", check_sys)\n",
    "        return\n",
    "\n",
    "    check_multiplicative = np.allclose(*mult)\n",
    "    print_check(f\"Testing multiplicative errors ({multipli_attr})\", check_multiplicative)\n",
    "        \n",
    "    check_additive = np.allclose(*add)\n",
    "    print_check(f\"Testing additive errors ({additive_attr})\", check_additive)\n",
    "    \n",
    "    # When checking additive uncertainties, check also the covmat obtained from res @ res.T\n",
    "    # since there might -1 signs in the eigenvectors\n",
    "    if not check_additive:\n",
    "        check_again = np.allclose(*covmats)\n",
    "        print(\" > > The resulting covmat instead agrees? \", check_again)\n",
    "        \n",
    "\n",
    "def run_checks(old_cd, new_cd):\n",
    "    \"\"\"Run through a number of checks to ensure they contain the same information\"\"\"\n",
    "    cds = [old_cd, new_cd]\n",
    "        \n",
    "    check_this(cds, \"get_cv\", naming=\"central_values\")\n",
    "    check_this(cds, \"get_kintable\", naming=\"kinematics\")\n",
    "    check_this(cds, \"stat_errors\")\n",
    "    check_systematics(cds)\n",
    "    \n",
    "    \n",
    "def parsedat(dat_str):\n",
    "    \"\"\"Parse info from https://github.com/NNPDF/nnpdf/issues/1709\"\"\"\n",
    "    ret = \"datasets = {\"\n",
    "    for i in dat_str.split(\"\\n\"):\n",
    "        sp = i.strip().split(\"|\")\n",
    "        new = f'\"{sp[1].strip()}\"'\n",
    "        old = sp[2].strip()\n",
    "        if old == \"NA\":\n",
    "            old = \"None\"\n",
    "        else:\n",
    "            old = f'\"{old}\"'\n",
    "        ret += f\"\\n    {new} : {old},\"\n",
    "    ret += \"\\n}\"\n",
    "    print(ret)"
   ]
  },
  {
   "cell_type": "code",
   "execution_count": 5,
   "id": "bf73a19b",
   "metadata": {},
   "outputs": [],
   "source": [
    "def test_group(datasets, nofail=False, only_reader=False, skip = None):\n",
    "    all_cds = []\n",
    "    for i, (new_name, old_name) in enumerate(datasets.items()):\n",
    "        if skip is not None:\n",
    "            if i < skip:\n",
    "                continue\n",
    "        print(f\"\\nChecking {i} {new_name} (old name: {old_name})\")\n",
    "        try:\n",
    "            old_cd, new_cd = load_old_and_new(old_name, new_name)\n",
    "            all_cds.append((old_cd, new_cd))\n",
    "            \n",
    "            if old_cd is not None and not only_reader:\n",
    "                print(\" > Comparing values...\")\n",
    "                run_checks(old_cd, new_cd)\n",
    "            else:\n",
    "                print(\" > New commondata read ok\")\n",
    "                \n",
    "        except FileNotFoundError:\n",
    "            print(f\"Files for {new_name} not found\")\n",
    "            continue\n",
    "        except Exception as e:\n",
    "            if nofail:\n",
    "                print(f\"### FAILED for {new_name}\\n\")\n",
    "                continue\n",
    "            raise e\n",
    "    return all_cds"
   ]
  },
  {
   "cell_type": "markdown",
   "id": "f77d6102",
   "metadata": {},
   "source": [
    "## FT Drell-yan\n",
    "\n",
    "These datasets can be found in the `E605` branch [#1679](https://github.com/NNPDF/nnpdf/pull/1679)"
   ]
  },
  {
   "cell_type": "code",
   "execution_count": 6,
   "id": "a1c03485",
   "metadata": {},
   "outputs": [
    {
     "name": "stdout",
     "output_type": "stream",
     "text": [
      "\n",
      "Checking 0 E605_DY_38P8GEV_PXSEC (old name: DYE605_dw_ite)\n",
      " > Comparing values...\n"
     ]
    },
    {
     "data": {
      "text/html": [
       "<text style=color:green>equal=True Testing central_values (get_cv)</text>"
      ],
      "text/plain": [
       "<IPython.core.display.HTML object>"
      ]
     },
     "metadata": {},
     "output_type": "display_data"
    },
    {
     "data": {
      "text/html": [
       "<text style=color:green>equal=True Testing kinematics (get_kintable)</text>"
      ],
      "text/plain": [
       "<IPython.core.display.HTML object>"
      ]
     },
     "metadata": {},
     "output_type": "display_data"
    },
    {
     "data": {
      "text/html": [
       "<text style=color:red>equal=False Testing stat_errors (stat_errors)</text>"
      ],
      "text/plain": [
       "<IPython.core.display.HTML object>"
      ]
     },
     "metadata": {},
     "output_type": "display_data"
    },
    {
     "name": "stdout",
     "output_type": "stream",
     "text": [
      "       Max % diff: 2.1972405622258293\n"
     ]
    },
    {
     "data": {
      "text/html": [
       "<text style=color:red>equal=False The number of systematic uncertainites is different!!</text>"
      ],
      "text/plain": [
       "<IPython.core.display.HTML object>"
      ]
     },
     "metadata": {},
     "output_type": "display_data"
    },
    {
     "name": "stdout",
     "output_type": "stream",
     "text": [
      "\n",
      "Checking 1 E866_DY_800GEV_PXSEC (old name: DYE886P)\n",
      " > Comparing values...\n"
     ]
    },
    {
     "data": {
      "text/html": [
       "<text style=color:red>equal=False Testing central_values (get_cv)</text>"
      ],
      "text/plain": [
       "<IPython.core.display.HTML object>"
      ]
     },
     "metadata": {},
     "output_type": "display_data"
    },
    {
     "name": "stdout",
     "output_type": "stream",
     "text": [
      "       Max % diff: 0.980564514698334\n"
     ]
    },
    {
     "data": {
      "text/html": [
       "<text style=color:red>equal=False Testing kinematics (get_kintable)</text>"
      ],
      "text/plain": [
       "<IPython.core.display.HTML object>"
      ]
     },
     "metadata": {},
     "output_type": "display_data"
    },
    {
     "name": "stdout",
     "output_type": "stream",
     "text": [
      "       Max % diff: 59.707706745413326\n"
     ]
    },
    {
     "data": {
      "text/html": [
       "<text style=color:red>equal=False Testing stat_errors (stat_errors)</text>"
      ],
      "text/plain": [
       "<IPython.core.display.HTML object>"
      ]
     },
     "metadata": {},
     "output_type": "display_data"
    },
    {
     "name": "stdout",
     "output_type": "stream",
     "text": [
      "       Max % diff: 0.9805644629707937\n"
     ]
    },
    {
     "data": {
      "text/html": [
       "<text style=color:green>equal=True Testing multiplicative errors (multiplicative_errors)</text>"
      ],
      "text/plain": [
       "<IPython.core.display.HTML object>"
      ]
     },
     "metadata": {},
     "output_type": "display_data"
    },
    {
     "data": {
      "text/html": [
       "<text style=color:red>equal=False Testing additive errors (additive_errors)</text>"
      ],
      "text/plain": [
       "<IPython.core.display.HTML object>"
      ]
     },
     "metadata": {},
     "output_type": "display_data"
    },
    {
     "name": "stdout",
     "output_type": "stream",
     "text": [
      " > > The resulting covmat instead agrees?  False\n",
      "\n",
      "Checking 2 E866_DY_800GEV_RATIO_PDXSECRATIO (old name: DYE886R_dw_ite)\n",
      " > Comparing values...\n"
     ]
    },
    {
     "data": {
      "text/html": [
       "<text style=color:green>equal=True Testing central_values (get_cv)</text>"
      ],
      "text/plain": [
       "<IPython.core.display.HTML object>"
      ]
     },
     "metadata": {},
     "output_type": "display_data"
    },
    {
     "data": {
      "text/html": [
       "<text style=color:red>equal=False Testing kinematics (get_kintable)</text>"
      ],
      "text/plain": [
       "<IPython.core.display.HTML object>"
      ]
     },
     "metadata": {},
     "output_type": "display_data"
    },
    {
     "name": "stdout",
     "output_type": "stream",
     "text": [
      "       Max % diff: 1.4597762371233123\n"
     ]
    },
    {
     "data": {
      "text/html": [
       "<text style=color:green>equal=True Testing stat_errors (stat_errors)</text>"
      ],
      "text/plain": [
       "<IPython.core.display.HTML object>"
      ]
     },
     "metadata": {},
     "output_type": "display_data"
    },
    {
     "data": {
      "text/html": [
       "<text style=color:red>equal=False The number of systematic uncertainites is different!!</text>"
      ],
      "text/plain": [
       "<IPython.core.display.HTML object>"
      ]
     },
     "metadata": {},
     "output_type": "display_data"
    },
    {
     "name": "stdout",
     "output_type": "stream",
     "text": [
      "\n",
      "Checking 3 E906_DY_120GEV_PDXSECRATIO (old name: DYE906R_dw_ite)\n",
      " > Comparing values...\n"
     ]
    },
    {
     "data": {
      "text/html": [
       "<text style=color:green>equal=True Testing central_values (get_cv)</text>"
      ],
      "text/plain": [
       "<IPython.core.display.HTML object>"
      ]
     },
     "metadata": {},
     "output_type": "display_data"
    },
    {
     "data": {
      "text/html": [
       "<text style=color:green>equal=True Testing kinematics (get_kintable)</text>"
      ],
      "text/plain": [
       "<IPython.core.display.HTML object>"
      ]
     },
     "metadata": {},
     "output_type": "display_data"
    },
    {
     "data": {
      "text/html": [
       "<text style=color:green>equal=True Testing stat_errors (stat_errors)</text>"
      ],
      "text/plain": [
       "<IPython.core.display.HTML object>"
      ]
     },
     "metadata": {},
     "output_type": "display_data"
    },
    {
     "data": {
      "text/html": [
       "<text style=color:red>equal=False The number of systematic uncertainites is different!!</text>"
      ],
      "text/plain": [
       "<IPython.core.display.HTML object>"
      ]
     },
     "metadata": {},
     "output_type": "display_data"
    }
   ],
   "source": [
    "datasets = {\n",
    "    \"E605_DY_38P8GEV_PXSEC\":\"DYE605_dw_ite\",\n",
    "    \"E866_DY_800GEV_PXSEC\":\"DYE886P\",\n",
    "    \"E866_DY_800GEV_RATIO_PDXSECRATIO\":\"DYE886R_dw_ite\",\n",
    "    \"E906_DY_120GEV_PDXSECRATIO\":\"DYE906R_dw_ite\",\n",
    "}\n",
    "\n",
    "res_ft = test_group(datasets, nofail=False)\n",
    "\n",
    "\n",
    "#old_cd, new_cd = load_old_and_new(\"DYE906R_dw_ite\", \"E906_DY_120GEV_PDXSECRATIO\")\n",
    "#run_checks(old_cd, new_cd)"
   ]
  },
  {
   "cell_type": "markdown",
   "id": "140e48f3",
   "metadata": {},
   "source": [
    "## Atlas datasets\n",
    "\n",
    "These datasets can be found in the `gluon_pdf_ncd` branch"
   ]
  },
  {
   "cell_type": "code",
   "execution_count": 5,
   "id": "09a38520",
   "metadata": {
    "scrolled": true
   },
   "outputs": [],
   "source": [
    "datasets = {\n",
    "    \"ATLAS_1JET_13TEV_DIF_PT-Y\" : None,\n",
    "    \"ATLAS_1JET_13TEV_DIF_PT-Y_ALTCORR1\" : None,\n",
    "    \"ATLAS_2JET_13TEV_DIF_MJJ-Y\" : None,\n",
    "    \"ATLAS_TTBAR_13TEV_LJ_DIF_MTTBAR\" : None,\n",
    "    \"ATLAS_TTBAR_13TEV_LJ_DIF_MTTBAR-NORM\" : None,\n",
    "    \"ATLAS_TTBAR_13TEV_LJ_DIF_PTT\" : None,\n",
    "    \"ATLAS_TTBAR_13TEV_LJ_DIF_PTT-NORM\" : None,\n",
    "    \"ATLAS_TTBAR_13TEV_LJ_DIF_YT\" : None,\n",
    "    \"ATLAS_TTBAR_13TEV_LJ_DIF_YT-NORM\" : None,\n",
    "    \"ATLAS_TTBAR_13TEV_LJ_DIF_YTTBAR\" : None,\n",
    "    \"ATLAS_TTBAR_13TEV_LJ_DIF_YTTBAR-NORM\" : None,\n",
    "    \"ATLAS_TTBAR_13TEV_TOT_X-SEC\" : \"ATLASTTBARTOT13TEV\",\n",
    "    \"ATLAS_TTBAR_7TEV_TOT_X-SEC\" : \"ATLASTTBARTOT7TEV\",\n",
    "    \"ATLAS_TTBAR_8TEV_2L_DIF_MTTBAR\" : \"ATLAS_TOPDIFF_DILEPT_8TEV_TTM\",\n",
    "    \"ATLAS_TTBAR_8TEV_2L_DIF_MTTBAR-NORM\" : \"ATLAS_TOPDIFF_DILEPT_8TEV_TTMNORM\",\n",
    "    \"ATLAS_TTBAR_8TEV_2L_DIF_YTTBAR\" : \"ATLAS_TOPDIFF_DILEPT_8TEV_TTRAP\",\n",
    "    \"ATLAS_TTBAR_8TEV_2L_DIF_YTTBAR-NORM\" : \"ATLAS_TOPDIFF_DILEPT_8TEV_TTRAPNORM\",\n",
    "    \"ATLAS_TTBAR_8TEV_LJ_DIF_MTTBAR\" : \"ATLAS_TTB_DIFF_8TEV_LJ_TTM\",\n",
    "    \"ATLAS_TTBAR_8TEV_LJ_DIF_MTTBAR-NORM\" : \"ATLAS_TTB_DIFF_8TEV_LJ_TTMNORM\",\n",
    "    \"ATLAS_TTBAR_8TEV_LJ_DIF_PTT\" : \"ATLAS_TTB_DIFF_8TEV_LJ_TPT\",\n",
    "    \"ATLAS_TTBAR_8TEV_LJ_DIF_PTT-NORM\" : \"ATLAS_TTB_DIFF_8TEV_LJ_TPTNORM\",\n",
    "    \"ATLAS_TTBAR_8TEV_LJ_DIF_YT\" : \"ATLAS_TTB_DIFF_8TEV_LJ_TRAP\",\n",
    "    \"ATLAS_TTBAR_8TEV_LJ_DIF_YT-NORM\" : \"ATLAS_TTB_DIFF_8TEV_LJ_TRAPNORM\",\n",
    "    \"ATLAS_TTBAR_8TEV_LJ_DIF_YTTBAR\" : \"ATLAS_TTB_DIFF_8TEV_LJ_TTRAP\",\n",
    "    \"ATLAS_TTBAR_8TEV_LJ_DIF_YTTBAR-NORM\" : \"ATLAS_TTB_DIFF_8TEV_LJ_TTRAPNORM\",\n",
    "    \"ATLAS_TTBAR_8TEV_TOT_X-SEC\" : \"ATLASTTBARTOT8TEV\",\n",
    "}\n",
    " \n",
    "#res = test_group(datasets, nofail=True, only_reader=True, skip=None)\n",
    "\n",
    "\n",
    "if False:\n",
    "    new_name = list(datasets)[10]\n",
    "    old_name = datasets[new_name]\n",
    "    print(f\"old: {old_name}, new: {new_name}\")\n",
    "\n",
    "    old_cd, new_cd = load_old_and_new(old_name, new_name)\n",
    "    run_checks(old_cd, new_cd)"
   ]
  },
  {
   "cell_type": "markdown",
   "id": "64d4242e",
   "metadata": {},
   "source": [
    "## CMS datasets\n",
    "\n",
    "These datasets can be found in the `gluon_pdf_ncd` branch"
   ]
  },
  {
   "cell_type": "code",
   "execution_count": 6,
   "id": "4d29357d",
   "metadata": {
    "scrolled": true
   },
   "outputs": [
    {
     "name": "stdout",
     "output_type": "stream",
     "text": [
      "\n",
      "Checking 18 CMS_TTBAR_13TEV_LJ_DIF_MTTBAR-YTTBAR (old name: None)\n",
      " > New commondata read ok\n",
      "\n",
      "Checking 19 CMS_TTBAR_13TEV_LJ_DIF_MTTBAR-YTTBAR-NORM (old name: None)\n",
      " > New commondata read ok\n",
      "\n",
      "Checking 20 CMS_TTBAR_13TEV_TOT_X-SEC (old name: CMSTTBARTOT13TEV)\n",
      " > Comparing values...\n"
     ]
    },
    {
     "data": {
      "text/html": [
       "<text style=color:red>equal=False Testing central_values (get_cv)</text>"
      ],
      "text/plain": [
       "<IPython.core.display.HTML object>"
      ]
     },
     "metadata": {},
     "output_type": "display_data"
    },
    {
     "name": "stdout",
     "output_type": "stream",
     "text": [
      "       Max % diff: 2.9908972689862874\n"
     ]
    },
    {
     "data": {
      "text/html": [
       "<text style=color:red>equal=False Testing kinematics (get_kintable)</text>"
      ],
      "text/plain": [
       "<IPython.core.display.HTML object>"
      ]
     },
     "metadata": {},
     "output_type": "display_data"
    },
    {
     "name": "stdout",
     "output_type": "stream",
     "text": [
      "       Max % diff: 0.3120838497055149\n"
     ]
    },
    {
     "data": {
      "text/html": [
       "<text style=color:red>equal=False Testing stat_errors (stat_errors)</text>"
      ],
      "text/plain": [
       "<IPython.core.display.HTML object>"
      ]
     },
     "metadata": {},
     "output_type": "display_data"
    },
    {
     "name": "stdout",
     "output_type": "stream",
     "text": [
      "       Max % diff: 75.75757564279156\n"
     ]
    },
    {
     "data": {
      "text/html": [
       "<text style=color:red>equal=False Testing multiplicative errors (multiplicative_errors)</text>"
      ],
      "text/plain": [
       "<IPython.core.display.HTML object>"
      ]
     },
     "metadata": {},
     "output_type": "display_data"
    },
    {
     "data": {
      "text/html": [
       "<text style=color:green>equal=True Testing additive errors (additive_errors)</text>"
      ],
      "text/plain": [
       "<IPython.core.display.HTML object>"
      ]
     },
     "metadata": {},
     "output_type": "display_data"
    },
    {
     "name": "stdout",
     "output_type": "stream",
     "text": [
      "\n",
      "Checking 21 CMS_TTBAR_5TEV_TOT_X-SEC (old name: CMSTTBARTOT5TEV)\n",
      " > Comparing values...\n"
     ]
    },
    {
     "data": {
      "text/html": [
       "<text style=color:green>equal=True Testing central_values (get_cv)</text>"
      ],
      "text/plain": [
       "<IPython.core.display.HTML object>"
      ]
     },
     "metadata": {},
     "output_type": "display_data"
    },
    {
     "data": {
      "text/html": [
       "<text style=color:red>equal=False Testing kinematics (get_kintable)</text>"
      ],
      "text/plain": [
       "<IPython.core.display.HTML object>"
      ]
     },
     "metadata": {},
     "output_type": "display_data"
    },
    {
     "name": "stdout",
     "output_type": "stream",
     "text": [
      "       Max % diff: 0.0\n"
     ]
    },
    {
     "data": {
      "text/html": [
       "<text style=color:green>equal=True Testing stat_errors (stat_errors)</text>"
      ],
      "text/plain": [
       "<IPython.core.display.HTML object>"
      ]
     },
     "metadata": {},
     "output_type": "display_data"
    },
    {
     "data": {
      "text/html": [
       "<text style=color:green>equal=True Testing multiplicative errors (multiplicative_errors)</text>"
      ],
      "text/plain": [
       "<IPython.core.display.HTML object>"
      ]
     },
     "metadata": {},
     "output_type": "display_data"
    },
    {
     "data": {
      "text/html": [
       "<text style=color:green>equal=True Testing additive errors (additive_errors)</text>"
      ],
      "text/plain": [
       "<IPython.core.display.HTML object>"
      ]
     },
     "metadata": {},
     "output_type": "display_data"
    },
    {
     "name": "stdout",
     "output_type": "stream",
     "text": [
      "\n",
      "Checking 22 CMS_TTBAR_7TEV_TOT_X-SEC (old name: CMSTTBARTOT7TEV)\n",
      " > Comparing values...\n"
     ]
    },
    {
     "data": {
      "text/html": [
       "<text style=color:green>equal=True Testing central_values (get_cv)</text>"
      ],
      "text/plain": [
       "<IPython.core.display.HTML object>"
      ]
     },
     "metadata": {},
     "output_type": "display_data"
    },
    {
     "data": {
      "text/html": [
       "<text style=color:red>equal=False Testing kinematics (get_kintable)</text>"
      ],
      "text/plain": [
       "<IPython.core.display.HTML object>"
      ]
     },
     "metadata": {},
     "output_type": "display_data"
    },
    {
     "name": "stdout",
     "output_type": "stream",
     "text": [
      "       Max % diff: 0.3120838497055149\n"
     ]
    },
    {
     "data": {
      "text/html": [
       "<text style=color:green>equal=True Testing stat_errors (stat_errors)</text>"
      ],
      "text/plain": [
       "<IPython.core.display.HTML object>"
      ]
     },
     "metadata": {},
     "output_type": "display_data"
    },
    {
     "data": {
      "text/html": [
       "<text style=color:green>equal=True Testing multiplicative errors (multiplicative_errors)</text>"
      ],
      "text/plain": [
       "<IPython.core.display.HTML object>"
      ]
     },
     "metadata": {},
     "output_type": "display_data"
    },
    {
     "data": {
      "text/html": [
       "<text style=color:green>equal=True Testing additive errors (additive_errors)</text>"
      ],
      "text/plain": [
       "<IPython.core.display.HTML object>"
      ]
     },
     "metadata": {},
     "output_type": "display_data"
    },
    {
     "name": "stdout",
     "output_type": "stream",
     "text": [
      "\n",
      "Checking 23 CMS_TTBAR_8TEV_2L_DIF_PTT-YT-NORM (old name: CMS_TTBAR_2D_DIFF_PT_TRAP_NORM)\n",
      " > Comparing values...\n"
     ]
    },
    {
     "data": {
      "text/html": [
       "<text style=color:red>equal=False Testing central_values (get_cv)</text>"
      ],
      "text/plain": [
       "<IPython.core.display.HTML object>"
      ]
     },
     "metadata": {},
     "output_type": "display_data"
    },
    {
     "name": "stdout",
     "output_type": "stream",
     "text": [
      "       Max % diff: 0.9814028622220792\n"
     ]
    },
    {
     "data": {
      "text/html": [
       "<text style=color:red>equal=False Testing kinematics (get_kintable)</text>"
      ],
      "text/plain": [
       "<IPython.core.display.HTML object>"
      ]
     },
     "metadata": {},
     "output_type": "display_data"
    },
    {
     "name": "stdout",
     "output_type": "stream",
     "text": [
      "       Max % diff: 99.99980622850609\n"
     ]
    },
    {
     "data": {
      "text/html": [
       "<text style=color:green>equal=True Testing stat_errors (stat_errors)</text>"
      ],
      "text/plain": [
       "<IPython.core.display.HTML object>"
      ]
     },
     "metadata": {},
     "output_type": "display_data"
    },
    {
     "data": {
      "text/html": [
       "<text style=color:red>equal=False The number of systematic uncertainites is different!!</text>"
      ],
      "text/plain": [
       "<IPython.core.display.HTML object>"
      ]
     },
     "metadata": {},
     "output_type": "display_data"
    },
    {
     "name": "stdout",
     "output_type": "stream",
     "text": [
      "\n",
      "Checking 24 CMS_TTBAR_8TEV_2L_DIF_MTTBAR-YT-NORM (old name: CMS_TTBAR_2D_DIFF_MTT_TRAP_NORM)\n",
      " > Comparing values...\n"
     ]
    },
    {
     "data": {
      "text/html": [
       "<text style=color:red>equal=False Testing central_values (get_cv)</text>"
      ],
      "text/plain": [
       "<IPython.core.display.HTML object>"
      ]
     },
     "metadata": {},
     "output_type": "display_data"
    },
    {
     "name": "stdout",
     "output_type": "stream",
     "text": [
      "       Max % diff: 1.4970067401729883\n"
     ]
    },
    {
     "data": {
      "text/html": [
       "<text style=color:red>equal=False Testing kinematics (get_kintable)</text>"
      ],
      "text/plain": [
       "<IPython.core.display.HTML object>"
      ]
     },
     "metadata": {},
     "output_type": "display_data"
    },
    {
     "name": "stdout",
     "output_type": "stream",
     "text": [
      "       Max % diff: 99.9999697133545\n"
     ]
    },
    {
     "data": {
      "text/html": [
       "<text style=color:green>equal=True Testing stat_errors (stat_errors)</text>"
      ],
      "text/plain": [
       "<IPython.core.display.HTML object>"
      ]
     },
     "metadata": {},
     "output_type": "display_data"
    },
    {
     "data": {
      "text/html": [
       "<text style=color:red>equal=False The number of systematic uncertainites is different!!</text>"
      ],
      "text/plain": [
       "<IPython.core.display.HTML object>"
      ]
     },
     "metadata": {},
     "output_type": "display_data"
    },
    {
     "name": "stdout",
     "output_type": "stream",
     "text": [
      "\n",
      "Checking 25 CMS_TTBAR_8TEV_2L_DIF_MTTBAR-YTTBAR-NORM (old name: CMS_TTBAR_2D_DIFF_MTT_TTRAP_NORM)\n",
      " > Comparing values...\n"
     ]
    },
    {
     "data": {
      "text/html": [
       "<text style=color:red>equal=False Testing central_values (get_cv)</text>"
      ],
      "text/plain": [
       "<IPython.core.display.HTML object>"
      ]
     },
     "metadata": {},
     "output_type": "display_data"
    },
    {
     "name": "stdout",
     "output_type": "stream",
     "text": [
      "       Max % diff: 0.8061789013783482\n"
     ]
    },
    {
     "data": {
      "text/html": [
       "<text style=color:red>equal=False Testing kinematics (get_kintable)</text>"
      ],
      "text/plain": [
       "<IPython.core.display.HTML object>"
      ]
     },
     "metadata": {},
     "output_type": "display_data"
    },
    {
     "name": "stdout",
     "output_type": "stream",
     "text": [
      "       Max % diff: 99.9999697133545\n"
     ]
    },
    {
     "data": {
      "text/html": [
       "<text style=color:green>equal=True Testing stat_errors (stat_errors)</text>"
      ],
      "text/plain": [
       "<IPython.core.display.HTML object>"
      ]
     },
     "metadata": {},
     "output_type": "display_data"
    },
    {
     "data": {
      "text/html": [
       "<text style=color:red>equal=False The number of systematic uncertainites is different!!</text>"
      ],
      "text/plain": [
       "<IPython.core.display.HTML object>"
      ]
     },
     "metadata": {},
     "output_type": "display_data"
    },
    {
     "name": "stdout",
     "output_type": "stream",
     "text": [
      "\n",
      "Checking 26 CMS_TTBAR_8TEV_LJ_DIF_MTTBAR-NORM (old name: CMSTOPDIFF8TEVTTMNORM)\n",
      " > Comparing values...\n"
     ]
    },
    {
     "data": {
      "text/html": [
       "<text style=color:green>equal=True Testing central_values (get_cv)</text>"
      ],
      "text/plain": [
       "<IPython.core.display.HTML object>"
      ]
     },
     "metadata": {},
     "output_type": "display_data"
    },
    {
     "data": {
      "text/html": [
       "<text style=color:red>equal=False Testing kinematics (get_kintable)</text>"
      ],
      "text/plain": [
       "<IPython.core.display.HTML object>"
      ]
     },
     "metadata": {},
     "output_type": "display_data"
    },
    {
     "name": "stdout",
     "output_type": "stream",
     "text": [
      "       Max % diff: 0.3120838497055149\n"
     ]
    },
    {
     "data": {
      "text/html": [
       "<text style=color:green>equal=True Testing stat_errors (stat_errors)</text>"
      ],
      "text/plain": [
       "<IPython.core.display.HTML object>"
      ]
     },
     "metadata": {},
     "output_type": "display_data"
    },
    {
     "name": "stdout",
     "output_type": "stream",
     "text": [
      " > The combination of multiplicative and additive is different!\n"
     ]
    },
    {
     "data": {
      "text/html": [
       "<text style=color:red>equal=False Testing the raw table of systematics: systematic_errors()</text>"
      ],
      "text/plain": [
       "<IPython.core.display.HTML object>"
      ]
     },
     "metadata": {},
     "output_type": "display_data"
    },
    {
     "name": "stdout",
     "output_type": "stream",
     "text": [
      "\n",
      "Checking 27 CMS_TTBAR_8TEV_LJ_DIF_PTT-NORM (old name: CMSTOPDIFF8TEVTPTNORM)\n"
     ]
    },
    {
     "ename": "ConfigError",
     "evalue": "Could not find Commondata set: 'CMSTOPDIFF8TEVTPTNORM'. File '/Users/jumax9/Academic_Workspace/NNPDF/nnvortex/share/NNPDF/data/commondata/DATA_CMSTOPDIFF8TEVTPTNORM.dat' does not exist.\nInstead of 'CMSTOPDIFF8TEVTPTNORM', did you mean one of the following?\n - CMSTOPDIFF8TEVTTMNORM\n - CMSTOPDIFF8TEVTRAPNORM\n - CMSTOPDIFF8TEVTTRAPNORM",
     "output_type": "error",
     "traceback": [
      "\u001b[0;31m---------------------------------------------------------------------------\u001b[0m",
      "\u001b[0;31mDataNotFoundError\u001b[0m                         Traceback (most recent call last)",
      "File \u001b[0;32m~/Academic_Workspace/NNPDF/src/nnpdf/validphys2/src/validphys/config.py:463\u001b[0m, in \u001b[0;36mCoreConfig.produce_commondata\u001b[0;34m(self, dataset_input, use_fitcommondata, fit)\u001b[0m\n\u001b[1;32m    462\u001b[0m \u001b[38;5;28;01mtry\u001b[39;00m:\n\u001b[0;32m--> 463\u001b[0m     \u001b[38;5;28;01mreturn\u001b[39;00m \u001b[38;5;28;43mself\u001b[39;49m\u001b[38;5;241;43m.\u001b[39;49m\u001b[43mloader\u001b[49m\u001b[38;5;241;43m.\u001b[39;49m\u001b[43mcheck_commondata\u001b[49m\u001b[43m(\u001b[49m\n\u001b[1;32m    464\u001b[0m \u001b[43m        \u001b[49m\u001b[43msetname\u001b[49m\u001b[38;5;241;43m=\u001b[39;49m\u001b[43mname\u001b[49m\u001b[43m,\u001b[49m\n\u001b[1;32m    465\u001b[0m \u001b[43m        \u001b[49m\u001b[43msysnum\u001b[49m\u001b[38;5;241;43m=\u001b[39;49m\u001b[43msysnum\u001b[49m\u001b[43m,\u001b[49m\n\u001b[1;32m    466\u001b[0m \u001b[43m        \u001b[49m\u001b[43muse_fitcommondata\u001b[49m\u001b[38;5;241;43m=\u001b[39;49m\u001b[43muse_fitcommondata\u001b[49m\u001b[43m,\u001b[49m\n\u001b[1;32m    467\u001b[0m \u001b[43m        \u001b[49m\u001b[43mfit\u001b[49m\u001b[38;5;241;43m=\u001b[39;49m\u001b[43mfit\u001b[49m\u001b[43m,\u001b[49m\n\u001b[1;32m    468\u001b[0m \u001b[43m    \u001b[49m\u001b[43m)\u001b[49m\n\u001b[1;32m    469\u001b[0m \u001b[38;5;28;01mexcept\u001b[39;00m DataNotFoundError \u001b[38;5;28;01mas\u001b[39;00m e:\n",
      "File \u001b[0;32m~/Academic_Workspace/NNPDF/src/nnpdf/validphys2/src/validphys/loader.py:291\u001b[0m, in \u001b[0;36mLoader.check_commondata\u001b[0;34m(self, setname, sysnum, use_fitcommondata, fit)\u001b[0m\n\u001b[1;32m    290\u001b[0m \u001b[38;5;28;01mif\u001b[39;00m \u001b[38;5;129;01mnot\u001b[39;00m datafile\u001b[38;5;241m.\u001b[39mexists():\n\u001b[0;32m--> 291\u001b[0m     \u001b[38;5;28;01mraise\u001b[39;00m DataNotFoundError((\u001b[38;5;124m\"\u001b[39m\u001b[38;5;124mCould not find Commondata set: \u001b[39m\u001b[38;5;124m'\u001b[39m\u001b[38;5;132;01m%s\u001b[39;00m\u001b[38;5;124m'\u001b[39m\u001b[38;5;124m. \u001b[39m\u001b[38;5;124m\"\u001b[39m\n\u001b[1;32m    292\u001b[0m           \u001b[38;5;124m\"\u001b[39m\u001b[38;5;124mFile \u001b[39m\u001b[38;5;124m'\u001b[39m\u001b[38;5;132;01m%s\u001b[39;00m\u001b[38;5;124m'\u001b[39m\u001b[38;5;124m does not exist.\u001b[39m\u001b[38;5;124m\"\u001b[39m)\n\u001b[1;32m    293\u001b[0m          \u001b[38;5;241m%\u001b[39m (setname, datafile))\n\u001b[1;32m    294\u001b[0m \u001b[38;5;28;01mif\u001b[39;00m sysnum \u001b[38;5;129;01mis\u001b[39;00m \u001b[38;5;28;01mNone\u001b[39;00m:\n",
      "\u001b[0;31mDataNotFoundError\u001b[0m: Could not find Commondata set: 'CMSTOPDIFF8TEVTPTNORM'. File '/Users/jumax9/Academic_Workspace/NNPDF/nnvortex/share/NNPDF/data/commondata/DATA_CMSTOPDIFF8TEVTPTNORM.dat' does not exist.",
      "\nThe above exception was the direct cause of the following exception:\n",
      "\u001b[0;31mConfigError\u001b[0m                               Traceback (most recent call last)",
      "Cell \u001b[0;32mIn [6], line 35\u001b[0m\n\u001b[1;32m      1\u001b[0m datasets \u001b[38;5;241m=\u001b[39m {\n\u001b[1;32m      2\u001b[0m     \u001b[38;5;124m\"\u001b[39m\u001b[38;5;124mCMS_1JET_13TEV_DIF_R04\u001b[39m\u001b[38;5;124m\"\u001b[39m : \u001b[38;5;28;01mNone\u001b[39;00m,\n\u001b[1;32m      3\u001b[0m     \u001b[38;5;124m\"\u001b[39m\u001b[38;5;124mCMS_1JET_13TEV_DIF_R07\u001b[39m\u001b[38;5;124m\"\u001b[39m : \u001b[38;5;28;01mNone\u001b[39;00m,\n\u001b[0;32m   (...)\u001b[0m\n\u001b[1;32m     32\u001b[0m     \u001b[38;5;124m\"\u001b[39m\u001b[38;5;124mCMS_TTBAR_8TEV_TOT_X-SEC\u001b[39m\u001b[38;5;124m\"\u001b[39m : \u001b[38;5;124m\"\u001b[39m\u001b[38;5;124mCMSTTBARTOT8TEV\u001b[39m\u001b[38;5;124m\"\u001b[39m,\n\u001b[1;32m     33\u001b[0m }\n\u001b[0;32m---> 35\u001b[0m res \u001b[38;5;241m=\u001b[39m \u001b[43mtest_group\u001b[49m\u001b[43m(\u001b[49m\u001b[43mdatasets\u001b[49m\u001b[43m,\u001b[49m\u001b[43m \u001b[49m\u001b[43mnofail\u001b[49m\u001b[38;5;241;43m=\u001b[39;49m\u001b[38;5;28;43;01mFalse\u001b[39;49;00m\u001b[43m,\u001b[49m\u001b[43m \u001b[49m\u001b[43monly_reader\u001b[49m\u001b[38;5;241;43m=\u001b[39;49m\u001b[38;5;28;43;01mFalse\u001b[39;49;00m\u001b[43m,\u001b[49m\u001b[43m \u001b[49m\u001b[43mskip\u001b[49m\u001b[38;5;241;43m=\u001b[39;49m\u001b[38;5;241;43m18\u001b[39;49m\u001b[43m)\u001b[49m\n",
      "Cell \u001b[0;32mIn [3], line 25\u001b[0m, in \u001b[0;36mtest_group\u001b[0;34m(datasets, nofail, only_reader, skip)\u001b[0m\n\u001b[1;32m     23\u001b[0m             \u001b[38;5;28mprint\u001b[39m(\u001b[38;5;124mf\u001b[39m\u001b[38;5;124m\"\u001b[39m\u001b[38;5;124m### FAILED for \u001b[39m\u001b[38;5;132;01m{\u001b[39;00mnew_name\u001b[38;5;132;01m}\u001b[39;00m\u001b[38;5;130;01m\\n\u001b[39;00m\u001b[38;5;124m\"\u001b[39m)\n\u001b[1;32m     24\u001b[0m             \u001b[38;5;28;01mcontinue\u001b[39;00m\n\u001b[0;32m---> 25\u001b[0m         \u001b[38;5;28;01mraise\u001b[39;00m e\n\u001b[1;32m     26\u001b[0m \u001b[38;5;28;01mreturn\u001b[39;00m all_cds\n",
      "Cell \u001b[0;32mIn [3], line 9\u001b[0m, in \u001b[0;36mtest_group\u001b[0;34m(datasets, nofail, only_reader, skip)\u001b[0m\n\u001b[1;32m      7\u001b[0m \u001b[38;5;28mprint\u001b[39m(\u001b[38;5;124mf\u001b[39m\u001b[38;5;124m\"\u001b[39m\u001b[38;5;130;01m\\n\u001b[39;00m\u001b[38;5;124mChecking \u001b[39m\u001b[38;5;132;01m{\u001b[39;00mi\u001b[38;5;132;01m}\u001b[39;00m\u001b[38;5;124m \u001b[39m\u001b[38;5;132;01m{\u001b[39;00mnew_name\u001b[38;5;132;01m}\u001b[39;00m\u001b[38;5;124m (old name: \u001b[39m\u001b[38;5;132;01m{\u001b[39;00mold_name\u001b[38;5;132;01m}\u001b[39;00m\u001b[38;5;124m)\u001b[39m\u001b[38;5;124m\"\u001b[39m)\n\u001b[1;32m      8\u001b[0m \u001b[38;5;28;01mtry\u001b[39;00m:\n\u001b[0;32m----> 9\u001b[0m     old_cd, new_cd \u001b[38;5;241m=\u001b[39m \u001b[43mload_old_and_new\u001b[49m\u001b[43m(\u001b[49m\u001b[43mold_name\u001b[49m\u001b[43m,\u001b[49m\u001b[43m \u001b[49m\u001b[43mnew_name\u001b[49m\u001b[43m)\u001b[49m\n\u001b[1;32m     10\u001b[0m     all_cds\u001b[38;5;241m.\u001b[39mappend((old_cd, new_cd))\n\u001b[1;32m     12\u001b[0m     \u001b[38;5;28;01mif\u001b[39;00m old_cd \u001b[38;5;129;01mis\u001b[39;00m \u001b[38;5;129;01mnot\u001b[39;00m \u001b[38;5;28;01mNone\u001b[39;00m \u001b[38;5;129;01mand\u001b[39;00m \u001b[38;5;129;01mnot\u001b[39;00m only_reader:\n",
      "Cell \u001b[0;32mIn [2], line 15\u001b[0m, in \u001b[0;36mload_old_and_new\u001b[0;34m(old_name, new_name, theoryid)\u001b[0m\n\u001b[1;32m     13\u001b[0m     old_cd \u001b[38;5;241m=\u001b[39m \u001b[38;5;28;01mNone\u001b[39;00m\n\u001b[1;32m     14\u001b[0m \u001b[38;5;28;01melse\u001b[39;00m:\n\u001b[0;32m---> 15\u001b[0m     old_cd \u001b[38;5;241m=\u001b[39m \u001b[43mAPI\u001b[49m\u001b[38;5;241;43m.\u001b[39;49m\u001b[43mdataset\u001b[49m\u001b[43m(\u001b[49m\u001b[43mdataset_input\u001b[49m\u001b[38;5;241;43m=\u001b[39;49m\u001b[43m{\u001b[49m\u001b[38;5;124;43m\"\u001b[39;49m\u001b[38;5;124;43mdataset\u001b[39;49m\u001b[38;5;124;43m\"\u001b[39;49m\u001b[43m:\u001b[49m\u001b[43m \u001b[49m\u001b[43mold_name\u001b[49m\u001b[43m}\u001b[49m\u001b[43m,\u001b[49m\u001b[43m \u001b[49m\u001b[43muse_cuts\u001b[49m\u001b[38;5;241;43m=\u001b[39;49m\u001b[38;5;124;43m\"\u001b[39;49m\u001b[38;5;124;43mnocuts\u001b[39;49m\u001b[38;5;124;43m\"\u001b[39;49m\u001b[43m,\u001b[49m\u001b[43m \u001b[49m\u001b[43mtheoryid\u001b[49m\u001b[38;5;241;43m=\u001b[39;49m\u001b[43mtheoryid\u001b[49m\u001b[43m)\u001b[49m\u001b[38;5;241m.\u001b[39mload_commondata()\n\u001b[1;32m     17\u001b[0m \u001b[38;5;28;01mreturn\u001b[39;00m old_cd, new_cd\n",
      "File \u001b[0;32m~/Academic_Workspace/NNPDF/nnvortex/lib/python3.10/site-packages/reportengine/api.py:44\u001b[0m, in \u001b[0;36mAPI.__getattr__.<locals>.closure\u001b[0;34m(**kwargs)\u001b[0m\n\u001b[1;32m     43\u001b[0m \u001b[38;5;28;01mdef\u001b[39;00m \u001b[38;5;21mclosure\u001b[39m(\u001b[38;5;241m*\u001b[39m\u001b[38;5;241m*\u001b[39mkwargs):\n\u001b[0;32m---> 44\u001b[0m     \u001b[38;5;28;01mreturn\u001b[39;00m \u001b[38;5;28;43mself\u001b[39;49m\u001b[38;5;241;43m.\u001b[39;49m\u001b[38;5;21;43m__call__\u001b[39;49m\u001b[43m(\u001b[49m\u001b[43mname\u001b[49m\u001b[43m,\u001b[49m\u001b[43m \u001b[49m\u001b[38;5;241;43m*\u001b[39;49m\u001b[38;5;241;43m*\u001b[39;49m\u001b[43mkwargs\u001b[49m\u001b[43m)\u001b[49m\n",
      "File \u001b[0;32m~/Academic_Workspace/NNPDF/nnvortex/lib/python3.10/site-packages/reportengine/api.py:37\u001b[0m, in \u001b[0;36mAPI.__call__\u001b[0;34m(self, actions, **kwargs)\u001b[0m\n\u001b[1;32m     35\u001b[0m builder \u001b[38;5;241m=\u001b[39m ResourceBuilder(c, \u001b[38;5;28mself\u001b[39m\u001b[38;5;241m.\u001b[39mprovider_loaded, fuzzytarg, perform_final\u001b[38;5;241m=\u001b[39m\u001b[38;5;28;01mFalse\u001b[39;00m)\n\u001b[1;32m     36\u001b[0m builder\u001b[38;5;241m.\u001b[39mrootns\u001b[38;5;241m.\u001b[39mupdate(\u001b[38;5;28mself\u001b[39m\u001b[38;5;241m.\u001b[39mloadedenv\u001b[38;5;241m.\u001b[39mns_dump())\n\u001b[0;32m---> 37\u001b[0m \u001b[43mbuilder\u001b[49m\u001b[38;5;241;43m.\u001b[39;49m\u001b[43mresolve_fuzzytargets\u001b[49m\u001b[43m(\u001b[49m\u001b[43m)\u001b[49m\n\u001b[1;32m     38\u001b[0m builder\u001b[38;5;241m.\u001b[39mexecute_sequential()\n\u001b[1;32m     39\u001b[0m res \u001b[38;5;241m=\u001b[39m builder\u001b[38;5;241m.\u001b[39mrootns[actions]\n",
      "File \u001b[0;32m~/Academic_Workspace/NNPDF/nnvortex/lib/python3.10/site-packages/reportengine/resourcebuilder.py:370\u001b[0m, in \u001b[0;36mResourceBuilder.resolve_fuzzytargets\u001b[0;34m(self)\u001b[0m\n\u001b[1;32m    368\u001b[0m \u001b[38;5;28;01mdef\u001b[39;00m \u001b[38;5;21mresolve_fuzzytargets\u001b[39m(\u001b[38;5;28mself\u001b[39m):\n\u001b[1;32m    369\u001b[0m     \u001b[38;5;28;01mfor\u001b[39;00m target \u001b[38;5;129;01min\u001b[39;00m \u001b[38;5;28mself\u001b[39m\u001b[38;5;241m.\u001b[39mfuzzytargets:\n\u001b[0;32m--> 370\u001b[0m         \u001b[38;5;28;43mself\u001b[39;49m\u001b[38;5;241;43m.\u001b[39;49m\u001b[43mresolve_fuzzytarget\u001b[49m\u001b[43m(\u001b[49m\u001b[43mtarget\u001b[49m\u001b[43m)\u001b[49m\n",
      "File \u001b[0;32m~/Academic_Workspace/NNPDF/nnvortex/lib/python3.10/site-packages/reportengine/resourcebuilder.py:379\u001b[0m, in \u001b[0;36mResourceBuilder.resolve_fuzzytarget\u001b[0;34m(self, fuzzytarget)\u001b[0m\n\u001b[1;32m    376\u001b[0m specs \u001b[38;5;241m=\u001b[39m \u001b[38;5;28mself\u001b[39m\u001b[38;5;241m.\u001b[39mexpand_fuzzytarget_spec(fuzzytarget)\n\u001b[1;32m    378\u001b[0m \u001b[38;5;28;01mfor\u001b[39;00m spec \u001b[38;5;129;01min\u001b[39;00m specs:\n\u001b[0;32m--> 379\u001b[0m     \u001b[38;5;28;43mself\u001b[39;49m\u001b[38;5;241;43m.\u001b[39;49m\u001b[43mprocess_targetspec\u001b[49m\u001b[43m(\u001b[49m\u001b[43mfuzzytarget\u001b[49m\u001b[38;5;241;43m.\u001b[39;49m\u001b[43mname\u001b[49m\u001b[43m,\u001b[49m\u001b[43m \u001b[49m\u001b[43mspec\u001b[49m\u001b[43m,\u001b[49m\u001b[43m \u001b[49m\u001b[43mfuzzytarget\u001b[49m\u001b[38;5;241;43m.\u001b[39;49m\u001b[43mextraargs\u001b[49m\u001b[43m)\u001b[49m\n",
      "File \u001b[0;32m~/Academic_Workspace/NNPDF/nnvortex/lib/python3.10/site-packages/reportengine/resourcebuilder.py:388\u001b[0m, in \u001b[0;36mResourceBuilder.process_targetspec\u001b[0;34m(self, name, nsspec, extraargs, default)\u001b[0m\n\u001b[1;32m    384\u001b[0m log\u001b[38;5;241m.\u001b[39mdebug(\u001b[38;5;124m\"\u001b[39m\u001b[38;5;124mProcessing target \u001b[39m\u001b[38;5;132;01m%s\u001b[39;00m\u001b[38;5;124m\"\u001b[39m \u001b[38;5;241m%\u001b[39m name)\n\u001b[1;32m    386\u001b[0m gen \u001b[38;5;241m=\u001b[39m \u001b[38;5;28mself\u001b[39m\u001b[38;5;241m.\u001b[39m_process_requirement(name, nsspec, extraargs\u001b[38;5;241m=\u001b[39mextraargs,\n\u001b[1;32m    387\u001b[0m                                 default\u001b[38;5;241m=\u001b[39mdefault, parents\u001b[38;5;241m=\u001b[39m[])\n\u001b[0;32m--> 388\u001b[0m \u001b[43mgen\u001b[49m\u001b[38;5;241;43m.\u001b[39;49m\u001b[43msend\u001b[49m\u001b[43m(\u001b[49m\u001b[38;5;28;43;01mNone\u001b[39;49;00m\u001b[43m)\u001b[49m\n\u001b[1;32m    389\u001b[0m \u001b[38;5;28;01mtry\u001b[39;00m:\n\u001b[1;32m    390\u001b[0m     gen\u001b[38;5;241m.\u001b[39msend(\u001b[38;5;28;01mNone\u001b[39;00m)\n",
      "File \u001b[0;32m~/Academic_Workspace/NNPDF/nnvortex/lib/python3.10/site-packages/reportengine/resourcebuilder.py:417\u001b[0m, in \u001b[0;36mResourceBuilder._process_requirement\u001b[0;34m(self, name, nsspec, extraargs, default, parents)\u001b[0m\n\u001b[1;32m    415\u001b[0m \u001b[38;5;66;03m#First try to find the name in the namespace\u001b[39;00m\n\u001b[1;32m    416\u001b[0m \u001b[38;5;28;01mtry\u001b[39;00m:\n\u001b[0;32m--> 417\u001b[0m     put_index, val \u001b[38;5;241m=\u001b[39m \u001b[38;5;28;43mself\u001b[39;49m\u001b[38;5;241;43m.\u001b[39;49m\u001b[43minput_parser\u001b[49m\u001b[38;5;241;43m.\u001b[39;49m\u001b[43mresolve_key\u001b[49m\u001b[43m(\u001b[49m\u001b[43mname\u001b[49m\u001b[43m,\u001b[49m\u001b[43m \u001b[49m\u001b[43mns\u001b[49m\u001b[43m,\u001b[49m\u001b[43m \u001b[49m\u001b[43mparents\u001b[49m\u001b[38;5;241;43m=\u001b[39;49m\u001b[43mparents\u001b[49m\u001b[43m,\u001b[49m\u001b[43m \u001b[49m\u001b[43mcurrspec\u001b[49m\u001b[38;5;241;43m=\u001b[39;49m\u001b[43mnsspec\u001b[49m\u001b[43m)\u001b[49m\n\u001b[1;32m    418\u001b[0m     log\u001b[38;5;241m.\u001b[39mdebug(\u001b[38;5;124m\"\u001b[39m\u001b[38;5;124mFound \u001b[39m\u001b[38;5;132;01m%s\u001b[39;00m\u001b[38;5;124m for spec \u001b[39m\u001b[38;5;132;01m%s\u001b[39;00m\u001b[38;5;124m at \u001b[39m\u001b[38;5;132;01m%s\u001b[39;00m\u001b[38;5;124m\"\u001b[39m\u001b[38;5;241m%\u001b[39m(name, nsspec, put_index))\n\u001b[1;32m    420\u001b[0m \u001b[38;5;28;01mexcept\u001b[39;00m InputNotFoundError \u001b[38;5;28;01mas\u001b[39;00m e:\n\u001b[1;32m    421\u001b[0m     \u001b[38;5;66;03m#See https://www.python.org/dev/peps/pep-3110/\u001b[39;00m\n",
      "File \u001b[0;32m~/Academic_Workspace/NNPDF/nnvortex/lib/python3.10/site-packages/reportengine/configparser.py:429\u001b[0m, in \u001b[0;36mConfig.resolve_key\u001b[0;34m(self, key, ns, input_params, parents, max_index, write, currspec)\u001b[0m\n\u001b[1;32m    427\u001b[0m     input_params \u001b[38;5;241m=\u001b[39m \u001b[38;5;28mself\u001b[39m\u001b[38;5;241m.\u001b[39minput_params\n\u001b[1;32m    428\u001b[0m \u001b[38;5;28;01mwith\u001b[39;00m \u001b[38;5;28mself\u001b[39m\u001b[38;5;241m.\u001b[39mset_context(key, ns, input_params, parents, currspec):\n\u001b[0;32m--> 429\u001b[0m     \u001b[38;5;28;01mreturn\u001b[39;00m \u001b[38;5;28;43mself\u001b[39;49m\u001b[38;5;241;43m.\u001b[39;49m\u001b[43m_resolve_key\u001b[49m\u001b[43m(\u001b[49m\u001b[43mkey\u001b[49m\u001b[38;5;241;43m=\u001b[39;49m\u001b[43mkey\u001b[49m\u001b[43m,\u001b[49m\u001b[43m \u001b[49m\u001b[43mns\u001b[49m\u001b[38;5;241;43m=\u001b[39;49m\u001b[43mns\u001b[49m\u001b[43m,\u001b[49m\u001b[43m \u001b[49m\u001b[43minput_params\u001b[49m\u001b[38;5;241;43m=\u001b[39;49m\u001b[43minput_params\u001b[49m\u001b[43m,\u001b[49m\n\u001b[1;32m    430\u001b[0m \u001b[43m        \u001b[49m\u001b[43mparents\u001b[49m\u001b[38;5;241;43m=\u001b[39;49m\u001b[43mparents\u001b[49m\u001b[43m,\u001b[49m\u001b[43m \u001b[49m\u001b[43mmax_index\u001b[49m\u001b[38;5;241;43m=\u001b[39;49m\u001b[43mmax_index\u001b[49m\u001b[43m,\u001b[49m\u001b[43m \u001b[49m\u001b[43mwrite\u001b[49m\u001b[38;5;241;43m=\u001b[39;49m\u001b[43mwrite\u001b[49m\u001b[43m)\u001b[49m\n",
      "File \u001b[0;32m~/Academic_Workspace/NNPDF/nnvortex/lib/python3.10/site-packages/reportengine/configparser.py:477\u001b[0m, in \u001b[0;36mConfig._resolve_key\u001b[0;34m(self, key, ns, input_params, parents, max_index, write)\u001b[0m\n\u001b[1;32m    475\u001b[0m \u001b[38;5;28;01mif\u001b[39;00m produce_func:\n\u001b[1;32m    476\u001b[0m     \u001b[38;5;28;01mtry\u001b[39;00m:\n\u001b[0;32m--> 477\u001b[0m         put_index, kwargs \u001b[38;5;241m=\u001b[39m \u001b[38;5;28;43mself\u001b[39;49m\u001b[38;5;241;43m.\u001b[39;49m\u001b[43mresolve_signature_params\u001b[49m\u001b[43m(\u001b[49m\u001b[43mproduce_func\u001b[49m\u001b[43m,\u001b[49m\n\u001b[1;32m    478\u001b[0m \u001b[43m                                \u001b[49m\u001b[43mstart_from\u001b[49m\u001b[38;5;241;43m=\u001b[39;49m\u001b[38;5;241;43m0\u001b[39;49m\u001b[43m \u001b[49m\u001b[43m,\u001b[49m\u001b[43mns\u001b[49m\u001b[38;5;241;43m=\u001b[39;49m\u001b[43mns\u001b[49m\u001b[43m,\u001b[49m\n\u001b[1;32m    479\u001b[0m \u001b[43m                                \u001b[49m\u001b[43mparents\u001b[49m\u001b[38;5;241;43m=\u001b[39;49m\u001b[43mnewparents\u001b[49m\u001b[43m,\u001b[49m\n\u001b[1;32m    480\u001b[0m \u001b[43m                                \u001b[49m\u001b[43minput_params\u001b[49m\u001b[38;5;241;43m=\u001b[39;49m\u001b[43minput_params\u001b[49m\u001b[43m,\u001b[49m\n\u001b[1;32m    481\u001b[0m \u001b[43m                                \u001b[49m\u001b[43mmax_index\u001b[49m\u001b[38;5;241;43m=\u001b[39;49m\u001b[43mmax_index\u001b[49m\u001b[43m)\u001b[49m\n\u001b[1;32m    482\u001b[0m     \u001b[38;5;28;01mexcept\u001b[39;00m InputNotFoundError \u001b[38;5;28;01mas\u001b[39;00m e:\n\u001b[1;32m    483\u001b[0m         log\u001b[38;5;241m.\u001b[39mdebug(\u001b[38;5;124mf\u001b[39m\u001b[38;5;124m\"\u001b[39m\u001b[38;5;124mCan\u001b[39m\u001b[38;5;124m'\u001b[39m\u001b[38;5;124mt satisfy production rule for \u001b[39m\u001b[38;5;132;01m{\u001b[39;00mkey\u001b[38;5;132;01m}\u001b[39;00m\u001b[38;5;124m\"\u001b[39m)\n",
      "File \u001b[0;32m~/Academic_Workspace/NNPDF/nnvortex/lib/python3.10/site-packages/reportengine/configparser.py:358\u001b[0m, in \u001b[0;36mConfig.resolve_signature_params\u001b[0;34m(self, f, start_from, ns, input_params, max_index, parents)\u001b[0m\n\u001b[1;32m    356\u001b[0m \u001b[38;5;28;01mfor\u001b[39;00m pname, param \u001b[38;5;129;01min\u001b[39;00m \u001b[38;5;28mlist\u001b[39m(sig\u001b[38;5;241m.\u001b[39mparameters\u001b[38;5;241m.\u001b[39mitems())[start_from:]:\n\u001b[1;32m    357\u001b[0m     \u001b[38;5;28;01mtry\u001b[39;00m:\n\u001b[0;32m--> 358\u001b[0m         index, pval \u001b[38;5;241m=\u001b[39m \u001b[38;5;28;43mself\u001b[39;49m\u001b[38;5;241;43m.\u001b[39;49m\u001b[43mresolve_key\u001b[49m\u001b[43m(\u001b[49m\u001b[43mpname\u001b[49m\u001b[43m,\u001b[49m\n\u001b[1;32m    359\u001b[0m \u001b[43m                                       \u001b[49m\u001b[43mns\u001b[49m\u001b[43m,\u001b[49m\n\u001b[1;32m    360\u001b[0m \u001b[43m                                       \u001b[49m\u001b[43minput_params\u001b[49m\u001b[38;5;241;43m=\u001b[39;49m\u001b[43m \u001b[49m\u001b[43minput_params\u001b[49m\u001b[43m,\u001b[49m\n\u001b[1;32m    361\u001b[0m \u001b[43m                                       \u001b[49m\u001b[43mmax_index\u001b[49m\u001b[38;5;241;43m=\u001b[39;49m\u001b[43mmax_index\u001b[49m\u001b[43m,\u001b[49m\n\u001b[1;32m    362\u001b[0m \u001b[43m                                       \u001b[49m\u001b[43mparents\u001b[49m\u001b[38;5;241;43m=\u001b[39;49m\u001b[43mparents\u001b[49m\u001b[43m)\u001b[49m\n\u001b[1;32m    363\u001b[0m     \u001b[38;5;28;01mexcept\u001b[39;00m \u001b[38;5;167;01mKeyError\u001b[39;00m:\n\u001b[1;32m    364\u001b[0m         \u001b[38;5;28;01mif\u001b[39;00m param\u001b[38;5;241m.\u001b[39mdefault \u001b[38;5;129;01mis\u001b[39;00m \u001b[38;5;129;01mnot\u001b[39;00m sig\u001b[38;5;241m.\u001b[39mempty:\n",
      "File \u001b[0;32m~/Academic_Workspace/NNPDF/nnvortex/lib/python3.10/site-packages/reportengine/configparser.py:429\u001b[0m, in \u001b[0;36mConfig.resolve_key\u001b[0;34m(self, key, ns, input_params, parents, max_index, write, currspec)\u001b[0m\n\u001b[1;32m    427\u001b[0m     input_params \u001b[38;5;241m=\u001b[39m \u001b[38;5;28mself\u001b[39m\u001b[38;5;241m.\u001b[39minput_params\n\u001b[1;32m    428\u001b[0m \u001b[38;5;28;01mwith\u001b[39;00m \u001b[38;5;28mself\u001b[39m\u001b[38;5;241m.\u001b[39mset_context(key, ns, input_params, parents, currspec):\n\u001b[0;32m--> 429\u001b[0m     \u001b[38;5;28;01mreturn\u001b[39;00m \u001b[38;5;28;43mself\u001b[39;49m\u001b[38;5;241;43m.\u001b[39;49m\u001b[43m_resolve_key\u001b[49m\u001b[43m(\u001b[49m\u001b[43mkey\u001b[49m\u001b[38;5;241;43m=\u001b[39;49m\u001b[43mkey\u001b[49m\u001b[43m,\u001b[49m\u001b[43m \u001b[49m\u001b[43mns\u001b[49m\u001b[38;5;241;43m=\u001b[39;49m\u001b[43mns\u001b[49m\u001b[43m,\u001b[49m\u001b[43m \u001b[49m\u001b[43minput_params\u001b[49m\u001b[38;5;241;43m=\u001b[39;49m\u001b[43minput_params\u001b[49m\u001b[43m,\u001b[49m\n\u001b[1;32m    430\u001b[0m \u001b[43m        \u001b[49m\u001b[43mparents\u001b[49m\u001b[38;5;241;43m=\u001b[39;49m\u001b[43mparents\u001b[49m\u001b[43m,\u001b[49m\u001b[43m \u001b[49m\u001b[43mmax_index\u001b[49m\u001b[38;5;241;43m=\u001b[39;49m\u001b[43mmax_index\u001b[49m\u001b[43m,\u001b[49m\u001b[43m \u001b[49m\u001b[43mwrite\u001b[49m\u001b[38;5;241;43m=\u001b[39;49m\u001b[43mwrite\u001b[49m\u001b[43m)\u001b[49m\n",
      "File \u001b[0;32m~/Academic_Workspace/NNPDF/nnvortex/lib/python3.10/site-packages/reportengine/configparser.py:477\u001b[0m, in \u001b[0;36mConfig._resolve_key\u001b[0;34m(self, key, ns, input_params, parents, max_index, write)\u001b[0m\n\u001b[1;32m    475\u001b[0m \u001b[38;5;28;01mif\u001b[39;00m produce_func:\n\u001b[1;32m    476\u001b[0m     \u001b[38;5;28;01mtry\u001b[39;00m:\n\u001b[0;32m--> 477\u001b[0m         put_index, kwargs \u001b[38;5;241m=\u001b[39m \u001b[38;5;28;43mself\u001b[39;49m\u001b[38;5;241;43m.\u001b[39;49m\u001b[43mresolve_signature_params\u001b[49m\u001b[43m(\u001b[49m\u001b[43mproduce_func\u001b[49m\u001b[43m,\u001b[49m\n\u001b[1;32m    478\u001b[0m \u001b[43m                                \u001b[49m\u001b[43mstart_from\u001b[49m\u001b[38;5;241;43m=\u001b[39;49m\u001b[38;5;241;43m0\u001b[39;49m\u001b[43m \u001b[49m\u001b[43m,\u001b[49m\u001b[43mns\u001b[49m\u001b[38;5;241;43m=\u001b[39;49m\u001b[43mns\u001b[49m\u001b[43m,\u001b[49m\n\u001b[1;32m    479\u001b[0m \u001b[43m                                \u001b[49m\u001b[43mparents\u001b[49m\u001b[38;5;241;43m=\u001b[39;49m\u001b[43mnewparents\u001b[49m\u001b[43m,\u001b[49m\n\u001b[1;32m    480\u001b[0m \u001b[43m                                \u001b[49m\u001b[43minput_params\u001b[49m\u001b[38;5;241;43m=\u001b[39;49m\u001b[43minput_params\u001b[49m\u001b[43m,\u001b[49m\n\u001b[1;32m    481\u001b[0m \u001b[43m                                \u001b[49m\u001b[43mmax_index\u001b[49m\u001b[38;5;241;43m=\u001b[39;49m\u001b[43mmax_index\u001b[49m\u001b[43m)\u001b[49m\n\u001b[1;32m    482\u001b[0m     \u001b[38;5;28;01mexcept\u001b[39;00m InputNotFoundError \u001b[38;5;28;01mas\u001b[39;00m e:\n\u001b[1;32m    483\u001b[0m         log\u001b[38;5;241m.\u001b[39mdebug(\u001b[38;5;124mf\u001b[39m\u001b[38;5;124m\"\u001b[39m\u001b[38;5;124mCan\u001b[39m\u001b[38;5;124m'\u001b[39m\u001b[38;5;124mt satisfy production rule for \u001b[39m\u001b[38;5;132;01m{\u001b[39;00mkey\u001b[38;5;132;01m}\u001b[39;00m\u001b[38;5;124m\"\u001b[39m)\n",
      "File \u001b[0;32m~/Academic_Workspace/NNPDF/nnvortex/lib/python3.10/site-packages/reportengine/configparser.py:358\u001b[0m, in \u001b[0;36mConfig.resolve_signature_params\u001b[0;34m(self, f, start_from, ns, input_params, max_index, parents)\u001b[0m\n\u001b[1;32m    356\u001b[0m \u001b[38;5;28;01mfor\u001b[39;00m pname, param \u001b[38;5;129;01min\u001b[39;00m \u001b[38;5;28mlist\u001b[39m(sig\u001b[38;5;241m.\u001b[39mparameters\u001b[38;5;241m.\u001b[39mitems())[start_from:]:\n\u001b[1;32m    357\u001b[0m     \u001b[38;5;28;01mtry\u001b[39;00m:\n\u001b[0;32m--> 358\u001b[0m         index, pval \u001b[38;5;241m=\u001b[39m \u001b[38;5;28;43mself\u001b[39;49m\u001b[38;5;241;43m.\u001b[39;49m\u001b[43mresolve_key\u001b[49m\u001b[43m(\u001b[49m\u001b[43mpname\u001b[49m\u001b[43m,\u001b[49m\n\u001b[1;32m    359\u001b[0m \u001b[43m                                       \u001b[49m\u001b[43mns\u001b[49m\u001b[43m,\u001b[49m\n\u001b[1;32m    360\u001b[0m \u001b[43m                                       \u001b[49m\u001b[43minput_params\u001b[49m\u001b[38;5;241;43m=\u001b[39;49m\u001b[43m \u001b[49m\u001b[43minput_params\u001b[49m\u001b[43m,\u001b[49m\n\u001b[1;32m    361\u001b[0m \u001b[43m                                       \u001b[49m\u001b[43mmax_index\u001b[49m\u001b[38;5;241;43m=\u001b[39;49m\u001b[43mmax_index\u001b[49m\u001b[43m,\u001b[49m\n\u001b[1;32m    362\u001b[0m \u001b[43m                                       \u001b[49m\u001b[43mparents\u001b[49m\u001b[38;5;241;43m=\u001b[39;49m\u001b[43mparents\u001b[49m\u001b[43m)\u001b[49m\n\u001b[1;32m    363\u001b[0m     \u001b[38;5;28;01mexcept\u001b[39;00m \u001b[38;5;167;01mKeyError\u001b[39;00m:\n\u001b[1;32m    364\u001b[0m         \u001b[38;5;28;01mif\u001b[39;00m param\u001b[38;5;241m.\u001b[39mdefault \u001b[38;5;129;01mis\u001b[39;00m \u001b[38;5;129;01mnot\u001b[39;00m sig\u001b[38;5;241m.\u001b[39mempty:\n",
      "File \u001b[0;32m~/Academic_Workspace/NNPDF/nnvortex/lib/python3.10/site-packages/reportengine/configparser.py:429\u001b[0m, in \u001b[0;36mConfig.resolve_key\u001b[0;34m(self, key, ns, input_params, parents, max_index, write, currspec)\u001b[0m\n\u001b[1;32m    427\u001b[0m     input_params \u001b[38;5;241m=\u001b[39m \u001b[38;5;28mself\u001b[39m\u001b[38;5;241m.\u001b[39minput_params\n\u001b[1;32m    428\u001b[0m \u001b[38;5;28;01mwith\u001b[39;00m \u001b[38;5;28mself\u001b[39m\u001b[38;5;241m.\u001b[39mset_context(key, ns, input_params, parents, currspec):\n\u001b[0;32m--> 429\u001b[0m     \u001b[38;5;28;01mreturn\u001b[39;00m \u001b[38;5;28;43mself\u001b[39;49m\u001b[38;5;241;43m.\u001b[39;49m\u001b[43m_resolve_key\u001b[49m\u001b[43m(\u001b[49m\u001b[43mkey\u001b[49m\u001b[38;5;241;43m=\u001b[39;49m\u001b[43mkey\u001b[49m\u001b[43m,\u001b[49m\u001b[43m \u001b[49m\u001b[43mns\u001b[49m\u001b[38;5;241;43m=\u001b[39;49m\u001b[43mns\u001b[49m\u001b[43m,\u001b[49m\u001b[43m \u001b[49m\u001b[43minput_params\u001b[49m\u001b[38;5;241;43m=\u001b[39;49m\u001b[43minput_params\u001b[49m\u001b[43m,\u001b[49m\n\u001b[1;32m    430\u001b[0m \u001b[43m        \u001b[49m\u001b[43mparents\u001b[49m\u001b[38;5;241;43m=\u001b[39;49m\u001b[43mparents\u001b[49m\u001b[43m,\u001b[49m\u001b[43m \u001b[49m\u001b[43mmax_index\u001b[49m\u001b[38;5;241;43m=\u001b[39;49m\u001b[43mmax_index\u001b[49m\u001b[43m,\u001b[49m\u001b[43m \u001b[49m\u001b[43mwrite\u001b[49m\u001b[38;5;241;43m=\u001b[39;49m\u001b[43mwrite\u001b[49m\u001b[43m)\u001b[49m\n",
      "File \u001b[0;32m~/Academic_Workspace/NNPDF/nnvortex/lib/python3.10/site-packages/reportengine/configparser.py:491\u001b[0m, in \u001b[0;36mConfig._resolve_key\u001b[0;34m(self, key, ns, input_params, parents, max_index, write)\u001b[0m\n\u001b[1;32m    488\u001b[0m     \u001b[38;5;28;01mreturn\u001b[39;00m nsindex, nsval\n\u001b[1;32m    490\u001b[0m \u001b[38;5;28mself\u001b[39m\u001b[38;5;241m.\u001b[39m_tainted \u001b[38;5;241m=\u001b[39m \u001b[38;5;28;01mFalse\u001b[39;00m\n\u001b[0;32m--> 491\u001b[0m val \u001b[38;5;241m=\u001b[39m \u001b[43mproduce_func\u001b[49m\u001b[43m(\u001b[49m\u001b[38;5;241;43m*\u001b[39;49m\u001b[38;5;241;43m*\u001b[39;49m\u001b[43mkwargs\u001b[49m\u001b[43m)\u001b[49m\n\u001b[1;32m    492\u001b[0m \u001b[38;5;28;01mif\u001b[39;00m \u001b[38;5;28mself\u001b[39m\u001b[38;5;241m.\u001b[39m_tainted:\n\u001b[1;32m    493\u001b[0m     put_index \u001b[38;5;241m=\u001b[39m \u001b[38;5;241m0\u001b[39m\n",
      "File \u001b[0;32m~/Academic_Workspace/NNPDF/src/nnpdf/validphys2/src/validphys/config.py:470\u001b[0m, in \u001b[0;36mCoreConfig.produce_commondata\u001b[0;34m(self, dataset_input, use_fitcommondata, fit)\u001b[0m\n\u001b[1;32m    463\u001b[0m     \u001b[38;5;28;01mreturn\u001b[39;00m \u001b[38;5;28mself\u001b[39m\u001b[38;5;241m.\u001b[39mloader\u001b[38;5;241m.\u001b[39mcheck_commondata(\n\u001b[1;32m    464\u001b[0m         setname\u001b[38;5;241m=\u001b[39mname,\n\u001b[1;32m    465\u001b[0m         sysnum\u001b[38;5;241m=\u001b[39msysnum,\n\u001b[1;32m    466\u001b[0m         use_fitcommondata\u001b[38;5;241m=\u001b[39muse_fitcommondata,\n\u001b[1;32m    467\u001b[0m         fit\u001b[38;5;241m=\u001b[39mfit,\n\u001b[1;32m    468\u001b[0m     )\n\u001b[1;32m    469\u001b[0m \u001b[38;5;28;01mexcept\u001b[39;00m DataNotFoundError \u001b[38;5;28;01mas\u001b[39;00m e:\n\u001b[0;32m--> 470\u001b[0m     \u001b[38;5;28;01mraise\u001b[39;00m ConfigError(\u001b[38;5;28mstr\u001b[39m(e), name, \u001b[38;5;28mself\u001b[39m\u001b[38;5;241m.\u001b[39mloader\u001b[38;5;241m.\u001b[39mavailable_datasets) \u001b[38;5;28;01mfrom\u001b[39;00m \u001b[38;5;21;01me\u001b[39;00m\n\u001b[1;32m    471\u001b[0m \u001b[38;5;28;01mexcept\u001b[39;00m LoadFailedError \u001b[38;5;28;01mas\u001b[39;00m e:\n\u001b[1;32m    472\u001b[0m     \u001b[38;5;28;01mraise\u001b[39;00m ConfigError(e) \u001b[38;5;28;01mfrom\u001b[39;00m \u001b[38;5;21;01me\u001b[39;00m\n",
      "\u001b[0;31mConfigError\u001b[0m: Could not find Commondata set: 'CMSTOPDIFF8TEVTPTNORM'. File '/Users/jumax9/Academic_Workspace/NNPDF/nnvortex/share/NNPDF/data/commondata/DATA_CMSTOPDIFF8TEVTPTNORM.dat' does not exist.\nInstead of 'CMSTOPDIFF8TEVTPTNORM', did you mean one of the following?\n - CMSTOPDIFF8TEVTTMNORM\n - CMSTOPDIFF8TEVTRAPNORM\n - CMSTOPDIFF8TEVTTRAPNORM"
     ]
    }
   ],
   "source": [
    "datasets = {\n",
    "    \"CMS_1JET_13TEV_DIF_R04\" : None,\n",
    "    \"CMS_1JET_13TEV_DIF_R07\" : None,\n",
    "    \"CMS_TTBAR_13TEV_2L_DIF_MTTBAR\" : \"CMS_TTB_DIFF_13TEV_2016_2L_TTM\",\n",
    "    \"CMS_TTBAR_13TEV_2L_DIF_MTTBAR-NORM\" : \"CMS_TTB_DIFF_13TEV_2016_2L_TTMNORM\",\n",
    "    \"CMS_TTBAR_13TEV_2L_DIF_PTT\" : \"CMS_TTB_DIFF_13TEV_2016_2L_TPT\",\n",
    "    \"CMS_TTBAR_13TEV_2L_DIF_PTT-NORM\" : \"CMS_TTB_DIFF_13TEV_2016_2L_TPTNORM\",\n",
    "    \"CMS_TTBAR_13TEV_2L_DIF_YT\" : \"CMS_TTB_DIFF_13TEV_2016_2L_TRAP\",\n",
    "    \"CMS_TTBAR_13TEV_2L_DIF_YT-NORM\" : \"CMS_TTB_DIFF_13TEV_2016_2L_TRAPNORM\",\n",
    "    \"CMS_TTBAR_13TEV_2L_DIF_YTTBAR\" : \"CMS_TTB_DIFF_13TEV_2016_2L_TTRAP\",\n",
    "    \"CMS_TTBAR_13TEV_2L_DIF_YTTBAR-NORM\" : \"CMS_TTB_DIFF_13TEV_2016_2L_TTRAPNORM\",\n",
    "    \"CMS_TTBAR_13TEV_LJ_DIF_MTTBAR\" : None,\n",
    "    \"CMS_TTBAR_13TEV_LJ_DIF_MTTBAR-NORM\" : None,\n",
    "    \"CMS_TTBAR_13TEV_LJ_DIF_YTTBAR\" : None,\n",
    "    \"CMS_TTBAR_13TEV_LJ_DIF_YTTBAR-NORM\" : None,\n",
    "    \"CMS_TTBAR_13TEV_LJ_DIF_PTT\" : None,\n",
    "    \"CMS_TTBAR_13TEV_LJ_DIF_PTT-NORM\" : None,\n",
    "    \"CMS_TTBAR_13TEV_LJ_DIF_YT\" : None,\n",
    "    \"CMS_TTBAR_13TEV_LJ_DIF_YT-NORM\" : None,\n",
    "    \"CMS_TTBAR_13TEV_LJ_DIF_MTTBAR-YTTBAR\" : None,\n",
    "    \"CMS_TTBAR_13TEV_LJ_DIF_MTTBAR-YTTBAR-NORM\" : None,\n",
    "    \"CMS_TTBAR_13TEV_TOT_X-SEC\" : \"CMSTTBARTOT13TEV\",\n",
    "    \"CMS_TTBAR_5TEV_TOT_X-SEC\" : \"CMSTTBARTOT5TEV\",\n",
    "    \"CMS_TTBAR_7TEV_TOT_X-SEC\" : \"CMSTTBARTOT7TEV\",\n",
    "    \"CMS_TTBAR_8TEV_2L_DIF_PTT-YT-NORM\" : \"CMS_TTBAR_2D_DIFF_PT_TRAP_NORM\",\n",
    "    \"CMS_TTBAR_8TEV_2L_DIF_MTTBAR-YT-NORM\" : \"CMS_TTBAR_2D_DIFF_MTT_TRAP_NORM\",\n",
    "    \"CMS_TTBAR_8TEV_2L_DIF_MTTBAR-YTTBAR-NORM\" : \"CMS_TTBAR_2D_DIFF_MTT_TTRAP_NORM\",\n",
    "    \"CMS_TTBAR_8TEV_LJ_DIF_MTTBAR-NORM\" : \"CMSTOPDIFF8TEVTTMNORM\",\n",
    "    \"CMS_TTBAR_8TEV_LJ_DIF_PTT-NORM\" : \"CMSTOPDIFF8TEVTPTNORM\",\n",
    "    \"CMS_TTBAR_8TEV_LJ_DIF_YT-NORM\" : \"CMSTOPDIFF8TEVTRAPNORM\",\n",
    "    \"CMS_TTBAR_8TEV_LJ_DIF_YTTBAR-NORM\" : \"CMSTOPDIFF8TEVTTRAPNORM\",\n",
    "    \"CMS_TTBAR_8TEV_TOT_X-SEC\" : \"CMSTTBARTOT8TEV\",\n",
    "}\n",
    "\n",
    "res = test_group(datasets, nofail=False, only_reader=False, skip=18)"
   ]
  },
  {
   "cell_type": "code",
   "execution_count": null,
   "id": "ac586aa7",
   "metadata": {},
   "outputs": [],
   "source": []
  },
  {
   "cell_type": "markdown",
   "id": "7525067a",
   "metadata": {},
   "source": [
    "# DIS data"
   ]
  },
  {
   "cell_type": "code",
   "execution_count": null,
   "id": "a363cdfd",
   "metadata": {
    "scrolled": true
   },
   "outputs": [],
   "source": [
    "datasets = {\n",
    "    \"H1_1JET_319GEV_290PB-1_DIF_Q2PT\" : None,\n",
    "    \"H1_1JET_319GEV_290PB-1_DIF_Q2PT-NORM\" : None,\n",
    "    \"H1_1JET_319GEV_290PB-1_DIF_HIGH-Q2PT\" : None,\n",
    "    \"H1_1JET_319GEV_290PB-1_DIF_HIGH-Q2PT-NORM\" : None,\n",
    "    \"H1_1JET_319GEV_351PB-1_DIF_Q2PT\" : None,\n",
    "    \"H1_1JET_319GEV_351PB-1_DIF_Q2PT-NORM\" : None,\n",
    "    \"H1_2JET_319GEV_290PB-1_DIF_Q2PT\" : None,\n",
    "    \"H1_2JET_319GEV_290PB-1_DIF_Q2PT-NORM\" : None,\n",
    "    \"H1_2JET_319GEV_351PB-1_DIF_Q2PT\" : None,\n",
    "    \"H1_2JET_319GEV_351PB-1_DIF_Q2PT-NORM\" : None,\n",
    "    \"ZEUS_1JET_300GEV_38P6PB-1_DIF_Q2ET\" : None,\n",
    "    \"ZEUS_1JET_319GEV_82PB-1_DIF_Q2ET\" : None,\n",
    "    \"ZEUS_2JET_319GEV_374PB-1_DIF_Q2ET\" : None,\n",
    "}\n",
    "\n",
    "res = test_group(datasets, nofail=True, only_reader=False, skip=None)"
   ]
  },
  {
   "cell_type": "markdown",
   "id": "18beecf0",
   "metadata": {},
   "source": [
    "## CMS ttbar\n",
    "\n",
    "These datasets can be found in the `more_efficient_metadata_for_new_commondata` branch [#1684](https://github.com/NNPDF/nnpdf/pull/1684)"
   ]
  },
  {
   "cell_type": "code",
   "execution_count": null,
   "id": "d2852f43",
   "metadata": {},
   "outputs": [],
   "source": [
    "datasets = {\n",
    "    \"CMSTOPDIFF8TEVTTRAPNORM\":  \"CMS_TTBAR_8TEV_LJ_DIF_YTTBAR-NORM\",\n",
    "}\n",
    "\n",
    "#res = test_group(datasets, nofail=False)"
   ]
  },
  {
   "cell_type": "code",
   "execution_count": null,
   "id": "05081095",
   "metadata": {},
   "outputs": [],
   "source": []
  }
 ],
 "metadata": {
  "kernelspec": {
   "display_name": "Python 3 (ipykernel)",
   "language": "python",
   "name": "python3"
  },
  "language_info": {
   "codemirror_mode": {
    "name": "ipython",
    "version": 3
   },
   "file_extension": ".py",
   "mimetype": "text/x-python",
   "name": "python",
   "nbconvert_exporter": "python",
   "pygments_lexer": "ipython3",
   "version": "3.10.13"
  }
 },
 "nbformat": 4,
 "nbformat_minor": 5
}
