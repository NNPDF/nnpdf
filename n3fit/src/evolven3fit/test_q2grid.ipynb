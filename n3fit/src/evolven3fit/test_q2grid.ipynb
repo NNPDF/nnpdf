{
 "cells": [
  {
   "cell_type": "code",
   "execution_count": 101,
   "id": "6dde2570",
   "metadata": {},
   "outputs": [
    {
     "name": "stdout",
     "output_type": "stream",
     "text": [
      "The autoreload extension is already loaded. To reload it, use:\n",
      "  %reload_ext autoreload\n"
     ]
    }
   ],
   "source": [
    "%load_ext autoreload\n",
    "%autoreload 2\n",
    "\n",
    "import yaml\n",
    "import numpy as np\n",
    "\n",
    "import utils\n",
    "\n",
    "from q2grids_default import Q2GRID_DEFAULT, Q2GRID_NNPDF40, Q2GRID_IC\n"
   ]
  },
  {
   "cell_type": "code",
   "execution_count": null,
   "id": "1f09f814",
   "metadata": {},
   "outputs": [
    {
     "name": "stdout",
     "output_type": "stream",
     "text": [
      "{'ID': 41000000, 'Comments': 'NNPDF4.1 NNLO QCD-only', 'PTO': 0, 'FNS': 'FONLL-C', 'DAMP': 0, 'IC': 1, 'Q0': 1.65, 'ModEv': 'EXA', 'IterEv': 60, 'XIR': 1.0, 'XIF': 1.0, 'NfFF': 5, 'QED': 0, 'HQ': 'POLE', 'mc': 1.502, 'Qmc': 1.502, 'kcThr': 1.0, 'mb': 4.936, 'Qmb': 4.936, 'kbThr': 1.0, 'mt': 172.5, 'Qmt': 172.5, 'ktThr': 1.0, 'CKM': [0.97367, 0.22431, 0.00382, 0.221, 0.975, 0.0411, 0.0086, 0.0415, 1.01], 'MZ': 91.188, 'MW': 80.3692, 'GF': 1.1663788e-05, 'SIN2TW': 0.22348, 'TMC': 1, 'MP': 0.938, 'Qref': 91.188, 'alphas': 0.118, 'alphaqed': 0.00757}\n",
      "{'mc': 1.502, 'mb': 4.936}\n"
     ]
    }
   ],
   "source": [
    "with open(\"../../../nnpdf_data/nnpdf_data/theory_cards/41000000.yaml\") as card:\n",
    "    theory = yaml.safe_load(card)\n",
    "\n",
    "print(theory)\n",
    "\n",
    "match_dict = {\n",
    "            \"mc\": theory[\"mc\"],\n",
    "            \"mb\": theory[\"mb\"],\n",
    "            \n",
    "        }"
   ]
  },
  {
   "cell_type": "code",
   "execution_count": 103,
   "id": "9bc6cff2",
   "metadata": {},
   "outputs": [
    {
     "name": "stdout",
     "output_type": "stream",
     "text": [
      "[1.00000000e+00 1.07595458e+00 1.16216253e+00 1.26039729e+00\n",
      " 1.37280564e+00 1.50200000e+00 1.65000000e+00 1.78778696e+00\n",
      " 1.94369443e+00 2.12072101e+00 2.32245872e+00 2.55322898e+00\n",
      " 2.81825387e+00 3.12387295e+00 3.47781913e+00 3.88957158e+00\n",
      " 4.37080967e+00 4.93600000e+00 5.56763067e+00 6.31068915e+00\n",
      " 7.18918206e+00 8.23317151e+00 9.48051814e+00 1.09791869e+01\n",
      " 1.27903174e+01 1.49923383e+01 1.76865201e+01 2.10045223e+01\n",
      " 2.51187247e+01 3.02564807e+01 3.67199332e+01 4.49137906e+01\n",
      " 5.53845867e+01 6.88766583e+01 8.64126792e+01 1.09410607e+02\n",
      " 1.39855150e+02 1.80551704e+02 2.35506317e+02 3.10500383e+02\n",
      " 4.13969543e+02 5.58363428e+02 7.62274548e+02 1.05381293e+03\n",
      " 1.47602459e+03 2.09570836e+03 3.01796185e+03 4.41052599e+03\n",
      " 6.54513901e+03 9.86887709e+03 1.51292134e+04 2.35969216e+04\n",
      " 3.74702955e+04 6.06214388e+04 1.00000000e+05] [1.0000000e+00 1.0768843e+00 1.1642787e+00 1.2640247e+00 1.3783565e+00\n",
      " 1.5100000e+00 1.6500000e+00 1.7874388e+00 1.9429053e+00 2.1193749e+00\n",
      " 2.3204100e+00 2.5502944e+00 2.8142025e+00 3.1184122e+00 3.4705775e+00\n",
      " 3.8800751e+00 4.3584516e+00 4.9200000e+00 5.5493622e+00 6.2897452e+00\n",
      " 7.1650687e+00 8.2052867e+00 9.4481248e+00 1.0941378e+01 1.2745972e+01\n",
      " 1.4940062e+01 1.7624572e+01 2.0930715e+01 2.5030298e+01 3.0149928e+01\n",
      " 3.6590777e+01 4.4756282e+01 5.5191298e+01 6.8637940e+01 8.6115921e+01\n",
      " 1.0903923e+02 1.3938725e+02 1.7995815e+02 2.3474820e+02 3.0952544e+02\n",
      " 4.1270732e+02 5.5671861e+02 7.6011795e+02 1.0509694e+03 1.4722574e+03\n",
      " 2.0906996e+03 3.0112909e+03 4.4016501e+03 6.5333918e+03 9.8535186e+03\n",
      " 1.5109614e+04 2.3573066e+04 3.7444017e+04 6.0599320e+04 1.0000000e+05]\n"
     ]
    }
   ],
   "source": [
    "grid = utils.generate_q2grid(1.65, None, None, match_dict, legacy40=False)\n",
    "print(grid, np.sqrt(Q2GRID_DEFAULT))\n"
   ]
  },
  {
   "cell_type": "code",
   "execution_count": 104,
   "id": "0c89bb86",
   "metadata": {},
   "outputs": [
    {
     "data": {
      "text/plain": [
       "True"
      ]
     },
     "execution_count": 104,
     "metadata": {},
     "output_type": "execute_result"
    }
   ],
   "source": [
    "np.allclose(grid, Q2GRID_DEFAULT, rtol=1)"
   ]
  },
  {
   "cell_type": "code",
   "execution_count": null,
   "id": "326509d9",
   "metadata": {},
   "outputs": [],
   "source": []
  },
  {
   "cell_type": "code",
   "execution_count": null,
   "id": "666cade1",
   "metadata": {},
   "outputs": [],
   "source": []
  }
 ],
 "metadata": {
  "kernelspec": {
   "display_name": "nnpdf",
   "language": "python",
   "name": "python3"
  },
  "language_info": {
   "codemirror_mode": {
    "name": "ipython",
    "version": 3
   },
   "file_extension": ".py",
   "mimetype": "text/x-python",
   "name": "python",
   "nbconvert_exporter": "python",
   "pygments_lexer": "ipython3",
   "version": "3.11.0"
  }
 },
 "nbformat": 4,
 "nbformat_minor": 5
}
